{
 "cells": [
  {
   "cell_type": "code",
   "execution_count": null,
   "metadata": {},
   "outputs": [],
   "source": [
    "pip install webdriver_manager"
   ]
  },
  {
   "cell_type": "code",
   "execution_count": null,
   "metadata": {},
   "outputs": [],
   "source": [
    "from selenium import webdriver\n",
    "from selenium.webdriver.chrome.service import Service\n",
    "from webdriver_manager.chrome import ChromeDriverManager\n",
    "from selenium.webdriver.common.by import By\n",
    "from selenium.webdriver.common.keys import Keys\n",
    "# the following two import statements provide the implemetation for Selenium Waits\n",
    "from selenium.webdriver.support.ui import WebDriverWait\n",
    "from selenium.webdriver.support import expected_conditions as EC\n",
    "\n",
    "from bs4 import BeautifulSoup\n",
    "\n",
    "import pandas as pd\n",
    "\n",
    "s = Service(ChromeDriverManager().install())\n",
    "driver = webdriver.Chrome(service=s)"
   ]
  },
  {
   "cell_type": "code",
   "execution_count": null,
   "metadata": {},
   "outputs": [],
   "source": [
    "# import pandas and plotly\n",
    " \n",
    "import plotly.express as px\n",
    "import plotly.graph_objects as go\n",
    "import pandas as pd\n",
    "from jupyter_dash import JupyterDash\n",
    "from dash import html, dcc \n",
    "from dash.dependencies import Input, Output\n",
    "from dash.exceptions import PreventUpdate\n",
    "import plotly.express as px\n",
    "from urllib.request import urlopen\n",
    "# run Dash apps from within Jupyter Notebook environments\n",
    "from jupyter_dash import JupyterDash\n",
    "# imports\n",
    "from dash import html, dcc, Dash\n",
    "import numpy as np\n",
    "import warnings\n",
    "warnings.filterwarnings(\"ignore\")"
   ]
  },
  {
   "cell_type": "markdown",
   "metadata": {},
   "source": []
  },
  {
   "cell_type": "code",
   "execution_count": null,
   "metadata": {},
   "outputs": [],
   "source": [
    "\n",
    "house_link = \"https://www.politico.com/2022-election/results/\"\n",
    "driver.get(house_link)\n"
   ]
  },
  {
   "cell_type": "code",
   "execution_count": null,
   "metadata": {},
   "outputs": [],
   "source": [
    "\n",
    "# Get the page source\n",
    "page_source = driver.page_source\n",
    "\n",
    "# Parse the page source using Beautiful Soup\n",
    "soup = BeautifulSoup(page_source, 'html.parser')\n",
    "\n",
    "# Find the table that contains the list of states\n",
    "container = soup.find('div','styles_columns-container__Kq5vS')\n",
    "\n",
    "# Extract the list of states from the table\n",
    "states = [state.get_text(strip=True) for state in container.find_all('a')]\n",
    "\n",
    "# Print the list of states\n",
    "print(states)\n"
   ]
  },
  {
   "cell_type": "code",
   "execution_count": null,
   "metadata": {},
   "outputs": [],
   "source": [
    "states_link = [state.replace(' ', '-') for state in states]"
   ]
  },
  {
   "cell_type": "code",
   "execution_count": null,
   "metadata": {},
   "outputs": [],
   "source": [
    "print (states_link)"
   ]
  },
  {
   "cell_type": "code",
   "execution_count": null,
   "metadata": {},
   "outputs": [],
   "source": [
    "import pandas\n",
    "\n",
    "df = pd.DataFrame(columns=['Candidate', 'Party', 'Votes', 'Pct%','State', 'District'])"
   ]
  },
  {
   "cell_type": "code",
   "execution_count": null,
   "metadata": {},
   "outputs": [],
   "source": [
    "df"
   ]
  },
  {
   "cell_type": "code",
   "execution_count": null,
   "metadata": {},
   "outputs": [],
   "source": [
    "#this code spends lot of time to run\n",
    "count=0\n",
    "final_results = {}\n",
    "\n",
    "for index, link in enumerate(states_link):\n",
    "    print(index, 'Loading Data for', states[index])\n",
    "    result = {}\n",
    "    driver.get(house_link + str(link.lower())+'/house/')\n",
    "    try:\n",
    "        buttons = WebDriverWait(driver, 10).until(EC.presence_of_all_elements_located((By.CSS_SELECTOR, '[title=\"Expand\"]')))\n",
    "        buttons = driver.find_elements(By.CSS_SELECTOR, '[title=\"Expand\"]')\n",
    "        print(' -----',len(buttons), 'button found.')\n",
    "        for button in buttons:\n",
    "            button.click() \n",
    "            print(states[index], button.text, 'clicked')\n",
    "        buttons = WebDriverWait(driver, 10).until(EC.presence_of_all_elements_located((By.CSS_SELECTOR, '[title=\"Expand\"]')))\n",
    "        buttons = driver.find_elements(By.CSS_SELECTOR, '[title=\"Expand\"]')\n",
    "        print(' -----',len(buttons), 'button found.')\n",
    "        for button in buttons:\n",
    "            button.click() \n",
    "            print(states[index], button.text, 'clicked')\n",
    "    except:\n",
    "        print(states[index],'no button found')\n",
    "    # start scraping districts\n",
    "    soup = BeautifulSoup(driver.page_source, 'html.parser')\n",
    "\n",
    "    #print(soup)\n",
    "\n",
    "    container = soup.find('div',{'class':'styles_table-container__vTHda'})\n",
    "\n",
    "    districts = container.find_all('h5')\n",
    "\n",
    "    districts = [district.get_text(strip=True) for district in districts]\n",
    "\n",
    "\n",
    "    #scrapping candidate\n",
    "    sections = []\n",
    "    sub_list = []\n",
    "    if container.find_all('div',{'class':'styles_left-title__rNUfI'}):\n",
    "        sections = container.find_all('div',{'class':'styles_left-title__rNUfI'})\n",
    "    \n",
    "    \n",
    "    if sections != []:\n",
    "        \n",
    "        for section_index, section in enumerate(sections):\n",
    "            candidates = section.find_all('td')\n",
    "            new_list = []\n",
    "\n",
    "            list1 = [candidate.get_text(strip=True) for candidate in candidates]\n",
    "            for item in list1:\n",
    "                if '(' in item:\n",
    "                    x = item.split('(')\n",
    "                    for y in x:\n",
    "                        new_list.append(y)\n",
    "            \n",
    "                elif item =='':\n",
    "                    new_list.append('0')\n",
    "                    new_list.append('0%')\n",
    "                elif item.replace(',','').isdigit() == False and '%' not in item and item!= 'Uncontested' and item !='':\n",
    "                    new_list.append(item)\n",
    "                    new_list.append('Other Party')\n",
    "                elif 'Uncontested' == item:\n",
    "                    next\n",
    "                \n",
    "                else: new_list.append(item)\n",
    "            \n",
    "            N = 4\n",
    "            temp_list = [new_list[n:n+N] for n in range(0,len(new_list), N)]\n",
    "            for sublist in temp_list:\n",
    "                sublist.append(states[index])\n",
    "                sublist.append(districts[section_index])\n",
    "            sub_list.extend(temp_list)\n",
    "            \n",
    "\n",
    "                    \n",
    "    else: \n",
    "        candidates = container.find_all('td')\n",
    "        list1 = [candidate.get_text(strip=True) for candidate in candidates]\n",
    "        new_list = []\n",
    "        for item in list1:\n",
    "            if '(' in item:\n",
    "                x = item.split('(')\n",
    "                for y in x:\n",
    "                    new_list.append(y)\n",
    "            elif item =='':\n",
    "                new_list.append('0')\n",
    "                new_list.append('0.00%')\n",
    "            elif item.replace(',','').isdigit() == False and '%' not in item and item!= 'Uncontested' and item !='':\n",
    "                new_list.append(item)\n",
    "                new_list.append('Other Party')\n",
    "            elif 'Uncontested' == item:\n",
    "                next\n",
    "                \n",
    "            else: new_list.append(item)\n",
    "        \n",
    "        N=4\n",
    "        \n",
    "        sub_list = [new_list[n:n+N] for n in range(0,len(new_list), N)]\n",
    "        for list in sub_list:\n",
    "            list.append(states[index])\n",
    "            list.append('At Large')\n",
    "\n",
    "    new_df = pd.DataFrame(sub_list, columns = df.columns)\n",
    "    df = pd.concat([df, new_df])\n",
    "    \n",
    "\n",
    "    \n",
    "    count += 1\n",
    "    \n",
    "\n",
    "print(count , 'states scraped')\n",
    "\n",
    "    "
   ]
  },
  {
   "cell_type": "code",
   "execution_count": null,
   "metadata": {},
   "outputs": [],
   "source": [
    "df"
   ]
  },
  {
   "cell_type": "code",
   "execution_count": null,
   "metadata": {},
   "outputs": [],
   "source": [
    "df = df[df['Candidate'] != 'Hide other candidates']"
   ]
  },
  {
   "cell_type": "code",
   "execution_count": null,
   "metadata": {},
   "outputs": [],
   "source": [
    "incumbent = ['Incumbent' if '*' in candidate else '/' for candidate in df['Candidate']]\n",
    "df['Incumbent'] = incumbent"
   ]
  },
  {
   "cell_type": "code",
   "execution_count": null,
   "metadata": {},
   "outputs": [],
   "source": [
    "df['Party'] = df['Party'].replace('\\)','',regex=True)"
   ]
  },
  {
   "cell_type": "code",
   "execution_count": null,
   "metadata": {},
   "outputs": [],
   "source": [
    "df"
   ]
  },
  {
   "cell_type": "code",
   "execution_count": null,
   "metadata": {},
   "outputs": [],
   "source": [
    "party_dict = {'R': 'Republician', 'D': 'Democratic', 'Ind.': 'Independent Party'}\n",
    "df['Party'] = df['Party'].replace(party_dict)"
   ]
  },
  {
   "cell_type": "code",
   "execution_count": null,
   "metadata": {},
   "outputs": [],
   "source": [
    "us_state_to_code = {\n",
    "            \"Alabama\": \"AL\",\n",
    "            \"Alaska\": \"AK\",\n",
    "            \"Arizona\": \"AZ\",\n",
    "            \"Arkansas\": \"AR\",\n",
    "            \"California\": \"CA\",\n",
    "            \"Colorado\": \"CO\",\n",
    "            \"Connecticut\": \"CT\",\n",
    "            \"Delaware\": \"DE\",\n",
    "            \"Florida\": \"FL\",\n",
    "            \"Georgia\": \"GA\",\n",
    "            \"Hawaii\": \"HI\",\n",
    "            \"Idaho\": \"ID\",\n",
    "            \"Illinois\": \"IL\",\n",
    "            \"Indiana\": \"IN\",\n",
    "            \"Iowa\": \"IA\",\n",
    "            \"Kansas\": \"KS\",\n",
    "            \"Kentucky\": \"KY\",\n",
    "            \"Louisiana\": \"LA\",\n",
    "            \"Maine\": \"ME\",\n",
    "            \"Maryland\": \"MD\",\n",
    "            \"Massachusetts\": \"MA\",\n",
    "            \"Michigan\": \"MI\",\n",
    "            \"Minnesota\": \"MN\",\n",
    "            \"Mississippi\": \"MS\",\n",
    "            \"Missouri\": \"MO\",\n",
    "            \"Montana\": \"MT\",\n",
    "            \"Nebraska\": \"NE\",\n",
    "            \"Nevada\": \"NV\",\n",
    "            \"New Hampshire\": \"NH\",\n",
    "            \"New Jersey\": \"NJ\",\n",
    "            \"New Mexico\": \"NM\",\n",
    "            \"New York\": \"NY\",\n",
    "            \"North Carolina\": \"NC\",\n",
    "            \"North Dakota\": \"ND\",\n",
    "            \"Ohio\": \"OH\",\n",
    "            \"Oklahoma\": \"OK\",\n",
    "            \"Oregon\": \"OR\",\n",
    "            \"Pennsylvania\": \"PA\",\n",
    "            \"Rhode Island\": \"RI\",\n",
    "            \"South Carolina\": \"SC\",\n",
    "            \"South Dakota\": \"SD\",\n",
    "            \"Tennessee\": \"TN\",\n",
    "            \"Texas\": \"TX\",\n",
    "            \"Utah\": \"UT\",\n",
    "            \"Vermont\": \"VT\",\n",
    "            \"Virginia\": \"VA\",\n",
    "            \"Washington\": \"WA\",\n",
    "            \"West Virginia\": \"WV\",\n",
    "            \"Wisconsin\": \"WI\",\n",
    "            \"Wyoming\": \"WY\",\n",
    "            \"District of Columbia\": \"DC\",\n",
    "            \"American Samoa\": \"AS\",\n",
    "            \"Guam\": \"GU\",\n",
    "            \"Northern Mariana Islands\": \"MP\",\n",
    "            \"Puerto Rico\": \"PR\",\n",
    "            \"United States Minor Outlying Islands\": \"UM\",\n",
    "            \"U.S. Virgin Islands\": \"VI\",\n",
    "        }\n",
    "\n",
    "df['State Code'] = df['State'].map(us_state_to_code)\n",
    "df"
   ]
  },
  {
   "cell_type": "code",
   "execution_count": null,
   "metadata": {},
   "outputs": [],
   "source": [
    "df['Candidate'] = df['Candidate'].replace({'\\*': ''}, regex=True)"
   ]
  },
  {
   "cell_type": "code",
   "execution_count": null,
   "metadata": {},
   "outputs": [],
   "source": [
    "df['Votes'] = df['Votes'].replace({',': ''}, regex=True).astype(int)"
   ]
  },
  {
   "cell_type": "code",
   "execution_count": null,
   "metadata": {},
   "outputs": [],
   "source": [
    "df"
   ]
  },
  {
   "cell_type": "code",
   "execution_count": null,
   "metadata": {},
   "outputs": [],
   "source": [
    "df = df.loc[:, ['State', 'State Code', 'District', 'Party', 'Candidate', 'Incumbent', 'Votes', 'Pct%']]"
   ]
  },
  {
   "cell_type": "code",
   "execution_count": null,
   "metadata": {},
   "outputs": [],
   "source": [
    "df['Elected'] = df.groupby(['State', 'District'])['Votes'].transform(max) == df['Votes']"
   ]
  },
  {
   "cell_type": "code",
   "execution_count": null,
   "metadata": {},
   "outputs": [],
   "source": [
    "df"
   ]
  },
  {
   "cell_type": "code",
   "execution_count": null,
   "metadata": {},
   "outputs": [],
   "source": [
    "party = df['Party'].tolist()"
   ]
  },
  {
   "cell_type": "code",
   "execution_count": null,
   "metadata": {},
   "outputs": [],
   "source": [
    "won = []\n",
    "for index, item in enumerate(party):\n",
    "    get_index= index\n",
    "    won.append(party[index])"
   ]
  },
  {
   "cell_type": "code",
   "execution_count": null,
   "metadata": {},
   "outputs": [],
   "source": [
    "len(won)"
   ]
  },
  {
   "cell_type": "code",
   "execution_count": null,
   "metadata": {},
   "outputs": [],
   "source": [
    "df['Won Party'] = won"
   ]
  },
  {
   "cell_type": "code",
   "execution_count": null,
   "metadata": {},
   "outputs": [],
   "source": [
    "df"
   ]
  },
  {
   "cell_type": "code",
   "execution_count": null,
   "metadata": {},
   "outputs": [],
   "source": [
    "df.to_csv('final_house.csv', index=False)"
   ]
  },
  {
   "cell_type": "code",
   "execution_count": null,
   "metadata": {},
   "outputs": [],
   "source": [
    "#Part2: Building the dash apps\n",
    "# install the needed packages on colab\n",
    "! pip install dash jupyter-dash --quiet"
   ]
  },
  {
   "cell_type": "code",
   "execution_count": null,
   "metadata": {},
   "outputs": [],
   "source": [
    "df = pd.read_csv('final_house.csv')\n"
   ]
  },
  {
   "cell_type": "code",
   "execution_count": null,
   "metadata": {},
   "outputs": [],
   "source": [
    "# keep the first duplicated result and drop the special election\n",
    "df = df.drop_duplicates(subset=['State', 'District','Candidate'], keep='first')"
   ]
  },
  {
   "cell_type": "code",
   "execution_count": null,
   "metadata": {},
   "outputs": [],
   "source": [
    "#Replace incumbent column with 'Yes' or 'No'\n",
    "df['Incumbent'] = df['Incumbent'].replace({'/': 'No', 'Incumbent': 'Yes'})"
   ]
  },
  {
   "cell_type": "code",
   "execution_count": null,
   "metadata": {},
   "outputs": [],
   "source": [
    "#Total seats\n",
    "df_plot = df[df['Elected'] == True]\n",
    "df_plot\n",
    "df_repu = df[(df['Elected'] == True) & (df['Won Party'] == 'Republician')]\n",
    "df_demo = df[(df['Elected'] == True) & (df['Won Party'] == 'Democratic')]\n",
    "df[df['State'] == 'Alabama']"
   ]
  },
  {
   "cell_type": "code",
   "execution_count": null,
   "metadata": {},
   "outputs": [],
   "source": [
    "#creating the dataframe for map\n",
    "df_grouped = df.groupby('State')\n",
    "\n",
    "state_code = df_grouped.apply(lambda x: x['State Code'].iloc[0])\n",
    "Won_party = df_grouped.apply(lambda x: x.loc[x['Elected'], 'Won Party'].value_counts().index[0])\n",
    "\n",
    "rep_num_win_seats = df_grouped.apply(lambda x: (x['Elected'] & (x['Won Party'] == 'Republician')).sum())\n",
    "demo_num_win_seats = df_grouped.apply(lambda x: (x['Elected'] & (x['Won Party'] == 'Democratic')).sum())\n",
    "lib_num_win_seats = df_grouped.apply(lambda x: (x['Elected'] & (x['Won Party'] == 'Libertarian Party')).sum())\n",
    "\n",
    "num_win_seats = df_grouped.apply(lambda x: max(\n",
    "    sum(x['Elected'] & (x['Won Party'] == 'Republician')),\n",
    "    sum(x['Elected'] & (x['Won Party'] == 'Democratic')),\n",
    "    sum(x['Elected'] & (x['Won Party'] == 'Libertarian Party'))\n",
    "))\n",
    "\n",
    "total_seats = df_grouped['District'].nunique()\n",
    "\n",
    "repu_votes_total = df_grouped.apply(lambda x: x.loc[x['Party'] == 'Republician', 'Votes'].sum())\n",
    "demo_votes_total = df_grouped.apply(lambda x: x.loc[x['Party'] == 'Democratic', 'Votes'].sum())\n",
    "liber_votes_total = df_grouped.apply(lambda x: x.loc[x['Party'] == 'Libertarian Party', 'Votes'].sum())\n",
    "other_votes_total = df_grouped.apply(lambda x: x.loc[x['Party'] == 'Other Party', 'Votes'].sum())\n",
    "green_votes_total = df_grouped.apply(lambda x: x.loc[x['Party'] == 'Green Party', 'Votes'].sum())\n",
    "ind_votes_total = df_grouped.apply(lambda x: x.loc[x['Party'] == 'Independent Party', 'Votes'].sum())\n",
    "\n",
    "repu_win_rate = rep_num_win_seats / total_seats\n",
    "\n",
    "final_df = pd.DataFrame({\n",
    "    'State': Won_party.index,\n",
    "    'State Code': state_code.values,\n",
    "    'Won Party': Won_party.values,\n",
    "    'Won Seats': num_win_seats.values,\n",
    "    'Total Seats': total_seats.values,\n",
    "    'Republican Votes': repu_votes_total.values,\n",
    "    'Democratic Votes': demo_votes_total.values,\n",
    "    'Libertarian Party Votes': liber_votes_total.values,\n",
    "    'Green Party Votes': green_votes_total.values,\n",
    "    'Independent Party Votes': ind_votes_total.values,\n",
    "    'Other Party Votes': other_votes_total.values,\n",
    "    'Rep won seats %': repu_win_rate.values,\n",
    "})\n",
    "\n",
    "final_df['Rep won seats %'] = final_df['Rep won seats %'] *100\n",
    "final_df"
   ]
  },
  {
   "cell_type": "code",
   "execution_count": null,
   "metadata": {},
   "outputs": [],
   "source": [
    "#datasets for bar chart1\n",
    "partyvotes_df = df.groupby(['State','State Code','Party'])['Votes'].sum()\n",
    "partyvotes_df = partyvotes_df.reset_index()\n",
    "partyvotes_df = partyvotes_df.replace({'Libertarian Party': 'Libertarian', 'Green Party': 'Green', 'Independent Party': 'Independent', 'Other Party': 'Other'})\n",
    "partyvotes_df['color'] = partyvotes_df['Party']\n",
    "partyvotes_df = partyvotes_df.rename(columns={'Party':'Parties'})\n",
    "partyvotes_df"
   ]
  },
  {
   "cell_type": "code",
   "execution_count": null,
   "metadata": {},
   "outputs": [],
   "source": [
    "#datasets for bar chart2\n",
    "dff = df[df['Elected'] == True]\n",
    "districtvotes_df = dff.groupby(['State','State Code','District'])['Votes'].sum()\n",
    "districtvotes_df = districtvotes_df.reset_index()\n",
    "districtvotes_df = pd.merge(districtvotes_df,dff[['State','District','Party','Candidate', 'Incumbent']],on=['State','District'],how='left')\n",
    "districtvotes_df = districtvotes_df.drop_duplicates()\n",
    "districtvotes_df"
   ]
  },
  {
   "cell_type": "code",
   "execution_count": null,
   "metadata": {},
   "outputs": [],
   "source": [
    "\n",
    "fig = px.choropleth(final_df,locations='State Code',locationmode='USA-states',color='Rep won seats %',\n",
    "                    hover_name='State',hover_data=['State Code','Won Party','Won Seats',\n",
    "                                                   'Total Seats','Republican Votes','Democratic Votes',\n",
    "                                                   'Libertarian Party Votes','Independent Party Votes','Green Party Votes','Other Party Votes','Rep won seats %'],\n",
    "                    color_continuous_scale='RdBu_r', range_color=[0,100],scope='usa',projection = 'albers usa')\n",
    "fig.update_layout(height=600,width=800)"
   ]
  },
  {
   "cell_type": "code",
   "execution_count": null,
   "metadata": {},
   "outputs": [],
   "source": [
    "#Extra features: showing candidate with highest votes in each state\n",
    "win_dff = df[df['Elected'] == True]\n",
    "win_dff.loc[win_dff['State'] == 'Missouri', 'Candidate'] = 'Missouri Smith'\n",
    "win_dff.loc[win_dff['State'] == 'Nebraska', 'Candidate'] = 'Nebraska Smith'\n",
    "win_dff.loc[win_dff['State'] == 'New Jersey', 'Candidate'] = 'New Jersey Smith'\n",
    "win_dff_grouped = win_dff.groupby('State').apply(lambda x: x.loc[x['Votes'].idxmax()])\n",
    "win_dff_party = win_dff_grouped[['State','Candidate', 'Party', 'Votes']]\n",
    "bar_chart3 = px.bar(win_dff_party, x='Candidate', y='Votes',hover_name='Candidate',hover_data=['State'],color= 'Party',\n",
    "                    color_discrete_map={'Republician': 'rgb(178,24,43)','Democratic': 'rgb(33,102,172)'},title='The Candidate With Highest Votes In Each State')\n",
    "bar_chart3"
   ]
  },
  {
   "cell_type": "code",
   "execution_count": null,
   "metadata": {},
   "outputs": [],
   "source": [
    "#Extra feature showing all candidates in the district\n",
    "#datasets for bar chart4\n",
    "dff4 = df\n",
    "dff4 = dff4.replace({'Libertarian Party': 'Libertarian', 'Green Party': 'Green', 'Independent Party': 'Independent', 'Other Party': 'Other'})\n",
    "dff4"
   ]
  },
  {
   "cell_type": "code",
   "execution_count": null,
   "metadata": {},
   "outputs": [],
   "source": [
    "#program without extra feature\n",
    "# instantiate a JupyterDash object instead of a Dash object\n",
    "app = JupyterDash(__name__)\n",
    "app.layout = html.Div([html.Div([html.H1(children='US House Election 2022', id=\"heading\"),\n",
    "                       html.Hr()]),\n",
    "                      html.Div([html.P(children=f'Total seats: {len(df_plot)} | Republician won: {len(df_repu)} | Democratic won: {len(df_demo)}',\n",
    "                             style={'font-weight': 'bold'}),\n",
    "                                dcc.Graph(id='us-election-2022-fig', figure=fig,clickData={'points': [{'customdata': ['AL']}]})],\n",
    "                               style={'width': '70%', 'display': 'inline-block', 'padding': '0 20', 'float': 'left'}),\n",
    "                       html.Div([html.P(id ='winning_statement',style={'font-weight': 'bold','font-size': '13px'}),dcc.Graph(id='winning-party-votes',clickData={'points': [{'customdata': ['AL']}]}),dcc.Graph(id='winning-districts-votes')],\n",
    "                               style={'width': '29%', 'display': 'inline-block', 'padding': '0 20', 'float': 'right'})\n",
    "                       \n",
    "                        ])\n",
    "\n",
    "\n",
    "@app.callback(Output('winning_statement','children'),\n",
    "              Output('winning-party-votes','figure'),\n",
    "              Output('winning-districts-votes','figure'),\n",
    "              Input('us-election-2022-fig', 'clickData')) \n",
    "def UsElection(received):\n",
    "    if not received: \n",
    "        raise PreventUpdate\n",
    "    received_data = received['points'][0]['customdata'][0]\n",
    "    won_parties = final_df.loc[final_df['State Code'] == received_data,'Won Party'].values[0]\n",
    "    win_statement = f'Winning Party: {won_parties}'\n",
    "    dff = partyvotes_df[partyvotes_df['State Code'] == received_data]\n",
    "    required_state = df.loc[df['State Code'] == received_data, 'State'].values[0]\n",
    "    bar_chart = px.bar(dff, x='Parties',\n",
    "                         y='Votes',title= f'State: {required_state}',color= 'Parties',hover_data=['color'],\n",
    "                       color_discrete_map={\n",
    "        'Republician': 'rgb(178,24,43)',\n",
    "        'Democratic': 'rgb(33,102,172)',\n",
    "        'Libertarian': 'rgb(253,219,199)',\n",
    "        'Green': 'rgb (0,128,0)',\n",
    "        'Independent': 'rgb(255,255,0)',\n",
    "    },category_orders={'Parties':['Republician','Democratic']})\n",
    "    bar_chart.update_layout(height=300,width=500)\n",
    "    dff2 = districtvotes_df[districtvotes_df['State Code'] == received_data]\n",
    "    bar_chart2 = px.bar(dff2, x='District',\n",
    "                         y='Votes',title=f'Number of district:{len(dff2)}',color= 'Party',color_discrete_map={\n",
    "                             'Republician': 'rgb(178,24,43)',\n",
    "                             'Democratic': 'rgb(33,102,172)'\n",
    "                         },hover_data=['Candidate', 'Incumbent'],category_orders={'Party':['Republician','Democratic']})\n",
    "    bar_chart2.update_layout(height=300,width=500)\n",
    "    return win_statement,bar_chart,bar_chart2\n",
    "    \n",
    "\n",
    "\n",
    "app.run_server(mode='inline', port=8239)"
   ]
  },
  {
   "cell_type": "code",
   "execution_count": null,
   "metadata": {},
   "outputs": [],
   "source": [
    "#with extra features\n",
    "# instantiate a JupyterDash object instead of a Dash object\n",
    "app = JupyterDash(__name__)\n",
    "app.layout = html.Div([html.Div([html.H1(children='US House Election 2022', id=\"heading\"),\n",
    "                       html.Hr()]),\n",
    "                      html.Div([html.P(children=f'Total seats: {len(df_plot)} | Republician won: {len(df_repu)} | Democratic won: {len(df_demo)}',\n",
    "                             style={'font-weight': 'bold'}),\n",
    "                                dcc.Graph(id='us-election-2022-fig', figure=fig,clickData={'points': [{'customdata': ['AL']}]}),\n",
    "                                dcc.Graph(id='winning_candidates',figure=bar_chart3)],\n",
    "                               style={'width': '70%', 'display': 'inline-block', 'padding': '0 20', 'float': 'left'}),\n",
    "                       html.Div([html.P(id ='winning_statement',style={'font-weight': 'bold','font-size': '13px'}),\n",
    "                                 dcc.Graph(id='winning-party-votes'),\n",
    "                                 dcc.Graph(id='winning-districts-votes',clickData={'points': [{'customdata': ['Carl']}]}),\n",
    "                                 dcc.Graph(id='other-candidates')],\n",
    "                               style={'width': '29%', 'display': 'inline-block', 'padding': '0 20', 'float': 'right'})\n",
    "                       \n",
    "                        ])\n",
    "\n",
    "\n",
    "@app.callback(Output('winning_statement','children'),\n",
    "              Output('winning-party-votes','figure'),\n",
    "              Output('winning-districts-votes','figure'),\n",
    "              Input('us-election-2022-fig', 'clickData'))\n",
    "def UsElection(received):\n",
    "    if not received: \n",
    "        raise PreventUpdate\n",
    "    received_data = received['points'][0]['customdata'][0]\n",
    "    won_parties = final_df.loc[final_df['State Code'] == received_data,'Won Party'].values[0]\n",
    "    win_statement = f'Winning Party: {won_parties}'\n",
    "    dff = partyvotes_df[partyvotes_df['State Code'] == received_data]\n",
    "    required_state = df.loc[df['State Code'] == received_data, 'State'].values[0]\n",
    "    bar_chart = px.bar(dff, x='Parties',\n",
    "                         y='Votes',title= f'State: {required_state}',color= 'Parties',hover_data=['color'],\n",
    "                       color_discrete_map={'Republician': 'rgb(178,24,43)',\n",
    "                                           'Democratic': 'rgb(33,102,172)',\n",
    "                                           'Libertarian': 'rgb(253,219,199)',\n",
    "                                           'Green': 'rgb (0,128,0)',\n",
    "                                           'Independent': 'rgb(255,255,0)',\n",
    "                                           'Other': 'rgb(26,211,243)'},\n",
    "                       category_orders={'Parties':['Republician','Democratic']})\n",
    "    bar_chart.update_layout(height=300,width=500)\n",
    "    dff2 = districtvotes_df[districtvotes_df['State Code'] == received_data]\n",
    "    bar_chart2 = px.bar(dff2, x='District',\n",
    "                         y='Votes',title=f'Number of district:{len(dff2)}',color= 'Party',color_discrete_map={\n",
    "                             'Republician': 'rgb(178,24,43)',\n",
    "                             'Democratic': 'rgb(33,102,172)'\n",
    "                         },hover_data=['Candidate', 'Incumbent'],category_orders={'Party':['Republician','Democratic']})\n",
    "    bar_chart2.update_layout(height=300,width=500)\n",
    "    \n",
    "    \n",
    "    return win_statement,bar_chart,bar_chart2\n",
    "\n",
    "@app.callback(Output('other-candidates','figure'),\n",
    "              Input('winning-districts-votes','clickData'))     \n",
    "\n",
    "def District_Data(clickData):\n",
    "    if not clickData:\n",
    "        raise PreventUpdate\n",
    "    candidate = clickData['points'][0]['customdata'][0]\n",
    "    district = df.loc[df['Candidate'] == candidate,'District'].values[0]\n",
    "    state = df.loc[df['Candidate'] == candidate,'State'].values[0]\n",
    "    dff4 = df[df['State'] == state]\n",
    "    dff4 = dff4[dff4['District'] == district]\n",
    "    dff4 = dff4.replace({'Libertarian Party': 'Libertarian', 'Green Party': 'Green', 'Independent Party': 'Independent', 'Other Party': 'Other'})\n",
    "    bar_chart4 = px.bar(dff4, x='Candidate', y='Votes', title=f'All candidates in {district} district of {state}',\n",
    "                color='Party', color_discrete_map={'Republician': 'rgb(178,24,43)',\n",
    "                                                   'Democratic': 'rgb(33,102,172)',\n",
    "                                                   'Libertarian': 'rgb(253,219,199)',\n",
    "                                                   'Green': 'rgb (0,128,0)',\n",
    "                                                   'Independent': 'rgb(255,255,0)',\n",
    "                                                   'Other': 'rgb(26,211,243)'},\n",
    "                hover_data=['Candidate', 'Incumbent', 'Votes', 'Pct%'], category_orders={'Party': ['Republican', 'Democratic']})\n",
    "    bar_chart4.update_layout(height=300, width=500)\n",
    "    return bar_chart4\n",
    "\n",
    "app.run_server(mode='inline', port=8239)"
   ]
  }
 ],
 "metadata": {
  "kernelspec": {
   "display_name": "Python 3",
   "language": "python",
   "name": "python3"
  },
  "language_info": {
   "codemirror_mode": {
    "name": "ipython",
    "version": 3
   },
   "file_extension": ".py",
   "mimetype": "text/x-python",
   "name": "python",
   "nbconvert_exporter": "python",
   "pygments_lexer": "ipython3",
   "version": "3.8.5"
  },
  "vscode": {
   "interpreter": {
    "hash": "ad2bdc8ecc057115af97d19610ffacc2b4e99fae6737bb82f5d7fb13d2f2c186"
   }
  }
 },
 "nbformat": 4,
 "nbformat_minor": 2
}
