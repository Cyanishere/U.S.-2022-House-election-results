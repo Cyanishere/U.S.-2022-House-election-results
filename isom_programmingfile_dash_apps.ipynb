{
 "cells": [
  {
   "cell_type": "code",
   "execution_count": 15,
   "metadata": {},
   "outputs": [],
   "source": [
    "# install the needed packages on colab\n",
    "! pip install dash jupyter-dash --quiet"
   ]
  },
  {
   "cell_type": "code",
   "execution_count": 16,
   "metadata": {},
   "outputs": [],
   "source": [
    "# import pandas and plotly\n",
    " \n",
    "import plotly.express as px\n",
    "import plotly.graph_objects as go\n",
    "import pandas as pd\n",
    "from jupyter_dash import JupyterDash\n",
    "from dash import html, dcc \n",
    "from dash.dependencies import Input, Output\n",
    "from dash.exceptions import PreventUpdate\n",
    "import plotly.express as px\n",
    "from urllib.request import urlopen\n",
    "# run Dash apps from within Jupyter Notebook environments\n",
    "from jupyter_dash import JupyterDash\n",
    "# imports\n",
    "from dash import html, dcc, Dash\n",
    "import numpy as np\n",
    "import warnings\n",
    "warnings.filterwarnings(\"ignore\")"
   ]
  },
  {
   "cell_type": "code",
   "execution_count": 17,
   "metadata": {},
   "outputs": [],
   "source": [
    "#loading the datasets\n",
    "# import os\n",
    "# os.chdir('/Users/chihanglung/Downloads')\n",
    "df = pd.read_csv('final_house.csv')"
   ]
  },
  {
   "cell_type": "code",
   "execution_count": 18,
   "metadata": {},
   "outputs": [],
   "source": [
    "# keep the first duplicated result and drop the special election\n",
    "df = df.drop_duplicates(subset=['State', 'District','Candidate'], keep='first')"
   ]
  },
  {
   "cell_type": "code",
   "execution_count": 19,
   "metadata": {},
   "outputs": [],
   "source": [
    "#Replace incumbent column with 'Yes' or 'No'\n",
    "df['Incumbent'] = df['Incumbent'].replace({'/': 'No', 'Incumbent': 'Yes'})"
   ]
  },
  {
   "cell_type": "code",
   "execution_count": 20,
   "metadata": {},
   "outputs": [
    {
     "data": {
      "text/html": [
       "<div>\n",
       "<style scoped>\n",
       "    .dataframe tbody tr th:only-of-type {\n",
       "        vertical-align: middle;\n",
       "    }\n",
       "\n",
       "    .dataframe tbody tr th {\n",
       "        vertical-align: top;\n",
       "    }\n",
       "\n",
       "    .dataframe thead th {\n",
       "        text-align: right;\n",
       "    }\n",
       "</style>\n",
       "<table border=\"1\" class=\"dataframe\">\n",
       "  <thead>\n",
       "    <tr style=\"text-align: right;\">\n",
       "      <th></th>\n",
       "      <th>State</th>\n",
       "      <th>State Code</th>\n",
       "      <th>District</th>\n",
       "      <th>Party</th>\n",
       "      <th>Candidate</th>\n",
       "      <th>Incumbent</th>\n",
       "      <th>Votes</th>\n",
       "      <th>Pct%</th>\n",
       "      <th>Elected</th>\n",
       "      <th>Won Party</th>\n",
       "    </tr>\n",
       "  </thead>\n",
       "  <tbody>\n",
       "    <tr>\n",
       "      <th>0</th>\n",
       "      <td>Alabama</td>\n",
       "      <td>AL</td>\n",
       "      <td>1st</td>\n",
       "      <td>Republician</td>\n",
       "      <td>Carl</td>\n",
       "      <td>Yes</td>\n",
       "      <td>139854</td>\n",
       "      <td>84.20%</td>\n",
       "      <td>True</td>\n",
       "      <td>Republician</td>\n",
       "    </tr>\n",
       "    <tr>\n",
       "      <th>1</th>\n",
       "      <td>Alabama</td>\n",
       "      <td>AL</td>\n",
       "      <td>1st</td>\n",
       "      <td>Libertarian Party</td>\n",
       "      <td>Remrey</td>\n",
       "      <td>No</td>\n",
       "      <td>26197</td>\n",
       "      <td>15.80%</td>\n",
       "      <td>False</td>\n",
       "      <td>Republician</td>\n",
       "    </tr>\n",
       "    <tr>\n",
       "      <th>2</th>\n",
       "      <td>Alabama</td>\n",
       "      <td>AL</td>\n",
       "      <td>2nd</td>\n",
       "      <td>Republician</td>\n",
       "      <td>Moore</td>\n",
       "      <td>Yes</td>\n",
       "      <td>137193</td>\n",
       "      <td>69.20%</td>\n",
       "      <td>True</td>\n",
       "      <td>Republician</td>\n",
       "    </tr>\n",
       "    <tr>\n",
       "      <th>3</th>\n",
       "      <td>Alabama</td>\n",
       "      <td>AL</td>\n",
       "      <td>2nd</td>\n",
       "      <td>Democratic</td>\n",
       "      <td>Harvey-Hall</td>\n",
       "      <td>No</td>\n",
       "      <td>57800</td>\n",
       "      <td>29.10%</td>\n",
       "      <td>False</td>\n",
       "      <td>Republician</td>\n",
       "    </tr>\n",
       "    <tr>\n",
       "      <th>4</th>\n",
       "      <td>Alabama</td>\n",
       "      <td>AL</td>\n",
       "      <td>2nd</td>\n",
       "      <td>Libertarian Party</td>\n",
       "      <td>Realz</td>\n",
       "      <td>No</td>\n",
       "      <td>3380</td>\n",
       "      <td>1.70%</td>\n",
       "      <td>False</td>\n",
       "      <td>Republician</td>\n",
       "    </tr>\n",
       "    <tr>\n",
       "      <th>5</th>\n",
       "      <td>Alabama</td>\n",
       "      <td>AL</td>\n",
       "      <td>3rd</td>\n",
       "      <td>Republician</td>\n",
       "      <td>Rogers</td>\n",
       "      <td>Yes</td>\n",
       "      <td>135448</td>\n",
       "      <td>71.30%</td>\n",
       "      <td>True</td>\n",
       "      <td>Republician</td>\n",
       "    </tr>\n",
       "    <tr>\n",
       "      <th>6</th>\n",
       "      <td>Alabama</td>\n",
       "      <td>AL</td>\n",
       "      <td>3rd</td>\n",
       "      <td>Democratic</td>\n",
       "      <td>Veasey</td>\n",
       "      <td>No</td>\n",
       "      <td>47770</td>\n",
       "      <td>25.10%</td>\n",
       "      <td>False</td>\n",
       "      <td>Republician</td>\n",
       "    </tr>\n",
       "    <tr>\n",
       "      <th>7</th>\n",
       "      <td>Alabama</td>\n",
       "      <td>AL</td>\n",
       "      <td>3rd</td>\n",
       "      <td>Other Party</td>\n",
       "      <td>Bell</td>\n",
       "      <td>No</td>\n",
       "      <td>3826</td>\n",
       "      <td>2.00%</td>\n",
       "      <td>False</td>\n",
       "      <td>Republician</td>\n",
       "    </tr>\n",
       "    <tr>\n",
       "      <th>8</th>\n",
       "      <td>Alabama</td>\n",
       "      <td>AL</td>\n",
       "      <td>3rd</td>\n",
       "      <td>Libertarian Party</td>\n",
       "      <td>Casson</td>\n",
       "      <td>No</td>\n",
       "      <td>3027</td>\n",
       "      <td>1.60%</td>\n",
       "      <td>False</td>\n",
       "      <td>Republician</td>\n",
       "    </tr>\n",
       "    <tr>\n",
       "      <th>9</th>\n",
       "      <td>Alabama</td>\n",
       "      <td>AL</td>\n",
       "      <td>4th</td>\n",
       "      <td>Republician</td>\n",
       "      <td>Aderholt</td>\n",
       "      <td>Yes</td>\n",
       "      <td>164371</td>\n",
       "      <td>84.20%</td>\n",
       "      <td>True</td>\n",
       "      <td>Republician</td>\n",
       "    </tr>\n",
       "    <tr>\n",
       "      <th>10</th>\n",
       "      <td>Alabama</td>\n",
       "      <td>AL</td>\n",
       "      <td>4th</td>\n",
       "      <td>Democratic</td>\n",
       "      <td>Neighbors</td>\n",
       "      <td>No</td>\n",
       "      <td>26628</td>\n",
       "      <td>13.60%</td>\n",
       "      <td>False</td>\n",
       "      <td>Republician</td>\n",
       "    </tr>\n",
       "    <tr>\n",
       "      <th>11</th>\n",
       "      <td>Alabama</td>\n",
       "      <td>AL</td>\n",
       "      <td>4th</td>\n",
       "      <td>Libertarian Party</td>\n",
       "      <td>Cochran</td>\n",
       "      <td>No</td>\n",
       "      <td>4294</td>\n",
       "      <td>2.20%</td>\n",
       "      <td>False</td>\n",
       "      <td>Republician</td>\n",
       "    </tr>\n",
       "    <tr>\n",
       "      <th>12</th>\n",
       "      <td>Alabama</td>\n",
       "      <td>AL</td>\n",
       "      <td>5th</td>\n",
       "      <td>Republician</td>\n",
       "      <td>Strong</td>\n",
       "      <td>No</td>\n",
       "      <td>141988</td>\n",
       "      <td>67.20%</td>\n",
       "      <td>True</td>\n",
       "      <td>Republician</td>\n",
       "    </tr>\n",
       "    <tr>\n",
       "      <th>13</th>\n",
       "      <td>Alabama</td>\n",
       "      <td>AL</td>\n",
       "      <td>5th</td>\n",
       "      <td>Democratic</td>\n",
       "      <td>Warner-Stanton</td>\n",
       "      <td>No</td>\n",
       "      <td>62466</td>\n",
       "      <td>29.60%</td>\n",
       "      <td>False</td>\n",
       "      <td>Republician</td>\n",
       "    </tr>\n",
       "    <tr>\n",
       "      <th>14</th>\n",
       "      <td>Alabama</td>\n",
       "      <td>AL</td>\n",
       "      <td>5th</td>\n",
       "      <td>Libertarian Party</td>\n",
       "      <td>Greer</td>\n",
       "      <td>No</td>\n",
       "      <td>6740</td>\n",
       "      <td>3.20%</td>\n",
       "      <td>False</td>\n",
       "      <td>Republician</td>\n",
       "    </tr>\n",
       "    <tr>\n",
       "      <th>15</th>\n",
       "      <td>Alabama</td>\n",
       "      <td>AL</td>\n",
       "      <td>6th</td>\n",
       "      <td>Republician</td>\n",
       "      <td>Palmer</td>\n",
       "      <td>Yes</td>\n",
       "      <td>154058</td>\n",
       "      <td>84.70%</td>\n",
       "      <td>True</td>\n",
       "      <td>Republician</td>\n",
       "    </tr>\n",
       "    <tr>\n",
       "      <th>16</th>\n",
       "      <td>Alabama</td>\n",
       "      <td>AL</td>\n",
       "      <td>6th</td>\n",
       "      <td>Libertarian Party</td>\n",
       "      <td>Chieffo</td>\n",
       "      <td>No</td>\n",
       "      <td>27792</td>\n",
       "      <td>15.30%</td>\n",
       "      <td>False</td>\n",
       "      <td>Republician</td>\n",
       "    </tr>\n",
       "    <tr>\n",
       "      <th>17</th>\n",
       "      <td>Alabama</td>\n",
       "      <td>AL</td>\n",
       "      <td>7th</td>\n",
       "      <td>Democratic</td>\n",
       "      <td>Sewell</td>\n",
       "      <td>Yes</td>\n",
       "      <td>123060</td>\n",
       "      <td>63.60%</td>\n",
       "      <td>True</td>\n",
       "      <td>Democratic</td>\n",
       "    </tr>\n",
       "    <tr>\n",
       "      <th>18</th>\n",
       "      <td>Alabama</td>\n",
       "      <td>AL</td>\n",
       "      <td>7th</td>\n",
       "      <td>Republician</td>\n",
       "      <td>Nichols</td>\n",
       "      <td>No</td>\n",
       "      <td>67353</td>\n",
       "      <td>34.80%</td>\n",
       "      <td>False</td>\n",
       "      <td>Democratic</td>\n",
       "    </tr>\n",
       "    <tr>\n",
       "      <th>19</th>\n",
       "      <td>Alabama</td>\n",
       "      <td>AL</td>\n",
       "      <td>7th</td>\n",
       "      <td>Libertarian Party</td>\n",
       "      <td>Goodman</td>\n",
       "      <td>No</td>\n",
       "      <td>3207</td>\n",
       "      <td>1.70%</td>\n",
       "      <td>False</td>\n",
       "      <td>Democratic</td>\n",
       "    </tr>\n",
       "  </tbody>\n",
       "</table>\n",
       "</div>"
      ],
      "text/plain": [
       "      State State Code District              Party       Candidate Incumbent  \\\n",
       "0   Alabama         AL      1st        Republician            Carl       Yes   \n",
       "1   Alabama         AL      1st  Libertarian Party          Remrey        No   \n",
       "2   Alabama         AL      2nd        Republician           Moore       Yes   \n",
       "3   Alabama         AL      2nd         Democratic     Harvey-Hall        No   \n",
       "4   Alabama         AL      2nd  Libertarian Party           Realz        No   \n",
       "5   Alabama         AL      3rd        Republician          Rogers       Yes   \n",
       "6   Alabama         AL      3rd         Democratic          Veasey        No   \n",
       "7   Alabama         AL      3rd        Other Party            Bell        No   \n",
       "8   Alabama         AL      3rd  Libertarian Party          Casson        No   \n",
       "9   Alabama         AL      4th        Republician        Aderholt       Yes   \n",
       "10  Alabama         AL      4th         Democratic       Neighbors        No   \n",
       "11  Alabama         AL      4th  Libertarian Party         Cochran        No   \n",
       "12  Alabama         AL      5th        Republician          Strong        No   \n",
       "13  Alabama         AL      5th         Democratic  Warner-Stanton        No   \n",
       "14  Alabama         AL      5th  Libertarian Party           Greer        No   \n",
       "15  Alabama         AL      6th        Republician          Palmer       Yes   \n",
       "16  Alabama         AL      6th  Libertarian Party         Chieffo        No   \n",
       "17  Alabama         AL      7th         Democratic          Sewell       Yes   \n",
       "18  Alabama         AL      7th        Republician         Nichols        No   \n",
       "19  Alabama         AL      7th  Libertarian Party         Goodman        No   \n",
       "\n",
       "     Votes    Pct%  Elected    Won Party  \n",
       "0   139854  84.20%     True  Republician  \n",
       "1    26197  15.80%    False  Republician  \n",
       "2   137193  69.20%     True  Republician  \n",
       "3    57800  29.10%    False  Republician  \n",
       "4     3380   1.70%    False  Republician  \n",
       "5   135448  71.30%     True  Republician  \n",
       "6    47770  25.10%    False  Republician  \n",
       "7     3826   2.00%    False  Republician  \n",
       "8     3027   1.60%    False  Republician  \n",
       "9   164371  84.20%     True  Republician  \n",
       "10   26628  13.60%    False  Republician  \n",
       "11    4294   2.20%    False  Republician  \n",
       "12  141988  67.20%     True  Republician  \n",
       "13   62466  29.60%    False  Republician  \n",
       "14    6740   3.20%    False  Republician  \n",
       "15  154058  84.70%     True  Republician  \n",
       "16   27792  15.30%    False  Republician  \n",
       "17  123060  63.60%     True   Democratic  \n",
       "18   67353  34.80%    False   Democratic  \n",
       "19    3207   1.70%    False   Democratic  "
      ]
     },
     "execution_count": 20,
     "metadata": {},
     "output_type": "execute_result"
    }
   ],
   "source": [
    "#Total seats\n",
    "df_plot = df[df['Elected'] == True]\n",
    "df_plot\n",
    "df_repu = df[(df['Elected'] == True) & (df['Won Party'] == 'Republician')]\n",
    "df_demo = df[(df['Elected'] == True) & (df['Won Party'] == 'Democratic')]\n",
    "df[df['State'] == 'Alabama']"
   ]
  },
  {
   "cell_type": "code",
   "execution_count": 21,
   "metadata": {},
   "outputs": [
    {
     "data": {
      "text/html": [
       "<div>\n",
       "<style scoped>\n",
       "    .dataframe tbody tr th:only-of-type {\n",
       "        vertical-align: middle;\n",
       "    }\n",
       "\n",
       "    .dataframe tbody tr th {\n",
       "        vertical-align: top;\n",
       "    }\n",
       "\n",
       "    .dataframe thead th {\n",
       "        text-align: right;\n",
       "    }\n",
       "</style>\n",
       "<table border=\"1\" class=\"dataframe\">\n",
       "  <thead>\n",
       "    <tr style=\"text-align: right;\">\n",
       "      <th></th>\n",
       "      <th>State</th>\n",
       "      <th>State Code</th>\n",
       "      <th>Won Party</th>\n",
       "      <th>Won Seats</th>\n",
       "      <th>Total Seats</th>\n",
       "      <th>Republican Votes</th>\n",
       "      <th>Democratic Votes</th>\n",
       "      <th>Libertarian Party Votes</th>\n",
       "      <th>Green Party Votes</th>\n",
       "      <th>Independent Party Votes</th>\n",
       "      <th>Other Party Votes</th>\n",
       "      <th>Rep won seats %</th>\n",
       "    </tr>\n",
       "  </thead>\n",
       "  <tbody>\n",
       "    <tr>\n",
       "      <th>0</th>\n",
       "      <td>Alabama</td>\n",
       "      <td>AL</td>\n",
       "      <td>Republician</td>\n",
       "      <td>6</td>\n",
       "      <td>7</td>\n",
       "      <td>940265</td>\n",
       "      <td>317724</td>\n",
       "      <td>74637</td>\n",
       "      <td>0</td>\n",
       "      <td>0</td>\n",
       "      <td>3826</td>\n",
       "      <td>85.714286</td>\n",
       "    </tr>\n",
       "    <tr>\n",
       "      <th>1</th>\n",
       "      <td>Alaska</td>\n",
       "      <td>AK</td>\n",
       "      <td>Democratic</td>\n",
       "      <td>1</td>\n",
       "      <td>1</td>\n",
       "      <td>112255</td>\n",
       "      <td>136893</td>\n",
       "      <td>0</td>\n",
       "      <td>0</td>\n",
       "      <td>0</td>\n",
       "      <td>0</td>\n",
       "      <td>0.000000</td>\n",
       "    </tr>\n",
       "    <tr>\n",
       "      <th>2</th>\n",
       "      <td>Arizona</td>\n",
       "      <td>AZ</td>\n",
       "      <td>Republician</td>\n",
       "      <td>6</td>\n",
       "      <td>9</td>\n",
       "      <td>934610</td>\n",
       "      <td>1004461</td>\n",
       "      <td>0</td>\n",
       "      <td>0</td>\n",
       "      <td>18851</td>\n",
       "      <td>0</td>\n",
       "      <td>66.666667</td>\n",
       "    </tr>\n",
       "    <tr>\n",
       "      <th>3</th>\n",
       "      <td>Arkansas</td>\n",
       "      <td>AR</td>\n",
       "      <td>Republician</td>\n",
       "      <td>4</td>\n",
       "      <td>4</td>\n",
       "      <td>596597</td>\n",
       "      <td>270900</td>\n",
       "      <td>25288</td>\n",
       "      <td>0</td>\n",
       "      <td>0</td>\n",
       "      <td>0</td>\n",
       "      <td>100.000000</td>\n",
       "    </tr>\n",
       "    <tr>\n",
       "      <th>4</th>\n",
       "      <td>California</td>\n",
       "      <td>CA</td>\n",
       "      <td>Democratic</td>\n",
       "      <td>40</td>\n",
       "      <td>52</td>\n",
       "      <td>3859662</td>\n",
       "      <td>6743732</td>\n",
       "      <td>0</td>\n",
       "      <td>52965</td>\n",
       "      <td>0</td>\n",
       "      <td>0</td>\n",
       "      <td>23.076923</td>\n",
       "    </tr>\n",
       "    <tr>\n",
       "      <th>5</th>\n",
       "      <td>Colorado</td>\n",
       "      <td>CO</td>\n",
       "      <td>Democratic</td>\n",
       "      <td>5</td>\n",
       "      <td>8</td>\n",
       "      <td>1050960</td>\n",
       "      <td>1365427</td>\n",
       "      <td>34234</td>\n",
       "      <td>0</td>\n",
       "      <td>0</td>\n",
       "      <td>21100</td>\n",
       "      <td>37.500000</td>\n",
       "    </tr>\n",
       "    <tr>\n",
       "      <th>6</th>\n",
       "      <td>Connecticut</td>\n",
       "      <td>CT</td>\n",
       "      <td>Democratic</td>\n",
       "      <td>5</td>\n",
       "      <td>5</td>\n",
       "      <td>526096</td>\n",
       "      <td>722267</td>\n",
       "      <td>2140</td>\n",
       "      <td>7252</td>\n",
       "      <td>4056</td>\n",
       "      <td>0</td>\n",
       "      <td>0.000000</td>\n",
       "    </tr>\n",
       "    <tr>\n",
       "      <th>7</th>\n",
       "      <td>Delaware</td>\n",
       "      <td>DE</td>\n",
       "      <td>Democratic</td>\n",
       "      <td>1</td>\n",
       "      <td>1</td>\n",
       "      <td>138201</td>\n",
       "      <td>178416</td>\n",
       "      <td>3074</td>\n",
       "      <td>0</td>\n",
       "      <td>0</td>\n",
       "      <td>1958</td>\n",
       "      <td>0.000000</td>\n",
       "    </tr>\n",
       "    <tr>\n",
       "      <th>8</th>\n",
       "      <td>Florida</td>\n",
       "      <td>FL</td>\n",
       "      <td>Republician</td>\n",
       "      <td>20</td>\n",
       "      <td>28</td>\n",
       "      <td>4270761</td>\n",
       "      <td>2904885</td>\n",
       "      <td>80331</td>\n",
       "      <td>0</td>\n",
       "      <td>0</td>\n",
       "      <td>74749</td>\n",
       "      <td>71.428571</td>\n",
       "    </tr>\n",
       "    <tr>\n",
       "      <th>9</th>\n",
       "      <td>Georgia</td>\n",
       "      <td>GA</td>\n",
       "      <td>Republician</td>\n",
       "      <td>9</td>\n",
       "      <td>14</td>\n",
       "      <td>2042944</td>\n",
       "      <td>1861986</td>\n",
       "      <td>0</td>\n",
       "      <td>0</td>\n",
       "      <td>0</td>\n",
       "      <td>0</td>\n",
       "      <td>64.285714</td>\n",
       "    </tr>\n",
       "    <tr>\n",
       "      <th>10</th>\n",
       "      <td>Hawaii</td>\n",
       "      <td>HI</td>\n",
       "      <td>Democratic</td>\n",
       "      <td>2</td>\n",
       "      <td>2</td>\n",
       "      <td>123288</td>\n",
       "      <td>270737</td>\n",
       "      <td>5108</td>\n",
       "      <td>0</td>\n",
       "      <td>0</td>\n",
       "      <td>0</td>\n",
       "      <td>0.000000</td>\n",
       "    </tr>\n",
       "    <tr>\n",
       "      <th>11</th>\n",
       "      <td>Idaho</td>\n",
       "      <td>ID</td>\n",
       "      <td>Republician</td>\n",
       "      <td>2</td>\n",
       "      <td>2</td>\n",
       "      <td>395347</td>\n",
       "      <td>180896</td>\n",
       "      <td>7274</td>\n",
       "      <td>0</td>\n",
       "      <td>0</td>\n",
       "      <td>0</td>\n",
       "      <td>100.000000</td>\n",
       "    </tr>\n",
       "    <tr>\n",
       "      <th>12</th>\n",
       "      <td>Illinois</td>\n",
       "      <td>IL</td>\n",
       "      <td>Democratic</td>\n",
       "      <td>14</td>\n",
       "      <td>17</td>\n",
       "      <td>1745498</td>\n",
       "      <td>2020419</td>\n",
       "      <td>0</td>\n",
       "      <td>0</td>\n",
       "      <td>4135</td>\n",
       "      <td>4435</td>\n",
       "      <td>17.647059</td>\n",
       "    </tr>\n",
       "    <tr>\n",
       "      <th>13</th>\n",
       "      <td>Indiana</td>\n",
       "      <td>IN</td>\n",
       "      <td>Republician</td>\n",
       "      <td>7</td>\n",
       "      <td>9</td>\n",
       "      <td>1102378</td>\n",
       "      <td>714809</td>\n",
       "      <td>22309</td>\n",
       "      <td>0</td>\n",
       "      <td>9354</td>\n",
       "      <td>0</td>\n",
       "      <td>77.777778</td>\n",
       "    </tr>\n",
       "    <tr>\n",
       "      <th>14</th>\n",
       "      <td>Iowa</td>\n",
       "      <td>IA</td>\n",
       "      <td>Republician</td>\n",
       "      <td>4</td>\n",
       "      <td>4</td>\n",
       "      <td>677842</td>\n",
       "      <td>526499</td>\n",
       "      <td>0</td>\n",
       "      <td>0</td>\n",
       "      <td>0</td>\n",
       "      <td>6035</td>\n",
       "      <td>100.000000</td>\n",
       "    </tr>\n",
       "    <tr>\n",
       "      <th>15</th>\n",
       "      <td>Kansas</td>\n",
       "      <td>KS</td>\n",
       "      <td>Republician</td>\n",
       "      <td>3</td>\n",
       "      <td>4</td>\n",
       "      <td>562050</td>\n",
       "      <td>418582</td>\n",
       "      <td>6803</td>\n",
       "      <td>0</td>\n",
       "      <td>0</td>\n",
       "      <td>0</td>\n",
       "      <td>75.000000</td>\n",
       "    </tr>\n",
       "    <tr>\n",
       "      <th>16</th>\n",
       "      <td>Kentucky</td>\n",
       "      <td>KY</td>\n",
       "      <td>Republician</td>\n",
       "      <td>5</td>\n",
       "      <td>6</td>\n",
       "      <td>953226</td>\n",
       "      <td>490842</td>\n",
       "      <td>0</td>\n",
       "      <td>0</td>\n",
       "      <td>10111</td>\n",
       "      <td>0</td>\n",
       "      <td>83.333333</td>\n",
       "    </tr>\n",
       "    <tr>\n",
       "      <th>17</th>\n",
       "      <td>Louisiana</td>\n",
       "      <td>LA</td>\n",
       "      <td>Republician</td>\n",
       "      <td>5</td>\n",
       "      <td>6</td>\n",
       "      <td>773672</td>\n",
       "      <td>318923</td>\n",
       "      <td>37235</td>\n",
       "      <td>0</td>\n",
       "      <td>3255</td>\n",
       "      <td>0</td>\n",
       "      <td>83.333333</td>\n",
       "    </tr>\n",
       "    <tr>\n",
       "      <th>18</th>\n",
       "      <td>Maine</td>\n",
       "      <td>ME</td>\n",
       "      <td>Democratic</td>\n",
       "      <td>2</td>\n",
       "      <td>2</td>\n",
       "      <td>275138</td>\n",
       "      <td>383766</td>\n",
       "      <td>0</td>\n",
       "      <td>0</td>\n",
       "      <td>0</td>\n",
       "      <td>362</td>\n",
       "      <td>0.000000</td>\n",
       "    </tr>\n",
       "    <tr>\n",
       "      <th>19</th>\n",
       "      <td>Maryland</td>\n",
       "      <td>MD</td>\n",
       "      <td>Democratic</td>\n",
       "      <td>7</td>\n",
       "      <td>8</td>\n",
       "      <td>690469</td>\n",
       "      <td>1291484</td>\n",
       "      <td>11049</td>\n",
       "      <td>0</td>\n",
       "      <td>0</td>\n",
       "      <td>0</td>\n",
       "      <td>12.500000</td>\n",
       "    </tr>\n",
       "    <tr>\n",
       "      <th>20</th>\n",
       "      <td>Massachusetts</td>\n",
       "      <td>MA</td>\n",
       "      <td>Democratic</td>\n",
       "      <td>9</td>\n",
       "      <td>9</td>\n",
       "      <td>687795</td>\n",
       "      <td>1388472</td>\n",
       "      <td>5727</td>\n",
       "      <td>0</td>\n",
       "      <td>0</td>\n",
       "      <td>0</td>\n",
       "      <td>0.000000</td>\n",
       "    </tr>\n",
       "    <tr>\n",
       "      <th>21</th>\n",
       "      <td>Michigan</td>\n",
       "      <td>MI</td>\n",
       "      <td>Democratic</td>\n",
       "      <td>7</td>\n",
       "      <td>13</td>\n",
       "      <td>2080777</td>\n",
       "      <td>2182448</td>\n",
       "      <td>51448</td>\n",
       "      <td>0</td>\n",
       "      <td>0</td>\n",
       "      <td>56220</td>\n",
       "      <td>46.153846</td>\n",
       "    </tr>\n",
       "    <tr>\n",
       "      <th>22</th>\n",
       "      <td>Minnesota</td>\n",
       "      <td>MN</td>\n",
       "      <td>Democratic</td>\n",
       "      <td>4</td>\n",
       "      <td>8</td>\n",
       "      <td>1200855</td>\n",
       "      <td>1250518</td>\n",
       "      <td>0</td>\n",
       "      <td>0</td>\n",
       "      <td>0</td>\n",
       "      <td>38481</td>\n",
       "      <td>50.000000</td>\n",
       "    </tr>\n",
       "    <tr>\n",
       "      <th>23</th>\n",
       "      <td>Mississippi</td>\n",
       "      <td>MS</td>\n",
       "      <td>Republician</td>\n",
       "      <td>3</td>\n",
       "      <td>4</td>\n",
       "      <td>454330</td>\n",
       "      <td>251202</td>\n",
       "      <td>3569</td>\n",
       "      <td>0</td>\n",
       "      <td>0</td>\n",
       "      <td>0</td>\n",
       "      <td>75.000000</td>\n",
       "    </tr>\n",
       "    <tr>\n",
       "      <th>24</th>\n",
       "      <td>Missouri</td>\n",
       "      <td>MO</td>\n",
       "      <td>Republician</td>\n",
       "      <td>6</td>\n",
       "      <td>8</td>\n",
       "      <td>1220068</td>\n",
       "      <td>791381</td>\n",
       "      <td>41331</td>\n",
       "      <td>0</td>\n",
       "      <td>0</td>\n",
       "      <td>0</td>\n",
       "      <td>75.000000</td>\n",
       "    </tr>\n",
       "    <tr>\n",
       "      <th>25</th>\n",
       "      <td>Montana</td>\n",
       "      <td>MT</td>\n",
       "      <td>Republician</td>\n",
       "      <td>2</td>\n",
       "      <td>2</td>\n",
       "      <td>245081</td>\n",
       "      <td>158745</td>\n",
       "      <td>12611</td>\n",
       "      <td>0</td>\n",
       "      <td>47195</td>\n",
       "      <td>0</td>\n",
       "      <td>100.000000</td>\n",
       "    </tr>\n",
       "    <tr>\n",
       "      <th>26</th>\n",
       "      <td>Nebraska</td>\n",
       "      <td>NE</td>\n",
       "      <td>Republician</td>\n",
       "      <td>3</td>\n",
       "      <td>3</td>\n",
       "      <td>411026</td>\n",
       "      <td>231511</td>\n",
       "      <td>0</td>\n",
       "      <td>0</td>\n",
       "      <td>0</td>\n",
       "      <td>12915</td>\n",
       "      <td>100.000000</td>\n",
       "    </tr>\n",
       "    <tr>\n",
       "      <th>27</th>\n",
       "      <td>Nevada</td>\n",
       "      <td>NV</td>\n",
       "      <td>Democratic</td>\n",
       "      <td>3</td>\n",
       "      <td>4</td>\n",
       "      <td>509183</td>\n",
       "      <td>476175</td>\n",
       "      <td>8853</td>\n",
       "      <td>0</td>\n",
       "      <td>0</td>\n",
       "      <td>4076</td>\n",
       "      <td>25.000000</td>\n",
       "    </tr>\n",
       "    <tr>\n",
       "      <th>28</th>\n",
       "      <td>New Hampshire</td>\n",
       "      <td>NH</td>\n",
       "      <td>Democratic</td>\n",
       "      <td>2</td>\n",
       "      <td>2</td>\n",
       "      <td>277466</td>\n",
       "      <td>338585</td>\n",
       "      <td>0</td>\n",
       "      <td>0</td>\n",
       "      <td>0</td>\n",
       "      <td>0</td>\n",
       "      <td>0.000000</td>\n",
       "    </tr>\n",
       "    <tr>\n",
       "      <th>29</th>\n",
       "      <td>New Jersey</td>\n",
       "      <td>NJ</td>\n",
       "      <td>Democratic</td>\n",
       "      <td>9</td>\n",
       "      <td>12</td>\n",
       "      <td>1160239</td>\n",
       "      <td>1416145</td>\n",
       "      <td>0</td>\n",
       "      <td>0</td>\n",
       "      <td>33032</td>\n",
       "      <td>0</td>\n",
       "      <td>25.000000</td>\n",
       "    </tr>\n",
       "    <tr>\n",
       "      <th>30</th>\n",
       "      <td>New Mexico</td>\n",
       "      <td>NM</td>\n",
       "      <td>Democratic</td>\n",
       "      <td>3</td>\n",
       "      <td>3</td>\n",
       "      <td>316313</td>\n",
       "      <td>387565</td>\n",
       "      <td>0</td>\n",
       "      <td>0</td>\n",
       "      <td>0</td>\n",
       "      <td>0</td>\n",
       "      <td>0.000000</td>\n",
       "    </tr>\n",
       "    <tr>\n",
       "      <th>31</th>\n",
       "      <td>New York</td>\n",
       "      <td>NY</td>\n",
       "      <td>Democratic</td>\n",
       "      <td>15</td>\n",
       "      <td>26</td>\n",
       "      <td>2480971</td>\n",
       "      <td>2976739</td>\n",
       "      <td>0</td>\n",
       "      <td>0</td>\n",
       "      <td>0</td>\n",
       "      <td>28211</td>\n",
       "      <td>42.307692</td>\n",
       "    </tr>\n",
       "    <tr>\n",
       "      <th>32</th>\n",
       "      <td>North Carolina</td>\n",
       "      <td>NC</td>\n",
       "      <td>Democratic</td>\n",
       "      <td>7</td>\n",
       "      <td>14</td>\n",
       "      <td>1956907</td>\n",
       "      <td>1795170</td>\n",
       "      <td>8325</td>\n",
       "      <td>0</td>\n",
       "      <td>0</td>\n",
       "      <td>0</td>\n",
       "      <td>50.000000</td>\n",
       "    </tr>\n",
       "    <tr>\n",
       "      <th>33</th>\n",
       "      <td>North Dakota</td>\n",
       "      <td>ND</td>\n",
       "      <td>Republician</td>\n",
       "      <td>1</td>\n",
       "      <td>1</td>\n",
       "      <td>147980</td>\n",
       "      <td>0</td>\n",
       "      <td>0</td>\n",
       "      <td>0</td>\n",
       "      <td>89371</td>\n",
       "      <td>0</td>\n",
       "      <td>100.000000</td>\n",
       "    </tr>\n",
       "    <tr>\n",
       "      <th>34</th>\n",
       "      <td>Ohio</td>\n",
       "      <td>OH</td>\n",
       "      <td>Republician</td>\n",
       "      <td>10</td>\n",
       "      <td>15</td>\n",
       "      <td>2271492</td>\n",
       "      <td>1738315</td>\n",
       "      <td>0</td>\n",
       "      <td>0</td>\n",
       "      <td>0</td>\n",
       "      <td>0</td>\n",
       "      <td>66.666667</td>\n",
       "    </tr>\n",
       "    <tr>\n",
       "      <th>35</th>\n",
       "      <td>Oklahoma</td>\n",
       "      <td>OK</td>\n",
       "      <td>Republician</td>\n",
       "      <td>5</td>\n",
       "      <td>5</td>\n",
       "      <td>759953</td>\n",
       "      <td>356611</td>\n",
       "      <td>0</td>\n",
       "      <td>0</td>\n",
       "      <td>28634</td>\n",
       "      <td>0</td>\n",
       "      <td>100.000000</td>\n",
       "    </tr>\n",
       "    <tr>\n",
       "      <th>36</th>\n",
       "      <td>Oregon</td>\n",
       "      <td>OR</td>\n",
       "      <td>Democratic</td>\n",
       "      <td>4</td>\n",
       "      <td>6</td>\n",
       "      <td>851991</td>\n",
       "      <td>1012725</td>\n",
       "      <td>0</td>\n",
       "      <td>0</td>\n",
       "      <td>9052</td>\n",
       "      <td>29852</td>\n",
       "      <td>33.333333</td>\n",
       "    </tr>\n",
       "    <tr>\n",
       "      <th>37</th>\n",
       "      <td>Pennsylvania</td>\n",
       "      <td>PA</td>\n",
       "      <td>Democratic</td>\n",
       "      <td>9</td>\n",
       "      <td>17</td>\n",
       "      <td>2208398</td>\n",
       "      <td>2433562</td>\n",
       "      <td>0</td>\n",
       "      <td>0</td>\n",
       "      <td>0</td>\n",
       "      <td>12820</td>\n",
       "      <td>47.058824</td>\n",
       "    </tr>\n",
       "    <tr>\n",
       "      <th>38</th>\n",
       "      <td>Rhode Island</td>\n",
       "      <td>RI</td>\n",
       "      <td>Democratic</td>\n",
       "      <td>2</td>\n",
       "      <td>2</td>\n",
       "      <td>149546</td>\n",
       "      <td>200721</td>\n",
       "      <td>0</td>\n",
       "      <td>0</td>\n",
       "      <td>5454</td>\n",
       "      <td>0</td>\n",
       "      <td>0.000000</td>\n",
       "    </tr>\n",
       "    <tr>\n",
       "      <th>39</th>\n",
       "      <td>South Carolina</td>\n",
       "      <td>SC</td>\n",
       "      <td>Republician</td>\n",
       "      <td>6</td>\n",
       "      <td>7</td>\n",
       "      <td>700500</td>\n",
       "      <td>517129</td>\n",
       "      <td>0</td>\n",
       "      <td>3547</td>\n",
       "      <td>0</td>\n",
       "      <td>2634</td>\n",
       "      <td>85.714286</td>\n",
       "    </tr>\n",
       "    <tr>\n",
       "      <th>40</th>\n",
       "      <td>South Dakota</td>\n",
       "      <td>SD</td>\n",
       "      <td>Republician</td>\n",
       "      <td>1</td>\n",
       "      <td>1</td>\n",
       "      <td>253786</td>\n",
       "      <td>0</td>\n",
       "      <td>74010</td>\n",
       "      <td>0</td>\n",
       "      <td>0</td>\n",
       "      <td>0</td>\n",
       "      <td>100.000000</td>\n",
       "    </tr>\n",
       "    <tr>\n",
       "      <th>41</th>\n",
       "      <td>Tennessee</td>\n",
       "      <td>TN</td>\n",
       "      <td>Republician</td>\n",
       "      <td>8</td>\n",
       "      <td>9</td>\n",
       "      <td>1099590</td>\n",
       "      <td>581998</td>\n",
       "      <td>0</td>\n",
       "      <td>0</td>\n",
       "      <td>29006</td>\n",
       "      <td>0</td>\n",
       "      <td>88.888889</td>\n",
       "    </tr>\n",
       "    <tr>\n",
       "      <th>42</th>\n",
       "      <td>Texas</td>\n",
       "      <td>TX</td>\n",
       "      <td>Republician</td>\n",
       "      <td>25</td>\n",
       "      <td>38</td>\n",
       "      <td>3881492</td>\n",
       "      <td>2991042</td>\n",
       "      <td>128738</td>\n",
       "      <td>0</td>\n",
       "      <td>62870</td>\n",
       "      <td>0</td>\n",
       "      <td>65.789474</td>\n",
       "    </tr>\n",
       "    <tr>\n",
       "      <th>43</th>\n",
       "      <td>Utah</td>\n",
       "      <td>UT</td>\n",
       "      <td>Republician</td>\n",
       "      <td>4</td>\n",
       "      <td>4</td>\n",
       "      <td>670924</td>\n",
       "      <td>342078</td>\n",
       "      <td>8287</td>\n",
       "      <td>0</td>\n",
       "      <td>0</td>\n",
       "      <td>41941</td>\n",
       "      <td>100.000000</td>\n",
       "    </tr>\n",
       "    <tr>\n",
       "      <th>44</th>\n",
       "      <td>Vermont</td>\n",
       "      <td>VT</td>\n",
       "      <td>Democratic</td>\n",
       "      <td>1</td>\n",
       "      <td>1</td>\n",
       "      <td>78167</td>\n",
       "      <td>175484</td>\n",
       "      <td>12563</td>\n",
       "      <td>0</td>\n",
       "      <td>13468</td>\n",
       "      <td>0</td>\n",
       "      <td>0.000000</td>\n",
       "    </tr>\n",
       "    <tr>\n",
       "      <th>45</th>\n",
       "      <td>Virginia</td>\n",
       "      <td>VA</td>\n",
       "      <td>Democratic</td>\n",
       "      <td>6</td>\n",
       "      <td>11</td>\n",
       "      <td>1471094</td>\n",
       "      <td>1574819</td>\n",
       "      <td>0</td>\n",
       "      <td>0</td>\n",
       "      <td>7469</td>\n",
       "      <td>0</td>\n",
       "      <td>45.454545</td>\n",
       "    </tr>\n",
       "    <tr>\n",
       "      <th>46</th>\n",
       "      <td>Washington</td>\n",
       "      <td>WA</td>\n",
       "      <td>Democratic</td>\n",
       "      <td>8</td>\n",
       "      <td>10</td>\n",
       "      <td>1261961</td>\n",
       "      <td>1751582</td>\n",
       "      <td>0</td>\n",
       "      <td>0</td>\n",
       "      <td>0</td>\n",
       "      <td>0</td>\n",
       "      <td>20.000000</td>\n",
       "    </tr>\n",
       "    <tr>\n",
       "      <th>47</th>\n",
       "      <td>West Virginia</td>\n",
       "      <td>WV</td>\n",
       "      <td>Republician</td>\n",
       "      <td>2</td>\n",
       "      <td>2</td>\n",
       "      <td>312004</td>\n",
       "      <td>149706</td>\n",
       "      <td>0</td>\n",
       "      <td>0</td>\n",
       "      <td>10257</td>\n",
       "      <td>0</td>\n",
       "      <td>100.000000</td>\n",
       "    </tr>\n",
       "    <tr>\n",
       "      <th>48</th>\n",
       "      <td>Wisconsin</td>\n",
       "      <td>WI</td>\n",
       "      <td>Republician</td>\n",
       "      <td>6</td>\n",
       "      <td>8</td>\n",
       "      <td>1163558</td>\n",
       "      <td>1013163</td>\n",
       "      <td>32043</td>\n",
       "      <td>0</td>\n",
       "      <td>63858</td>\n",
       "      <td>0</td>\n",
       "      <td>75.000000</td>\n",
       "    </tr>\n",
       "    <tr>\n",
       "      <th>49</th>\n",
       "      <td>Wyoming</td>\n",
       "      <td>WY</td>\n",
       "      <td>Republician</td>\n",
       "      <td>1</td>\n",
       "      <td>1</td>\n",
       "      <td>132215</td>\n",
       "      <td>47241</td>\n",
       "      <td>5420</td>\n",
       "      <td>0</td>\n",
       "      <td>0</td>\n",
       "      <td>4503</td>\n",
       "      <td>100.000000</td>\n",
       "    </tr>\n",
       "  </tbody>\n",
       "</table>\n",
       "</div>"
      ],
      "text/plain": [
       "             State State Code    Won Party  Won Seats  Total Seats  \\\n",
       "0          Alabama         AL  Republician          6            7   \n",
       "1           Alaska         AK   Democratic          1            1   \n",
       "2          Arizona         AZ  Republician          6            9   \n",
       "3         Arkansas         AR  Republician          4            4   \n",
       "4       California         CA   Democratic         40           52   \n",
       "5         Colorado         CO   Democratic          5            8   \n",
       "6      Connecticut         CT   Democratic          5            5   \n",
       "7         Delaware         DE   Democratic          1            1   \n",
       "8          Florida         FL  Republician         20           28   \n",
       "9          Georgia         GA  Republician          9           14   \n",
       "10          Hawaii         HI   Democratic          2            2   \n",
       "11           Idaho         ID  Republician          2            2   \n",
       "12        Illinois         IL   Democratic         14           17   \n",
       "13         Indiana         IN  Republician          7            9   \n",
       "14            Iowa         IA  Republician          4            4   \n",
       "15          Kansas         KS  Republician          3            4   \n",
       "16        Kentucky         KY  Republician          5            6   \n",
       "17       Louisiana         LA  Republician          5            6   \n",
       "18           Maine         ME   Democratic          2            2   \n",
       "19        Maryland         MD   Democratic          7            8   \n",
       "20   Massachusetts         MA   Democratic          9            9   \n",
       "21        Michigan         MI   Democratic          7           13   \n",
       "22       Minnesota         MN   Democratic          4            8   \n",
       "23     Mississippi         MS  Republician          3            4   \n",
       "24        Missouri         MO  Republician          6            8   \n",
       "25         Montana         MT  Republician          2            2   \n",
       "26        Nebraska         NE  Republician          3            3   \n",
       "27          Nevada         NV   Democratic          3            4   \n",
       "28   New Hampshire         NH   Democratic          2            2   \n",
       "29      New Jersey         NJ   Democratic          9           12   \n",
       "30      New Mexico         NM   Democratic          3            3   \n",
       "31        New York         NY   Democratic         15           26   \n",
       "32  North Carolina         NC   Democratic          7           14   \n",
       "33    North Dakota         ND  Republician          1            1   \n",
       "34            Ohio         OH  Republician         10           15   \n",
       "35        Oklahoma         OK  Republician          5            5   \n",
       "36          Oregon         OR   Democratic          4            6   \n",
       "37    Pennsylvania         PA   Democratic          9           17   \n",
       "38    Rhode Island         RI   Democratic          2            2   \n",
       "39  South Carolina         SC  Republician          6            7   \n",
       "40    South Dakota         SD  Republician          1            1   \n",
       "41       Tennessee         TN  Republician          8            9   \n",
       "42           Texas         TX  Republician         25           38   \n",
       "43            Utah         UT  Republician          4            4   \n",
       "44         Vermont         VT   Democratic          1            1   \n",
       "45        Virginia         VA   Democratic          6           11   \n",
       "46      Washington         WA   Democratic          8           10   \n",
       "47   West Virginia         WV  Republician          2            2   \n",
       "48       Wisconsin         WI  Republician          6            8   \n",
       "49         Wyoming         WY  Republician          1            1   \n",
       "\n",
       "    Republican Votes  Democratic Votes  Libertarian Party Votes  \\\n",
       "0             940265            317724                    74637   \n",
       "1             112255            136893                        0   \n",
       "2             934610           1004461                        0   \n",
       "3             596597            270900                    25288   \n",
       "4            3859662           6743732                        0   \n",
       "5            1050960           1365427                    34234   \n",
       "6             526096            722267                     2140   \n",
       "7             138201            178416                     3074   \n",
       "8            4270761           2904885                    80331   \n",
       "9            2042944           1861986                        0   \n",
       "10            123288            270737                     5108   \n",
       "11            395347            180896                     7274   \n",
       "12           1745498           2020419                        0   \n",
       "13           1102378            714809                    22309   \n",
       "14            677842            526499                        0   \n",
       "15            562050            418582                     6803   \n",
       "16            953226            490842                        0   \n",
       "17            773672            318923                    37235   \n",
       "18            275138            383766                        0   \n",
       "19            690469           1291484                    11049   \n",
       "20            687795           1388472                     5727   \n",
       "21           2080777           2182448                    51448   \n",
       "22           1200855           1250518                        0   \n",
       "23            454330            251202                     3569   \n",
       "24           1220068            791381                    41331   \n",
       "25            245081            158745                    12611   \n",
       "26            411026            231511                        0   \n",
       "27            509183            476175                     8853   \n",
       "28            277466            338585                        0   \n",
       "29           1160239           1416145                        0   \n",
       "30            316313            387565                        0   \n",
       "31           2480971           2976739                        0   \n",
       "32           1956907           1795170                     8325   \n",
       "33            147980                 0                        0   \n",
       "34           2271492           1738315                        0   \n",
       "35            759953            356611                        0   \n",
       "36            851991           1012725                        0   \n",
       "37           2208398           2433562                        0   \n",
       "38            149546            200721                        0   \n",
       "39            700500            517129                        0   \n",
       "40            253786                 0                    74010   \n",
       "41           1099590            581998                        0   \n",
       "42           3881492           2991042                   128738   \n",
       "43            670924            342078                     8287   \n",
       "44             78167            175484                    12563   \n",
       "45           1471094           1574819                        0   \n",
       "46           1261961           1751582                        0   \n",
       "47            312004            149706                        0   \n",
       "48           1163558           1013163                    32043   \n",
       "49            132215             47241                     5420   \n",
       "\n",
       "    Green Party Votes  Independent Party Votes  Other Party Votes  \\\n",
       "0                   0                        0               3826   \n",
       "1                   0                        0                  0   \n",
       "2                   0                    18851                  0   \n",
       "3                   0                        0                  0   \n",
       "4               52965                        0                  0   \n",
       "5                   0                        0              21100   \n",
       "6                7252                     4056                  0   \n",
       "7                   0                        0               1958   \n",
       "8                   0                        0              74749   \n",
       "9                   0                        0                  0   \n",
       "10                  0                        0                  0   \n",
       "11                  0                        0                  0   \n",
       "12                  0                     4135               4435   \n",
       "13                  0                     9354                  0   \n",
       "14                  0                        0               6035   \n",
       "15                  0                        0                  0   \n",
       "16                  0                    10111                  0   \n",
       "17                  0                     3255                  0   \n",
       "18                  0                        0                362   \n",
       "19                  0                        0                  0   \n",
       "20                  0                        0                  0   \n",
       "21                  0                        0              56220   \n",
       "22                  0                        0              38481   \n",
       "23                  0                        0                  0   \n",
       "24                  0                        0                  0   \n",
       "25                  0                    47195                  0   \n",
       "26                  0                        0              12915   \n",
       "27                  0                        0               4076   \n",
       "28                  0                        0                  0   \n",
       "29                  0                    33032                  0   \n",
       "30                  0                        0                  0   \n",
       "31                  0                        0              28211   \n",
       "32                  0                        0                  0   \n",
       "33                  0                    89371                  0   \n",
       "34                  0                        0                  0   \n",
       "35                  0                    28634                  0   \n",
       "36                  0                     9052              29852   \n",
       "37                  0                        0              12820   \n",
       "38                  0                     5454                  0   \n",
       "39               3547                        0               2634   \n",
       "40                  0                        0                  0   \n",
       "41                  0                    29006                  0   \n",
       "42                  0                    62870                  0   \n",
       "43                  0                        0              41941   \n",
       "44                  0                    13468                  0   \n",
       "45                  0                     7469                  0   \n",
       "46                  0                        0                  0   \n",
       "47                  0                    10257                  0   \n",
       "48                  0                    63858                  0   \n",
       "49                  0                        0               4503   \n",
       "\n",
       "    Rep won seats %  \n",
       "0         85.714286  \n",
       "1          0.000000  \n",
       "2         66.666667  \n",
       "3        100.000000  \n",
       "4         23.076923  \n",
       "5         37.500000  \n",
       "6          0.000000  \n",
       "7          0.000000  \n",
       "8         71.428571  \n",
       "9         64.285714  \n",
       "10         0.000000  \n",
       "11       100.000000  \n",
       "12        17.647059  \n",
       "13        77.777778  \n",
       "14       100.000000  \n",
       "15        75.000000  \n",
       "16        83.333333  \n",
       "17        83.333333  \n",
       "18         0.000000  \n",
       "19        12.500000  \n",
       "20         0.000000  \n",
       "21        46.153846  \n",
       "22        50.000000  \n",
       "23        75.000000  \n",
       "24        75.000000  \n",
       "25       100.000000  \n",
       "26       100.000000  \n",
       "27        25.000000  \n",
       "28         0.000000  \n",
       "29        25.000000  \n",
       "30         0.000000  \n",
       "31        42.307692  \n",
       "32        50.000000  \n",
       "33       100.000000  \n",
       "34        66.666667  \n",
       "35       100.000000  \n",
       "36        33.333333  \n",
       "37        47.058824  \n",
       "38         0.000000  \n",
       "39        85.714286  \n",
       "40       100.000000  \n",
       "41        88.888889  \n",
       "42        65.789474  \n",
       "43       100.000000  \n",
       "44         0.000000  \n",
       "45        45.454545  \n",
       "46        20.000000  \n",
       "47       100.000000  \n",
       "48        75.000000  \n",
       "49       100.000000  "
      ]
     },
     "execution_count": 21,
     "metadata": {},
     "output_type": "execute_result"
    }
   ],
   "source": [
    "#creating the dataframe for map\n",
    "df_grouped = df.groupby('State')\n",
    "\n",
    "state_code = df_grouped.apply(lambda x: x['State Code'].iloc[0])\n",
    "Won_party = df_grouped.apply(lambda x: x.loc[x['Elected'], 'Won Party'].value_counts().index[0])\n",
    "\n",
    "rep_num_win_seats = df_grouped.apply(lambda x: (x['Elected'] & (x['Won Party'] == 'Republician')).sum())\n",
    "demo_num_win_seats = df_grouped.apply(lambda x: (x['Elected'] & (x['Won Party'] == 'Democratic')).sum())\n",
    "lib_num_win_seats = df_grouped.apply(lambda x: (x['Elected'] & (x['Won Party'] == 'Libertarian Party')).sum())\n",
    "\n",
    "num_win_seats = df_grouped.apply(lambda x: max(\n",
    "    sum(x['Elected'] & (x['Won Party'] == 'Republician')),\n",
    "    sum(x['Elected'] & (x['Won Party'] == 'Democratic')),\n",
    "    sum(x['Elected'] & (x['Won Party'] == 'Libertarian Party'))\n",
    "))\n",
    "\n",
    "total_seats = df_grouped['District'].nunique()\n",
    "\n",
    "repu_votes_total = df_grouped.apply(lambda x: x.loc[x['Party'] == 'Republician', 'Votes'].sum())\n",
    "demo_votes_total = df_grouped.apply(lambda x: x.loc[x['Party'] == 'Democratic', 'Votes'].sum())\n",
    "liber_votes_total = df_grouped.apply(lambda x: x.loc[x['Party'] == 'Libertarian Party', 'Votes'].sum())\n",
    "other_votes_total = df_grouped.apply(lambda x: x.loc[x['Party'] == 'Other Party', 'Votes'].sum())\n",
    "green_votes_total = df_grouped.apply(lambda x: x.loc[x['Party'] == 'Green Party', 'Votes'].sum())\n",
    "ind_votes_total = df_grouped.apply(lambda x: x.loc[x['Party'] == 'Independent Party', 'Votes'].sum())\n",
    "\n",
    "repu_win_rate = rep_num_win_seats / total_seats\n",
    "\n",
    "final_df = pd.DataFrame({\n",
    "    'State': Won_party.index,\n",
    "    'State Code': state_code.values,\n",
    "    'Won Party': Won_party.values,\n",
    "    'Won Seats': num_win_seats.values,\n",
    "    'Total Seats': total_seats.values,\n",
    "    'Republican Votes': repu_votes_total.values,\n",
    "    'Democratic Votes': demo_votes_total.values,\n",
    "    'Libertarian Party Votes': liber_votes_total.values,\n",
    "    'Green Party Votes': green_votes_total.values,\n",
    "    'Independent Party Votes': ind_votes_total.values,\n",
    "    'Other Party Votes': other_votes_total.values,\n",
    "    'Rep won seats %': repu_win_rate.values,\n",
    "})\n",
    "\n",
    "final_df['Rep won seats %'] = final_df['Rep won seats %'] *100\n",
    "final_df"
   ]
  },
  {
   "cell_type": "code",
   "execution_count": 22,
   "metadata": {},
   "outputs": [
    {
     "data": {
      "text/html": [
       "<div>\n",
       "<style scoped>\n",
       "    .dataframe tbody tr th:only-of-type {\n",
       "        vertical-align: middle;\n",
       "    }\n",
       "\n",
       "    .dataframe tbody tr th {\n",
       "        vertical-align: top;\n",
       "    }\n",
       "\n",
       "    .dataframe thead th {\n",
       "        text-align: right;\n",
       "    }\n",
       "</style>\n",
       "<table border=\"1\" class=\"dataframe\">\n",
       "  <thead>\n",
       "    <tr style=\"text-align: right;\">\n",
       "      <th></th>\n",
       "      <th>State</th>\n",
       "      <th>State Code</th>\n",
       "      <th>Parties</th>\n",
       "      <th>Votes</th>\n",
       "      <th>color</th>\n",
       "    </tr>\n",
       "  </thead>\n",
       "  <tbody>\n",
       "    <tr>\n",
       "      <th>0</th>\n",
       "      <td>Alabama</td>\n",
       "      <td>AL</td>\n",
       "      <td>Democratic</td>\n",
       "      <td>317724</td>\n",
       "      <td>Democratic</td>\n",
       "    </tr>\n",
       "    <tr>\n",
       "      <th>1</th>\n",
       "      <td>Alabama</td>\n",
       "      <td>AL</td>\n",
       "      <td>Libertarian</td>\n",
       "      <td>74637</td>\n",
       "      <td>Libertarian</td>\n",
       "    </tr>\n",
       "    <tr>\n",
       "      <th>2</th>\n",
       "      <td>Alabama</td>\n",
       "      <td>AL</td>\n",
       "      <td>Other</td>\n",
       "      <td>3826</td>\n",
       "      <td>Other</td>\n",
       "    </tr>\n",
       "    <tr>\n",
       "      <th>3</th>\n",
       "      <td>Alabama</td>\n",
       "      <td>AL</td>\n",
       "      <td>Republician</td>\n",
       "      <td>940265</td>\n",
       "      <td>Republician</td>\n",
       "    </tr>\n",
       "    <tr>\n",
       "      <th>4</th>\n",
       "      <td>Alaska</td>\n",
       "      <td>AK</td>\n",
       "      <td>Democratic</td>\n",
       "      <td>136893</td>\n",
       "      <td>Democratic</td>\n",
       "    </tr>\n",
       "    <tr>\n",
       "      <th>...</th>\n",
       "      <td>...</td>\n",
       "      <td>...</td>\n",
       "      <td>...</td>\n",
       "      <td>...</td>\n",
       "      <td>...</td>\n",
       "    </tr>\n",
       "    <tr>\n",
       "      <th>159</th>\n",
       "      <td>Wisconsin</td>\n",
       "      <td>WI</td>\n",
       "      <td>Republician</td>\n",
       "      <td>1163558</td>\n",
       "      <td>Republician</td>\n",
       "    </tr>\n",
       "    <tr>\n",
       "      <th>160</th>\n",
       "      <td>Wyoming</td>\n",
       "      <td>WY</td>\n",
       "      <td>Democratic</td>\n",
       "      <td>47241</td>\n",
       "      <td>Democratic</td>\n",
       "    </tr>\n",
       "    <tr>\n",
       "      <th>161</th>\n",
       "      <td>Wyoming</td>\n",
       "      <td>WY</td>\n",
       "      <td>Libertarian</td>\n",
       "      <td>5420</td>\n",
       "      <td>Libertarian</td>\n",
       "    </tr>\n",
       "    <tr>\n",
       "      <th>162</th>\n",
       "      <td>Wyoming</td>\n",
       "      <td>WY</td>\n",
       "      <td>Other</td>\n",
       "      <td>4503</td>\n",
       "      <td>Other</td>\n",
       "    </tr>\n",
       "    <tr>\n",
       "      <th>163</th>\n",
       "      <td>Wyoming</td>\n",
       "      <td>WY</td>\n",
       "      <td>Republician</td>\n",
       "      <td>132215</td>\n",
       "      <td>Republician</td>\n",
       "    </tr>\n",
       "  </tbody>\n",
       "</table>\n",
       "<p>164 rows × 5 columns</p>\n",
       "</div>"
      ],
      "text/plain": [
       "         State State Code      Parties    Votes        color\n",
       "0      Alabama         AL   Democratic   317724   Democratic\n",
       "1      Alabama         AL  Libertarian    74637  Libertarian\n",
       "2      Alabama         AL        Other     3826        Other\n",
       "3      Alabama         AL  Republician   940265  Republician\n",
       "4       Alaska         AK   Democratic   136893   Democratic\n",
       "..         ...        ...          ...      ...          ...\n",
       "159  Wisconsin         WI  Republician  1163558  Republician\n",
       "160    Wyoming         WY   Democratic    47241   Democratic\n",
       "161    Wyoming         WY  Libertarian     5420  Libertarian\n",
       "162    Wyoming         WY        Other     4503        Other\n",
       "163    Wyoming         WY  Republician   132215  Republician\n",
       "\n",
       "[164 rows x 5 columns]"
      ]
     },
     "execution_count": 22,
     "metadata": {},
     "output_type": "execute_result"
    }
   ],
   "source": [
    "#datasets for bar chart1\n",
    "partyvotes_df = df.groupby(['State','State Code','Party'])['Votes'].sum()\n",
    "partyvotes_df = partyvotes_df.reset_index()\n",
    "partyvotes_df = partyvotes_df.replace({'Libertarian Party': 'Libertarian', 'Green Party': 'Green', 'Independent Party': 'Independent', 'Other Party': 'Other'})\n",
    "partyvotes_df['color'] = partyvotes_df['Party']\n",
    "partyvotes_df = partyvotes_df.rename(columns={'Party':'Parties'})\n",
    "partyvotes_df"
   ]
  },
  {
   "cell_type": "code",
   "execution_count": 23,
   "metadata": {
    "scrolled": true
   },
   "outputs": [
    {
     "data": {
      "text/html": [
       "<div>\n",
       "<style scoped>\n",
       "    .dataframe tbody tr th:only-of-type {\n",
       "        vertical-align: middle;\n",
       "    }\n",
       "\n",
       "    .dataframe tbody tr th {\n",
       "        vertical-align: top;\n",
       "    }\n",
       "\n",
       "    .dataframe thead th {\n",
       "        text-align: right;\n",
       "    }\n",
       "</style>\n",
       "<table border=\"1\" class=\"dataframe\">\n",
       "  <thead>\n",
       "    <tr style=\"text-align: right;\">\n",
       "      <th></th>\n",
       "      <th>State</th>\n",
       "      <th>State Code</th>\n",
       "      <th>District</th>\n",
       "      <th>Votes</th>\n",
       "      <th>Party</th>\n",
       "      <th>Candidate</th>\n",
       "      <th>Incumbent</th>\n",
       "    </tr>\n",
       "  </thead>\n",
       "  <tbody>\n",
       "    <tr>\n",
       "      <th>0</th>\n",
       "      <td>Alabama</td>\n",
       "      <td>AL</td>\n",
       "      <td>1st</td>\n",
       "      <td>139854</td>\n",
       "      <td>Republician</td>\n",
       "      <td>Carl</td>\n",
       "      <td>Yes</td>\n",
       "    </tr>\n",
       "    <tr>\n",
       "      <th>1</th>\n",
       "      <td>Alabama</td>\n",
       "      <td>AL</td>\n",
       "      <td>2nd</td>\n",
       "      <td>137193</td>\n",
       "      <td>Republician</td>\n",
       "      <td>Moore</td>\n",
       "      <td>Yes</td>\n",
       "    </tr>\n",
       "    <tr>\n",
       "      <th>2</th>\n",
       "      <td>Alabama</td>\n",
       "      <td>AL</td>\n",
       "      <td>3rd</td>\n",
       "      <td>135448</td>\n",
       "      <td>Republician</td>\n",
       "      <td>Rogers</td>\n",
       "      <td>Yes</td>\n",
       "    </tr>\n",
       "    <tr>\n",
       "      <th>3</th>\n",
       "      <td>Alabama</td>\n",
       "      <td>AL</td>\n",
       "      <td>4th</td>\n",
       "      <td>164371</td>\n",
       "      <td>Republician</td>\n",
       "      <td>Aderholt</td>\n",
       "      <td>Yes</td>\n",
       "    </tr>\n",
       "    <tr>\n",
       "      <th>4</th>\n",
       "      <td>Alabama</td>\n",
       "      <td>AL</td>\n",
       "      <td>5th</td>\n",
       "      <td>141988</td>\n",
       "      <td>Republician</td>\n",
       "      <td>Strong</td>\n",
       "      <td>No</td>\n",
       "    </tr>\n",
       "    <tr>\n",
       "      <th>...</th>\n",
       "      <td>...</td>\n",
       "      <td>...</td>\n",
       "      <td>...</td>\n",
       "      <td>...</td>\n",
       "      <td>...</td>\n",
       "      <td>...</td>\n",
       "      <td>...</td>\n",
       "    </tr>\n",
       "    <tr>\n",
       "      <th>430</th>\n",
       "      <td>Wisconsin</td>\n",
       "      <td>WI</td>\n",
       "      <td>5th</td>\n",
       "      <td>243734</td>\n",
       "      <td>Republician</td>\n",
       "      <td>Fitzgerald</td>\n",
       "      <td>Yes</td>\n",
       "    </tr>\n",
       "    <tr>\n",
       "      <th>431</th>\n",
       "      <td>Wisconsin</td>\n",
       "      <td>WI</td>\n",
       "      <td>6th</td>\n",
       "      <td>0</td>\n",
       "      <td>Republician</td>\n",
       "      <td>Grothman</td>\n",
       "      <td>Yes</td>\n",
       "    </tr>\n",
       "    <tr>\n",
       "      <th>432</th>\n",
       "      <td>Wisconsin</td>\n",
       "      <td>WI</td>\n",
       "      <td>7th</td>\n",
       "      <td>209270</td>\n",
       "      <td>Republician</td>\n",
       "      <td>Tiffany</td>\n",
       "      <td>Yes</td>\n",
       "    </tr>\n",
       "    <tr>\n",
       "      <th>433</th>\n",
       "      <td>Wisconsin</td>\n",
       "      <td>WI</td>\n",
       "      <td>8th</td>\n",
       "      <td>223806</td>\n",
       "      <td>Republician</td>\n",
       "      <td>Gallagher</td>\n",
       "      <td>Yes</td>\n",
       "    </tr>\n",
       "    <tr>\n",
       "      <th>434</th>\n",
       "      <td>Wyoming</td>\n",
       "      <td>WY</td>\n",
       "      <td>At Large</td>\n",
       "      <td>132215</td>\n",
       "      <td>Republician</td>\n",
       "      <td>Harriet Hageman</td>\n",
       "      <td>No</td>\n",
       "    </tr>\n",
       "  </tbody>\n",
       "</table>\n",
       "<p>435 rows × 7 columns</p>\n",
       "</div>"
      ],
      "text/plain": [
       "         State State Code  District   Votes        Party        Candidate  \\\n",
       "0      Alabama         AL       1st  139854  Republician             Carl   \n",
       "1      Alabama         AL       2nd  137193  Republician            Moore   \n",
       "2      Alabama         AL       3rd  135448  Republician           Rogers   \n",
       "3      Alabama         AL       4th  164371  Republician         Aderholt   \n",
       "4      Alabama         AL       5th  141988  Republician           Strong   \n",
       "..         ...        ...       ...     ...          ...              ...   \n",
       "430  Wisconsin         WI       5th  243734  Republician       Fitzgerald   \n",
       "431  Wisconsin         WI       6th       0  Republician         Grothman   \n",
       "432  Wisconsin         WI       7th  209270  Republician          Tiffany   \n",
       "433  Wisconsin         WI       8th  223806  Republician        Gallagher   \n",
       "434    Wyoming         WY  At Large  132215  Republician  Harriet Hageman   \n",
       "\n",
       "    Incumbent  \n",
       "0         Yes  \n",
       "1         Yes  \n",
       "2         Yes  \n",
       "3         Yes  \n",
       "4          No  \n",
       "..        ...  \n",
       "430       Yes  \n",
       "431       Yes  \n",
       "432       Yes  \n",
       "433       Yes  \n",
       "434        No  \n",
       "\n",
       "[435 rows x 7 columns]"
      ]
     },
     "execution_count": 23,
     "metadata": {},
     "output_type": "execute_result"
    }
   ],
   "source": [
    "#datasets for bar chart2\n",
    "dff = df[df['Elected'] == True]\n",
    "districtvotes_df = dff.groupby(['State','State Code','District'])['Votes'].sum()\n",
    "districtvotes_df = districtvotes_df.reset_index()\n",
    "districtvotes_df = pd.merge(districtvotes_df,dff[['State','District','Party','Candidate', 'Incumbent']],on=['State','District'],how='left')\n",
    "districtvotes_df = districtvotes_df.drop_duplicates()\n",
    "districtvotes_df"
   ]
  },
  {
   "cell_type": "code",
   "execution_count": 24,
   "metadata": {},
   "outputs": [
    {
     "data": {
      "application/vnd.plotly.v1+json": {
       "config": {
        "plotlyServerURL": "https://plot.ly"
       },
       "data": [
        {
         "coloraxis": "coloraxis",
         "customdata": [
          [
           "AL",
           "Republician",
           6,
           7,
           940265,
           317724,
           74637,
           0,
           0,
           3826,
           85.71428571428571
          ],
          [
           "AK",
           "Democratic",
           1,
           1,
           112255,
           136893,
           0,
           0,
           0,
           0,
           0
          ],
          [
           "AZ",
           "Republician",
           6,
           9,
           934610,
           1004461,
           0,
           18851,
           0,
           0,
           66.66666666666666
          ],
          [
           "AR",
           "Republician",
           4,
           4,
           596597,
           270900,
           25288,
           0,
           0,
           0,
           100
          ],
          [
           "CA",
           "Democratic",
           40,
           52,
           3859662,
           6743732,
           0,
           0,
           52965,
           0,
           23.076923076923077
          ],
          [
           "CO",
           "Democratic",
           5,
           8,
           1050960,
           1365427,
           34234,
           0,
           0,
           21100,
           37.5
          ],
          [
           "CT",
           "Democratic",
           5,
           5,
           526096,
           722267,
           2140,
           4056,
           7252,
           0,
           0
          ],
          [
           "DE",
           "Democratic",
           1,
           1,
           138201,
           178416,
           3074,
           0,
           0,
           1958,
           0
          ],
          [
           "FL",
           "Republician",
           20,
           28,
           4270761,
           2904885,
           80331,
           0,
           0,
           74749,
           71.42857142857143
          ],
          [
           "GA",
           "Republician",
           9,
           14,
           2042944,
           1861986,
           0,
           0,
           0,
           0,
           64.28571428571429
          ],
          [
           "HI",
           "Democratic",
           2,
           2,
           123288,
           270737,
           5108,
           0,
           0,
           0,
           0
          ],
          [
           "ID",
           "Republician",
           2,
           2,
           395347,
           180896,
           7274,
           0,
           0,
           0,
           100
          ],
          [
           "IL",
           "Democratic",
           14,
           17,
           1745498,
           2020419,
           0,
           4135,
           0,
           4435,
           17.647058823529413
          ],
          [
           "IN",
           "Republician",
           7,
           9,
           1102378,
           714809,
           22309,
           9354,
           0,
           0,
           77.77777777777779
          ],
          [
           "IA",
           "Republician",
           4,
           4,
           677842,
           526499,
           0,
           0,
           0,
           6035,
           100
          ],
          [
           "KS",
           "Republician",
           3,
           4,
           562050,
           418582,
           6803,
           0,
           0,
           0,
           75
          ],
          [
           "KY",
           "Republician",
           5,
           6,
           953226,
           490842,
           0,
           10111,
           0,
           0,
           83.33333333333334
          ],
          [
           "LA",
           "Republician",
           5,
           6,
           773672,
           318923,
           37235,
           3255,
           0,
           0,
           83.33333333333334
          ],
          [
           "ME",
           "Democratic",
           2,
           2,
           275138,
           383766,
           0,
           0,
           0,
           362,
           0
          ],
          [
           "MD",
           "Democratic",
           7,
           8,
           690469,
           1291484,
           11049,
           0,
           0,
           0,
           12.5
          ],
          [
           "MA",
           "Democratic",
           9,
           9,
           687795,
           1388472,
           5727,
           0,
           0,
           0,
           0
          ],
          [
           "MI",
           "Democratic",
           7,
           13,
           2080777,
           2182448,
           51448,
           0,
           0,
           56220,
           46.15384615384615
          ],
          [
           "MN",
           "Democratic",
           4,
           8,
           1200855,
           1250518,
           0,
           0,
           0,
           38481,
           50
          ],
          [
           "MS",
           "Republician",
           3,
           4,
           454330,
           251202,
           3569,
           0,
           0,
           0,
           75
          ],
          [
           "MO",
           "Republician",
           6,
           8,
           1220068,
           791381,
           41331,
           0,
           0,
           0,
           75
          ],
          [
           "MT",
           "Republician",
           2,
           2,
           245081,
           158745,
           12611,
           47195,
           0,
           0,
           100
          ],
          [
           "NE",
           "Republician",
           3,
           3,
           411026,
           231511,
           0,
           0,
           0,
           12915,
           100
          ],
          [
           "NV",
           "Democratic",
           3,
           4,
           509183,
           476175,
           8853,
           0,
           0,
           4076,
           25
          ],
          [
           "NH",
           "Democratic",
           2,
           2,
           277466,
           338585,
           0,
           0,
           0,
           0,
           0
          ],
          [
           "NJ",
           "Democratic",
           9,
           12,
           1160239,
           1416145,
           0,
           33032,
           0,
           0,
           25
          ],
          [
           "NM",
           "Democratic",
           3,
           3,
           316313,
           387565,
           0,
           0,
           0,
           0,
           0
          ],
          [
           "NY",
           "Democratic",
           15,
           26,
           2480971,
           2976739,
           0,
           0,
           0,
           28211,
           42.30769230769231
          ],
          [
           "NC",
           "Democratic",
           7,
           14,
           1956907,
           1795170,
           8325,
           0,
           0,
           0,
           50
          ],
          [
           "ND",
           "Republician",
           1,
           1,
           147980,
           0,
           0,
           89371,
           0,
           0,
           100
          ],
          [
           "OH",
           "Republician",
           10,
           15,
           2271492,
           1738315,
           0,
           0,
           0,
           0,
           66.66666666666666
          ],
          [
           "OK",
           "Republician",
           5,
           5,
           759953,
           356611,
           0,
           28634,
           0,
           0,
           100
          ],
          [
           "OR",
           "Democratic",
           4,
           6,
           851991,
           1012725,
           0,
           9052,
           0,
           29852,
           33.33333333333333
          ],
          [
           "PA",
           "Democratic",
           9,
           17,
           2208398,
           2433562,
           0,
           0,
           0,
           12820,
           47.05882352941176
          ],
          [
           "RI",
           "Democratic",
           2,
           2,
           149546,
           200721,
           0,
           5454,
           0,
           0,
           0
          ],
          [
           "SC",
           "Republician",
           6,
           7,
           700500,
           517129,
           0,
           0,
           3547,
           2634,
           85.71428571428571
          ],
          [
           "SD",
           "Republician",
           1,
           1,
           253786,
           0,
           74010,
           0,
           0,
           0,
           100
          ],
          [
           "TN",
           "Republician",
           8,
           9,
           1099590,
           581998,
           0,
           29006,
           0,
           0,
           88.88888888888889
          ],
          [
           "TX",
           "Republician",
           25,
           38,
           3881492,
           2991042,
           128738,
           62870,
           0,
           0,
           65.78947368421053
          ],
          [
           "UT",
           "Republician",
           4,
           4,
           670924,
           342078,
           8287,
           0,
           0,
           41941,
           100
          ],
          [
           "VT",
           "Democratic",
           1,
           1,
           78167,
           175484,
           12563,
           13468,
           0,
           0,
           0
          ],
          [
           "VA",
           "Democratic",
           6,
           11,
           1471094,
           1574819,
           0,
           7469,
           0,
           0,
           45.45454545454545
          ],
          [
           "WA",
           "Democratic",
           8,
           10,
           1261961,
           1751582,
           0,
           0,
           0,
           0,
           20
          ],
          [
           "WV",
           "Republician",
           2,
           2,
           312004,
           149706,
           0,
           10257,
           0,
           0,
           100
          ],
          [
           "WI",
           "Republician",
           6,
           8,
           1163558,
           1013163,
           32043,
           63858,
           0,
           0,
           75
          ],
          [
           "WY",
           "Republician",
           1,
           1,
           132215,
           47241,
           5420,
           0,
           0,
           4503,
           100
          ]
         ],
         "geo": "geo",
         "hovertemplate": "<b>%{hovertext}</b><br><br>State Code=%{customdata[0]}<br>Won Party=%{customdata[1]}<br>Won Seats=%{customdata[2]}<br>Total Seats=%{customdata[3]}<br>Republican Votes=%{customdata[4]}<br>Democratic Votes=%{customdata[5]}<br>Libertarian Party Votes=%{customdata[6]}<br>Independent Party Votes=%{customdata[7]}<br>Green Party Votes=%{customdata[8]}<br>Other Party Votes=%{customdata[9]}<br>Rep won seats %=%{z}<extra></extra>",
         "hovertext": [
          "Alabama",
          "Alaska",
          "Arizona",
          "Arkansas",
          "California",
          "Colorado",
          "Connecticut",
          "Delaware",
          "Florida",
          "Georgia",
          "Hawaii",
          "Idaho",
          "Illinois",
          "Indiana",
          "Iowa",
          "Kansas",
          "Kentucky",
          "Louisiana",
          "Maine",
          "Maryland",
          "Massachusetts",
          "Michigan",
          "Minnesota",
          "Mississippi",
          "Missouri",
          "Montana",
          "Nebraska",
          "Nevada",
          "New Hampshire",
          "New Jersey",
          "New Mexico",
          "New York",
          "North Carolina",
          "North Dakota",
          "Ohio",
          "Oklahoma",
          "Oregon",
          "Pennsylvania",
          "Rhode Island",
          "South Carolina",
          "South Dakota",
          "Tennessee",
          "Texas",
          "Utah",
          "Vermont",
          "Virginia",
          "Washington",
          "West Virginia",
          "Wisconsin",
          "Wyoming"
         ],
         "locationmode": "USA-states",
         "locations": [
          "AL",
          "AK",
          "AZ",
          "AR",
          "CA",
          "CO",
          "CT",
          "DE",
          "FL",
          "GA",
          "HI",
          "ID",
          "IL",
          "IN",
          "IA",
          "KS",
          "KY",
          "LA",
          "ME",
          "MD",
          "MA",
          "MI",
          "MN",
          "MS",
          "MO",
          "MT",
          "NE",
          "NV",
          "NH",
          "NJ",
          "NM",
          "NY",
          "NC",
          "ND",
          "OH",
          "OK",
          "OR",
          "PA",
          "RI",
          "SC",
          "SD",
          "TN",
          "TX",
          "UT",
          "VT",
          "VA",
          "WA",
          "WV",
          "WI",
          "WY"
         ],
         "name": "",
         "type": "choropleth",
         "z": [
          85.71428571428571,
          0,
          66.66666666666666,
          100,
          23.076923076923077,
          37.5,
          0,
          0,
          71.42857142857143,
          64.28571428571429,
          0,
          100,
          17.647058823529413,
          77.77777777777779,
          100,
          75,
          83.33333333333334,
          83.33333333333334,
          0,
          12.5,
          0,
          46.15384615384615,
          50,
          75,
          75,
          100,
          100,
          25,
          0,
          25,
          0,
          42.30769230769231,
          50,
          100,
          66.66666666666666,
          100,
          33.33333333333333,
          47.05882352941176,
          0,
          85.71428571428571,
          100,
          88.88888888888889,
          65.78947368421053,
          100,
          0,
          45.45454545454545,
          20,
          100,
          75,
          100
         ]
        }
       ],
       "layout": {
        "coloraxis": {
         "cmax": 100,
         "cmin": 0,
         "colorbar": {
          "title": {
           "text": "Rep won seats %"
          }
         },
         "colorscale": [
          [
           0,
           "rgb(5,48,97)"
          ],
          [
           0.1,
           "rgb(33,102,172)"
          ],
          [
           0.2,
           "rgb(67,147,195)"
          ],
          [
           0.3,
           "rgb(146,197,222)"
          ],
          [
           0.4,
           "rgb(209,229,240)"
          ],
          [
           0.5,
           "rgb(247,247,247)"
          ],
          [
           0.6,
           "rgb(253,219,199)"
          ],
          [
           0.7,
           "rgb(244,165,130)"
          ],
          [
           0.8,
           "rgb(214,96,77)"
          ],
          [
           0.9,
           "rgb(178,24,43)"
          ],
          [
           1,
           "rgb(103,0,31)"
          ]
         ]
        },
        "geo": {
         "center": {},
         "domain": {
          "x": [
           0,
           1
          ],
          "y": [
           0,
           1
          ]
         },
         "projection": {
          "type": "albers usa"
         },
         "scope": "usa"
        },
        "height": 600,
        "legend": {
         "tracegroupgap": 0
        },
        "margin": {
         "t": 60
        },
        "template": {
         "data": {
          "bar": [
           {
            "error_x": {
             "color": "#2a3f5f"
            },
            "error_y": {
             "color": "#2a3f5f"
            },
            "marker": {
             "line": {
              "color": "#E5ECF6",
              "width": 0.5
             },
             "pattern": {
              "fillmode": "overlay",
              "size": 10,
              "solidity": 0.2
             }
            },
            "type": "bar"
           }
          ],
          "barpolar": [
           {
            "marker": {
             "line": {
              "color": "#E5ECF6",
              "width": 0.5
             },
             "pattern": {
              "fillmode": "overlay",
              "size": 10,
              "solidity": 0.2
             }
            },
            "type": "barpolar"
           }
          ],
          "carpet": [
           {
            "aaxis": {
             "endlinecolor": "#2a3f5f",
             "gridcolor": "white",
             "linecolor": "white",
             "minorgridcolor": "white",
             "startlinecolor": "#2a3f5f"
            },
            "baxis": {
             "endlinecolor": "#2a3f5f",
             "gridcolor": "white",
             "linecolor": "white",
             "minorgridcolor": "white",
             "startlinecolor": "#2a3f5f"
            },
            "type": "carpet"
           }
          ],
          "choropleth": [
           {
            "colorbar": {
             "outlinewidth": 0,
             "ticks": ""
            },
            "type": "choropleth"
           }
          ],
          "contour": [
           {
            "colorbar": {
             "outlinewidth": 0,
             "ticks": ""
            },
            "colorscale": [
             [
              0,
              "#0d0887"
             ],
             [
              0.1111111111111111,
              "#46039f"
             ],
             [
              0.2222222222222222,
              "#7201a8"
             ],
             [
              0.3333333333333333,
              "#9c179e"
             ],
             [
              0.4444444444444444,
              "#bd3786"
             ],
             [
              0.5555555555555556,
              "#d8576b"
             ],
             [
              0.6666666666666666,
              "#ed7953"
             ],
             [
              0.7777777777777778,
              "#fb9f3a"
             ],
             [
              0.8888888888888888,
              "#fdca26"
             ],
             [
              1,
              "#f0f921"
             ]
            ],
            "type": "contour"
           }
          ],
          "contourcarpet": [
           {
            "colorbar": {
             "outlinewidth": 0,
             "ticks": ""
            },
            "type": "contourcarpet"
           }
          ],
          "heatmap": [
           {
            "colorbar": {
             "outlinewidth": 0,
             "ticks": ""
            },
            "colorscale": [
             [
              0,
              "#0d0887"
             ],
             [
              0.1111111111111111,
              "#46039f"
             ],
             [
              0.2222222222222222,
              "#7201a8"
             ],
             [
              0.3333333333333333,
              "#9c179e"
             ],
             [
              0.4444444444444444,
              "#bd3786"
             ],
             [
              0.5555555555555556,
              "#d8576b"
             ],
             [
              0.6666666666666666,
              "#ed7953"
             ],
             [
              0.7777777777777778,
              "#fb9f3a"
             ],
             [
              0.8888888888888888,
              "#fdca26"
             ],
             [
              1,
              "#f0f921"
             ]
            ],
            "type": "heatmap"
           }
          ],
          "heatmapgl": [
           {
            "colorbar": {
             "outlinewidth": 0,
             "ticks": ""
            },
            "colorscale": [
             [
              0,
              "#0d0887"
             ],
             [
              0.1111111111111111,
              "#46039f"
             ],
             [
              0.2222222222222222,
              "#7201a8"
             ],
             [
              0.3333333333333333,
              "#9c179e"
             ],
             [
              0.4444444444444444,
              "#bd3786"
             ],
             [
              0.5555555555555556,
              "#d8576b"
             ],
             [
              0.6666666666666666,
              "#ed7953"
             ],
             [
              0.7777777777777778,
              "#fb9f3a"
             ],
             [
              0.8888888888888888,
              "#fdca26"
             ],
             [
              1,
              "#f0f921"
             ]
            ],
            "type": "heatmapgl"
           }
          ],
          "histogram": [
           {
            "marker": {
             "pattern": {
              "fillmode": "overlay",
              "size": 10,
              "solidity": 0.2
             }
            },
            "type": "histogram"
           }
          ],
          "histogram2d": [
           {
            "colorbar": {
             "outlinewidth": 0,
             "ticks": ""
            },
            "colorscale": [
             [
              0,
              "#0d0887"
             ],
             [
              0.1111111111111111,
              "#46039f"
             ],
             [
              0.2222222222222222,
              "#7201a8"
             ],
             [
              0.3333333333333333,
              "#9c179e"
             ],
             [
              0.4444444444444444,
              "#bd3786"
             ],
             [
              0.5555555555555556,
              "#d8576b"
             ],
             [
              0.6666666666666666,
              "#ed7953"
             ],
             [
              0.7777777777777778,
              "#fb9f3a"
             ],
             [
              0.8888888888888888,
              "#fdca26"
             ],
             [
              1,
              "#f0f921"
             ]
            ],
            "type": "histogram2d"
           }
          ],
          "histogram2dcontour": [
           {
            "colorbar": {
             "outlinewidth": 0,
             "ticks": ""
            },
            "colorscale": [
             [
              0,
              "#0d0887"
             ],
             [
              0.1111111111111111,
              "#46039f"
             ],
             [
              0.2222222222222222,
              "#7201a8"
             ],
             [
              0.3333333333333333,
              "#9c179e"
             ],
             [
              0.4444444444444444,
              "#bd3786"
             ],
             [
              0.5555555555555556,
              "#d8576b"
             ],
             [
              0.6666666666666666,
              "#ed7953"
             ],
             [
              0.7777777777777778,
              "#fb9f3a"
             ],
             [
              0.8888888888888888,
              "#fdca26"
             ],
             [
              1,
              "#f0f921"
             ]
            ],
            "type": "histogram2dcontour"
           }
          ],
          "mesh3d": [
           {
            "colorbar": {
             "outlinewidth": 0,
             "ticks": ""
            },
            "type": "mesh3d"
           }
          ],
          "parcoords": [
           {
            "line": {
             "colorbar": {
              "outlinewidth": 0,
              "ticks": ""
             }
            },
            "type": "parcoords"
           }
          ],
          "pie": [
           {
            "automargin": true,
            "type": "pie"
           }
          ],
          "scatter": [
           {
            "fillpattern": {
             "fillmode": "overlay",
             "size": 10,
             "solidity": 0.2
            },
            "type": "scatter"
           }
          ],
          "scatter3d": [
           {
            "line": {
             "colorbar": {
              "outlinewidth": 0,
              "ticks": ""
             }
            },
            "marker": {
             "colorbar": {
              "outlinewidth": 0,
              "ticks": ""
             }
            },
            "type": "scatter3d"
           }
          ],
          "scattercarpet": [
           {
            "marker": {
             "colorbar": {
              "outlinewidth": 0,
              "ticks": ""
             }
            },
            "type": "scattercarpet"
           }
          ],
          "scattergeo": [
           {
            "marker": {
             "colorbar": {
              "outlinewidth": 0,
              "ticks": ""
             }
            },
            "type": "scattergeo"
           }
          ],
          "scattergl": [
           {
            "marker": {
             "colorbar": {
              "outlinewidth": 0,
              "ticks": ""
             }
            },
            "type": "scattergl"
           }
          ],
          "scattermapbox": [
           {
            "marker": {
             "colorbar": {
              "outlinewidth": 0,
              "ticks": ""
             }
            },
            "type": "scattermapbox"
           }
          ],
          "scatterpolar": [
           {
            "marker": {
             "colorbar": {
              "outlinewidth": 0,
              "ticks": ""
             }
            },
            "type": "scatterpolar"
           }
          ],
          "scatterpolargl": [
           {
            "marker": {
             "colorbar": {
              "outlinewidth": 0,
              "ticks": ""
             }
            },
            "type": "scatterpolargl"
           }
          ],
          "scatterternary": [
           {
            "marker": {
             "colorbar": {
              "outlinewidth": 0,
              "ticks": ""
             }
            },
            "type": "scatterternary"
           }
          ],
          "surface": [
           {
            "colorbar": {
             "outlinewidth": 0,
             "ticks": ""
            },
            "colorscale": [
             [
              0,
              "#0d0887"
             ],
             [
              0.1111111111111111,
              "#46039f"
             ],
             [
              0.2222222222222222,
              "#7201a8"
             ],
             [
              0.3333333333333333,
              "#9c179e"
             ],
             [
              0.4444444444444444,
              "#bd3786"
             ],
             [
              0.5555555555555556,
              "#d8576b"
             ],
             [
              0.6666666666666666,
              "#ed7953"
             ],
             [
              0.7777777777777778,
              "#fb9f3a"
             ],
             [
              0.8888888888888888,
              "#fdca26"
             ],
             [
              1,
              "#f0f921"
             ]
            ],
            "type": "surface"
           }
          ],
          "table": [
           {
            "cells": {
             "fill": {
              "color": "#EBF0F8"
             },
             "line": {
              "color": "white"
             }
            },
            "header": {
             "fill": {
              "color": "#C8D4E3"
             },
             "line": {
              "color": "white"
             }
            },
            "type": "table"
           }
          ]
         },
         "layout": {
          "annotationdefaults": {
           "arrowcolor": "#2a3f5f",
           "arrowhead": 0,
           "arrowwidth": 1
          },
          "autotypenumbers": "strict",
          "coloraxis": {
           "colorbar": {
            "outlinewidth": 0,
            "ticks": ""
           }
          },
          "colorscale": {
           "diverging": [
            [
             0,
             "#8e0152"
            ],
            [
             0.1,
             "#c51b7d"
            ],
            [
             0.2,
             "#de77ae"
            ],
            [
             0.3,
             "#f1b6da"
            ],
            [
             0.4,
             "#fde0ef"
            ],
            [
             0.5,
             "#f7f7f7"
            ],
            [
             0.6,
             "#e6f5d0"
            ],
            [
             0.7,
             "#b8e186"
            ],
            [
             0.8,
             "#7fbc41"
            ],
            [
             0.9,
             "#4d9221"
            ],
            [
             1,
             "#276419"
            ]
           ],
           "sequential": [
            [
             0,
             "#0d0887"
            ],
            [
             0.1111111111111111,
             "#46039f"
            ],
            [
             0.2222222222222222,
             "#7201a8"
            ],
            [
             0.3333333333333333,
             "#9c179e"
            ],
            [
             0.4444444444444444,
             "#bd3786"
            ],
            [
             0.5555555555555556,
             "#d8576b"
            ],
            [
             0.6666666666666666,
             "#ed7953"
            ],
            [
             0.7777777777777778,
             "#fb9f3a"
            ],
            [
             0.8888888888888888,
             "#fdca26"
            ],
            [
             1,
             "#f0f921"
            ]
           ],
           "sequentialminus": [
            [
             0,
             "#0d0887"
            ],
            [
             0.1111111111111111,
             "#46039f"
            ],
            [
             0.2222222222222222,
             "#7201a8"
            ],
            [
             0.3333333333333333,
             "#9c179e"
            ],
            [
             0.4444444444444444,
             "#bd3786"
            ],
            [
             0.5555555555555556,
             "#d8576b"
            ],
            [
             0.6666666666666666,
             "#ed7953"
            ],
            [
             0.7777777777777778,
             "#fb9f3a"
            ],
            [
             0.8888888888888888,
             "#fdca26"
            ],
            [
             1,
             "#f0f921"
            ]
           ]
          },
          "colorway": [
           "#636efa",
           "#EF553B",
           "#00cc96",
           "#ab63fa",
           "#FFA15A",
           "#19d3f3",
           "#FF6692",
           "#B6E880",
           "#FF97FF",
           "#FECB52"
          ],
          "font": {
           "color": "#2a3f5f"
          },
          "geo": {
           "bgcolor": "white",
           "lakecolor": "white",
           "landcolor": "#E5ECF6",
           "showlakes": true,
           "showland": true,
           "subunitcolor": "white"
          },
          "hoverlabel": {
           "align": "left"
          },
          "hovermode": "closest",
          "mapbox": {
           "style": "light"
          },
          "paper_bgcolor": "white",
          "plot_bgcolor": "#E5ECF6",
          "polar": {
           "angularaxis": {
            "gridcolor": "white",
            "linecolor": "white",
            "ticks": ""
           },
           "bgcolor": "#E5ECF6",
           "radialaxis": {
            "gridcolor": "white",
            "linecolor": "white",
            "ticks": ""
           }
          },
          "scene": {
           "xaxis": {
            "backgroundcolor": "#E5ECF6",
            "gridcolor": "white",
            "gridwidth": 2,
            "linecolor": "white",
            "showbackground": true,
            "ticks": "",
            "zerolinecolor": "white"
           },
           "yaxis": {
            "backgroundcolor": "#E5ECF6",
            "gridcolor": "white",
            "gridwidth": 2,
            "linecolor": "white",
            "showbackground": true,
            "ticks": "",
            "zerolinecolor": "white"
           },
           "zaxis": {
            "backgroundcolor": "#E5ECF6",
            "gridcolor": "white",
            "gridwidth": 2,
            "linecolor": "white",
            "showbackground": true,
            "ticks": "",
            "zerolinecolor": "white"
           }
          },
          "shapedefaults": {
           "line": {
            "color": "#2a3f5f"
           }
          },
          "ternary": {
           "aaxis": {
            "gridcolor": "white",
            "linecolor": "white",
            "ticks": ""
           },
           "baxis": {
            "gridcolor": "white",
            "linecolor": "white",
            "ticks": ""
           },
           "bgcolor": "#E5ECF6",
           "caxis": {
            "gridcolor": "white",
            "linecolor": "white",
            "ticks": ""
           }
          },
          "title": {
           "x": 0.05
          },
          "xaxis": {
           "automargin": true,
           "gridcolor": "white",
           "linecolor": "white",
           "ticks": "",
           "title": {
            "standoff": 15
           },
           "zerolinecolor": "white",
           "zerolinewidth": 2
          },
          "yaxis": {
           "automargin": true,
           "gridcolor": "white",
           "linecolor": "white",
           "ticks": "",
           "title": {
            "standoff": 15
           },
           "zerolinecolor": "white",
           "zerolinewidth": 2
          }
         }
        },
        "width": 800
       }
      },
      "text/html": [
       "<div>                            <div id=\"5d409210-ed98-479c-8604-eefdd5ce2b8e\" class=\"plotly-graph-div\" style=\"height:600px; width:800px;\"></div>            <script type=\"text/javascript\">                require([\"plotly\"], function(Plotly) {                    window.PLOTLYENV=window.PLOTLYENV || {};                                    if (document.getElementById(\"5d409210-ed98-479c-8604-eefdd5ce2b8e\")) {                    Plotly.newPlot(                        \"5d409210-ed98-479c-8604-eefdd5ce2b8e\",                        [{\"coloraxis\":\"coloraxis\",\"customdata\":[[\"AL\",\"Republician\",6,7,940265,317724,74637,0,0,3826,85.71428571428571],[\"AK\",\"Democratic\",1,1,112255,136893,0,0,0,0,0.0],[\"AZ\",\"Republician\",6,9,934610,1004461,0,18851,0,0,66.66666666666666],[\"AR\",\"Republician\",4,4,596597,270900,25288,0,0,0,100.0],[\"CA\",\"Democratic\",40,52,3859662,6743732,0,0,52965,0,23.076923076923077],[\"CO\",\"Democratic\",5,8,1050960,1365427,34234,0,0,21100,37.5],[\"CT\",\"Democratic\",5,5,526096,722267,2140,4056,7252,0,0.0],[\"DE\",\"Democratic\",1,1,138201,178416,3074,0,0,1958,0.0],[\"FL\",\"Republician\",20,28,4270761,2904885,80331,0,0,74749,71.42857142857143],[\"GA\",\"Republician\",9,14,2042944,1861986,0,0,0,0,64.28571428571429],[\"HI\",\"Democratic\",2,2,123288,270737,5108,0,0,0,0.0],[\"ID\",\"Republician\",2,2,395347,180896,7274,0,0,0,100.0],[\"IL\",\"Democratic\",14,17,1745498,2020419,0,4135,0,4435,17.647058823529413],[\"IN\",\"Republician\",7,9,1102378,714809,22309,9354,0,0,77.77777777777779],[\"IA\",\"Republician\",4,4,677842,526499,0,0,0,6035,100.0],[\"KS\",\"Republician\",3,4,562050,418582,6803,0,0,0,75.0],[\"KY\",\"Republician\",5,6,953226,490842,0,10111,0,0,83.33333333333334],[\"LA\",\"Republician\",5,6,773672,318923,37235,3255,0,0,83.33333333333334],[\"ME\",\"Democratic\",2,2,275138,383766,0,0,0,362,0.0],[\"MD\",\"Democratic\",7,8,690469,1291484,11049,0,0,0,12.5],[\"MA\",\"Democratic\",9,9,687795,1388472,5727,0,0,0,0.0],[\"MI\",\"Democratic\",7,13,2080777,2182448,51448,0,0,56220,46.15384615384615],[\"MN\",\"Democratic\",4,8,1200855,1250518,0,0,0,38481,50.0],[\"MS\",\"Republician\",3,4,454330,251202,3569,0,0,0,75.0],[\"MO\",\"Republician\",6,8,1220068,791381,41331,0,0,0,75.0],[\"MT\",\"Republician\",2,2,245081,158745,12611,47195,0,0,100.0],[\"NE\",\"Republician\",3,3,411026,231511,0,0,0,12915,100.0],[\"NV\",\"Democratic\",3,4,509183,476175,8853,0,0,4076,25.0],[\"NH\",\"Democratic\",2,2,277466,338585,0,0,0,0,0.0],[\"NJ\",\"Democratic\",9,12,1160239,1416145,0,33032,0,0,25.0],[\"NM\",\"Democratic\",3,3,316313,387565,0,0,0,0,0.0],[\"NY\",\"Democratic\",15,26,2480971,2976739,0,0,0,28211,42.30769230769231],[\"NC\",\"Democratic\",7,14,1956907,1795170,8325,0,0,0,50.0],[\"ND\",\"Republician\",1,1,147980,0,0,89371,0,0,100.0],[\"OH\",\"Republician\",10,15,2271492,1738315,0,0,0,0,66.66666666666666],[\"OK\",\"Republician\",5,5,759953,356611,0,28634,0,0,100.0],[\"OR\",\"Democratic\",4,6,851991,1012725,0,9052,0,29852,33.33333333333333],[\"PA\",\"Democratic\",9,17,2208398,2433562,0,0,0,12820,47.05882352941176],[\"RI\",\"Democratic\",2,2,149546,200721,0,5454,0,0,0.0],[\"SC\",\"Republician\",6,7,700500,517129,0,0,3547,2634,85.71428571428571],[\"SD\",\"Republician\",1,1,253786,0,74010,0,0,0,100.0],[\"TN\",\"Republician\",8,9,1099590,581998,0,29006,0,0,88.88888888888889],[\"TX\",\"Republician\",25,38,3881492,2991042,128738,62870,0,0,65.78947368421053],[\"UT\",\"Republician\",4,4,670924,342078,8287,0,0,41941,100.0],[\"VT\",\"Democratic\",1,1,78167,175484,12563,13468,0,0,0.0],[\"VA\",\"Democratic\",6,11,1471094,1574819,0,7469,0,0,45.45454545454545],[\"WA\",\"Democratic\",8,10,1261961,1751582,0,0,0,0,20.0],[\"WV\",\"Republician\",2,2,312004,149706,0,10257,0,0,100.0],[\"WI\",\"Republician\",6,8,1163558,1013163,32043,63858,0,0,75.0],[\"WY\",\"Republician\",1,1,132215,47241,5420,0,0,4503,100.0]],\"geo\":\"geo\",\"hovertemplate\":\"<b>%{hovertext}</b><br><br>State Code=%{customdata[0]}<br>Won Party=%{customdata[1]}<br>Won Seats=%{customdata[2]}<br>Total Seats=%{customdata[3]}<br>Republican Votes=%{customdata[4]}<br>Democratic Votes=%{customdata[5]}<br>Libertarian Party Votes=%{customdata[6]}<br>Independent Party Votes=%{customdata[7]}<br>Green Party Votes=%{customdata[8]}<br>Other Party Votes=%{customdata[9]}<br>Rep won seats %=%{z}<extra></extra>\",\"hovertext\":[\"Alabama\",\"Alaska\",\"Arizona\",\"Arkansas\",\"California\",\"Colorado\",\"Connecticut\",\"Delaware\",\"Florida\",\"Georgia\",\"Hawaii\",\"Idaho\",\"Illinois\",\"Indiana\",\"Iowa\",\"Kansas\",\"Kentucky\",\"Louisiana\",\"Maine\",\"Maryland\",\"Massachusetts\",\"Michigan\",\"Minnesota\",\"Mississippi\",\"Missouri\",\"Montana\",\"Nebraska\",\"Nevada\",\"New Hampshire\",\"New Jersey\",\"New Mexico\",\"New York\",\"North Carolina\",\"North Dakota\",\"Ohio\",\"Oklahoma\",\"Oregon\",\"Pennsylvania\",\"Rhode Island\",\"South Carolina\",\"South Dakota\",\"Tennessee\",\"Texas\",\"Utah\",\"Vermont\",\"Virginia\",\"Washington\",\"West Virginia\",\"Wisconsin\",\"Wyoming\"],\"locationmode\":\"USA-states\",\"locations\":[\"AL\",\"AK\",\"AZ\",\"AR\",\"CA\",\"CO\",\"CT\",\"DE\",\"FL\",\"GA\",\"HI\",\"ID\",\"IL\",\"IN\",\"IA\",\"KS\",\"KY\",\"LA\",\"ME\",\"MD\",\"MA\",\"MI\",\"MN\",\"MS\",\"MO\",\"MT\",\"NE\",\"NV\",\"NH\",\"NJ\",\"NM\",\"NY\",\"NC\",\"ND\",\"OH\",\"OK\",\"OR\",\"PA\",\"RI\",\"SC\",\"SD\",\"TN\",\"TX\",\"UT\",\"VT\",\"VA\",\"WA\",\"WV\",\"WI\",\"WY\"],\"name\":\"\",\"z\":[85.71428571428571,0.0,66.66666666666666,100.0,23.076923076923077,37.5,0.0,0.0,71.42857142857143,64.28571428571429,0.0,100.0,17.647058823529413,77.77777777777779,100.0,75.0,83.33333333333334,83.33333333333334,0.0,12.5,0.0,46.15384615384615,50.0,75.0,75.0,100.0,100.0,25.0,0.0,25.0,0.0,42.30769230769231,50.0,100.0,66.66666666666666,100.0,33.33333333333333,47.05882352941176,0.0,85.71428571428571,100.0,88.88888888888889,65.78947368421053,100.0,0.0,45.45454545454545,20.0,100.0,75.0,100.0],\"type\":\"choropleth\"}],                        {\"template\":{\"data\":{\"histogram2dcontour\":[{\"type\":\"histogram2dcontour\",\"colorbar\":{\"outlinewidth\":0,\"ticks\":\"\"},\"colorscale\":[[0.0,\"#0d0887\"],[0.1111111111111111,\"#46039f\"],[0.2222222222222222,\"#7201a8\"],[0.3333333333333333,\"#9c179e\"],[0.4444444444444444,\"#bd3786\"],[0.5555555555555556,\"#d8576b\"],[0.6666666666666666,\"#ed7953\"],[0.7777777777777778,\"#fb9f3a\"],[0.8888888888888888,\"#fdca26\"],[1.0,\"#f0f921\"]]}],\"choropleth\":[{\"type\":\"choropleth\",\"colorbar\":{\"outlinewidth\":0,\"ticks\":\"\"}}],\"histogram2d\":[{\"type\":\"histogram2d\",\"colorbar\":{\"outlinewidth\":0,\"ticks\":\"\"},\"colorscale\":[[0.0,\"#0d0887\"],[0.1111111111111111,\"#46039f\"],[0.2222222222222222,\"#7201a8\"],[0.3333333333333333,\"#9c179e\"],[0.4444444444444444,\"#bd3786\"],[0.5555555555555556,\"#d8576b\"],[0.6666666666666666,\"#ed7953\"],[0.7777777777777778,\"#fb9f3a\"],[0.8888888888888888,\"#fdca26\"],[1.0,\"#f0f921\"]]}],\"heatmap\":[{\"type\":\"heatmap\",\"colorbar\":{\"outlinewidth\":0,\"ticks\":\"\"},\"colorscale\":[[0.0,\"#0d0887\"],[0.1111111111111111,\"#46039f\"],[0.2222222222222222,\"#7201a8\"],[0.3333333333333333,\"#9c179e\"],[0.4444444444444444,\"#bd3786\"],[0.5555555555555556,\"#d8576b\"],[0.6666666666666666,\"#ed7953\"],[0.7777777777777778,\"#fb9f3a\"],[0.8888888888888888,\"#fdca26\"],[1.0,\"#f0f921\"]]}],\"heatmapgl\":[{\"type\":\"heatmapgl\",\"colorbar\":{\"outlinewidth\":0,\"ticks\":\"\"},\"colorscale\":[[0.0,\"#0d0887\"],[0.1111111111111111,\"#46039f\"],[0.2222222222222222,\"#7201a8\"],[0.3333333333333333,\"#9c179e\"],[0.4444444444444444,\"#bd3786\"],[0.5555555555555556,\"#d8576b\"],[0.6666666666666666,\"#ed7953\"],[0.7777777777777778,\"#fb9f3a\"],[0.8888888888888888,\"#fdca26\"],[1.0,\"#f0f921\"]]}],\"contourcarpet\":[{\"type\":\"contourcarpet\",\"colorbar\":{\"outlinewidth\":0,\"ticks\":\"\"}}],\"contour\":[{\"type\":\"contour\",\"colorbar\":{\"outlinewidth\":0,\"ticks\":\"\"},\"colorscale\":[[0.0,\"#0d0887\"],[0.1111111111111111,\"#46039f\"],[0.2222222222222222,\"#7201a8\"],[0.3333333333333333,\"#9c179e\"],[0.4444444444444444,\"#bd3786\"],[0.5555555555555556,\"#d8576b\"],[0.6666666666666666,\"#ed7953\"],[0.7777777777777778,\"#fb9f3a\"],[0.8888888888888888,\"#fdca26\"],[1.0,\"#f0f921\"]]}],\"surface\":[{\"type\":\"surface\",\"colorbar\":{\"outlinewidth\":0,\"ticks\":\"\"},\"colorscale\":[[0.0,\"#0d0887\"],[0.1111111111111111,\"#46039f\"],[0.2222222222222222,\"#7201a8\"],[0.3333333333333333,\"#9c179e\"],[0.4444444444444444,\"#bd3786\"],[0.5555555555555556,\"#d8576b\"],[0.6666666666666666,\"#ed7953\"],[0.7777777777777778,\"#fb9f3a\"],[0.8888888888888888,\"#fdca26\"],[1.0,\"#f0f921\"]]}],\"mesh3d\":[{\"type\":\"mesh3d\",\"colorbar\":{\"outlinewidth\":0,\"ticks\":\"\"}}],\"scatter\":[{\"fillpattern\":{\"fillmode\":\"overlay\",\"size\":10,\"solidity\":0.2},\"type\":\"scatter\"}],\"parcoords\":[{\"type\":\"parcoords\",\"line\":{\"colorbar\":{\"outlinewidth\":0,\"ticks\":\"\"}}}],\"scatterpolargl\":[{\"type\":\"scatterpolargl\",\"marker\":{\"colorbar\":{\"outlinewidth\":0,\"ticks\":\"\"}}}],\"bar\":[{\"error_x\":{\"color\":\"#2a3f5f\"},\"error_y\":{\"color\":\"#2a3f5f\"},\"marker\":{\"line\":{\"color\":\"#E5ECF6\",\"width\":0.5},\"pattern\":{\"fillmode\":\"overlay\",\"size\":10,\"solidity\":0.2}},\"type\":\"bar\"}],\"scattergeo\":[{\"type\":\"scattergeo\",\"marker\":{\"colorbar\":{\"outlinewidth\":0,\"ticks\":\"\"}}}],\"scatterpolar\":[{\"type\":\"scatterpolar\",\"marker\":{\"colorbar\":{\"outlinewidth\":0,\"ticks\":\"\"}}}],\"histogram\":[{\"marker\":{\"pattern\":{\"fillmode\":\"overlay\",\"size\":10,\"solidity\":0.2}},\"type\":\"histogram\"}],\"scattergl\":[{\"type\":\"scattergl\",\"marker\":{\"colorbar\":{\"outlinewidth\":0,\"ticks\":\"\"}}}],\"scatter3d\":[{\"type\":\"scatter3d\",\"line\":{\"colorbar\":{\"outlinewidth\":0,\"ticks\":\"\"}},\"marker\":{\"colorbar\":{\"outlinewidth\":0,\"ticks\":\"\"}}}],\"scattermapbox\":[{\"type\":\"scattermapbox\",\"marker\":{\"colorbar\":{\"outlinewidth\":0,\"ticks\":\"\"}}}],\"scatterternary\":[{\"type\":\"scatterternary\",\"marker\":{\"colorbar\":{\"outlinewidth\":0,\"ticks\":\"\"}}}],\"scattercarpet\":[{\"type\":\"scattercarpet\",\"marker\":{\"colorbar\":{\"outlinewidth\":0,\"ticks\":\"\"}}}],\"carpet\":[{\"aaxis\":{\"endlinecolor\":\"#2a3f5f\",\"gridcolor\":\"white\",\"linecolor\":\"white\",\"minorgridcolor\":\"white\",\"startlinecolor\":\"#2a3f5f\"},\"baxis\":{\"endlinecolor\":\"#2a3f5f\",\"gridcolor\":\"white\",\"linecolor\":\"white\",\"minorgridcolor\":\"white\",\"startlinecolor\":\"#2a3f5f\"},\"type\":\"carpet\"}],\"table\":[{\"cells\":{\"fill\":{\"color\":\"#EBF0F8\"},\"line\":{\"color\":\"white\"}},\"header\":{\"fill\":{\"color\":\"#C8D4E3\"},\"line\":{\"color\":\"white\"}},\"type\":\"table\"}],\"barpolar\":[{\"marker\":{\"line\":{\"color\":\"#E5ECF6\",\"width\":0.5},\"pattern\":{\"fillmode\":\"overlay\",\"size\":10,\"solidity\":0.2}},\"type\":\"barpolar\"}],\"pie\":[{\"automargin\":true,\"type\":\"pie\"}]},\"layout\":{\"autotypenumbers\":\"strict\",\"colorway\":[\"#636efa\",\"#EF553B\",\"#00cc96\",\"#ab63fa\",\"#FFA15A\",\"#19d3f3\",\"#FF6692\",\"#B6E880\",\"#FF97FF\",\"#FECB52\"],\"font\":{\"color\":\"#2a3f5f\"},\"hovermode\":\"closest\",\"hoverlabel\":{\"align\":\"left\"},\"paper_bgcolor\":\"white\",\"plot_bgcolor\":\"#E5ECF6\",\"polar\":{\"bgcolor\":\"#E5ECF6\",\"angularaxis\":{\"gridcolor\":\"white\",\"linecolor\":\"white\",\"ticks\":\"\"},\"radialaxis\":{\"gridcolor\":\"white\",\"linecolor\":\"white\",\"ticks\":\"\"}},\"ternary\":{\"bgcolor\":\"#E5ECF6\",\"aaxis\":{\"gridcolor\":\"white\",\"linecolor\":\"white\",\"ticks\":\"\"},\"baxis\":{\"gridcolor\":\"white\",\"linecolor\":\"white\",\"ticks\":\"\"},\"caxis\":{\"gridcolor\":\"white\",\"linecolor\":\"white\",\"ticks\":\"\"}},\"coloraxis\":{\"colorbar\":{\"outlinewidth\":0,\"ticks\":\"\"}},\"colorscale\":{\"sequential\":[[0.0,\"#0d0887\"],[0.1111111111111111,\"#46039f\"],[0.2222222222222222,\"#7201a8\"],[0.3333333333333333,\"#9c179e\"],[0.4444444444444444,\"#bd3786\"],[0.5555555555555556,\"#d8576b\"],[0.6666666666666666,\"#ed7953\"],[0.7777777777777778,\"#fb9f3a\"],[0.8888888888888888,\"#fdca26\"],[1.0,\"#f0f921\"]],\"sequentialminus\":[[0.0,\"#0d0887\"],[0.1111111111111111,\"#46039f\"],[0.2222222222222222,\"#7201a8\"],[0.3333333333333333,\"#9c179e\"],[0.4444444444444444,\"#bd3786\"],[0.5555555555555556,\"#d8576b\"],[0.6666666666666666,\"#ed7953\"],[0.7777777777777778,\"#fb9f3a\"],[0.8888888888888888,\"#fdca26\"],[1.0,\"#f0f921\"]],\"diverging\":[[0,\"#8e0152\"],[0.1,\"#c51b7d\"],[0.2,\"#de77ae\"],[0.3,\"#f1b6da\"],[0.4,\"#fde0ef\"],[0.5,\"#f7f7f7\"],[0.6,\"#e6f5d0\"],[0.7,\"#b8e186\"],[0.8,\"#7fbc41\"],[0.9,\"#4d9221\"],[1,\"#276419\"]]},\"xaxis\":{\"gridcolor\":\"white\",\"linecolor\":\"white\",\"ticks\":\"\",\"title\":{\"standoff\":15},\"zerolinecolor\":\"white\",\"automargin\":true,\"zerolinewidth\":2},\"yaxis\":{\"gridcolor\":\"white\",\"linecolor\":\"white\",\"ticks\":\"\",\"title\":{\"standoff\":15},\"zerolinecolor\":\"white\",\"automargin\":true,\"zerolinewidth\":2},\"scene\":{\"xaxis\":{\"backgroundcolor\":\"#E5ECF6\",\"gridcolor\":\"white\",\"linecolor\":\"white\",\"showbackground\":true,\"ticks\":\"\",\"zerolinecolor\":\"white\",\"gridwidth\":2},\"yaxis\":{\"backgroundcolor\":\"#E5ECF6\",\"gridcolor\":\"white\",\"linecolor\":\"white\",\"showbackground\":true,\"ticks\":\"\",\"zerolinecolor\":\"white\",\"gridwidth\":2},\"zaxis\":{\"backgroundcolor\":\"#E5ECF6\",\"gridcolor\":\"white\",\"linecolor\":\"white\",\"showbackground\":true,\"ticks\":\"\",\"zerolinecolor\":\"white\",\"gridwidth\":2}},\"shapedefaults\":{\"line\":{\"color\":\"#2a3f5f\"}},\"annotationdefaults\":{\"arrowcolor\":\"#2a3f5f\",\"arrowhead\":0,\"arrowwidth\":1},\"geo\":{\"bgcolor\":\"white\",\"landcolor\":\"#E5ECF6\",\"subunitcolor\":\"white\",\"showland\":true,\"showlakes\":true,\"lakecolor\":\"white\"},\"title\":{\"x\":0.05},\"mapbox\":{\"style\":\"light\"}}},\"geo\":{\"domain\":{\"x\":[0.0,1.0],\"y\":[0.0,1.0]},\"projection\":{\"type\":\"albers usa\"},\"center\":{},\"scope\":\"usa\"},\"coloraxis\":{\"colorbar\":{\"title\":{\"text\":\"Rep won seats %\"}},\"colorscale\":[[0.0,\"rgb(5,48,97)\"],[0.1,\"rgb(33,102,172)\"],[0.2,\"rgb(67,147,195)\"],[0.3,\"rgb(146,197,222)\"],[0.4,\"rgb(209,229,240)\"],[0.5,\"rgb(247,247,247)\"],[0.6,\"rgb(253,219,199)\"],[0.7,\"rgb(244,165,130)\"],[0.8,\"rgb(214,96,77)\"],[0.9,\"rgb(178,24,43)\"],[1.0,\"rgb(103,0,31)\"]],\"cmin\":0,\"cmax\":100},\"legend\":{\"tracegroupgap\":0},\"margin\":{\"t\":60},\"height\":600,\"width\":800},                        {\"responsive\": true}                    ).then(function(){\n",
       "                            \n",
       "var gd = document.getElementById('5d409210-ed98-479c-8604-eefdd5ce2b8e');\n",
       "var x = new MutationObserver(function (mutations, observer) {{\n",
       "        var display = window.getComputedStyle(gd).display;\n",
       "        if (!display || display === 'none') {{\n",
       "            console.log([gd, 'removed!']);\n",
       "            Plotly.purge(gd);\n",
       "            observer.disconnect();\n",
       "        }}\n",
       "}});\n",
       "\n",
       "// Listen for the removal of the full notebook cells\n",
       "var notebookContainer = gd.closest('#notebook-container');\n",
       "if (notebookContainer) {{\n",
       "    x.observe(notebookContainer, {childList: true});\n",
       "}}\n",
       "\n",
       "// Listen for the clearing of the current output cell\n",
       "var outputEl = gd.closest('.output');\n",
       "if (outputEl) {{\n",
       "    x.observe(outputEl, {childList: true});\n",
       "}}\n",
       "\n",
       "                        })                };                });            </script>        </div>"
      ]
     },
     "metadata": {},
     "output_type": "display_data"
    }
   ],
   "source": [
    "\n",
    "fig = px.choropleth(final_df,locations='State Code',locationmode='USA-states',color='Rep won seats %',\n",
    "                    hover_name='State',hover_data=['State Code','Won Party','Won Seats',\n",
    "                                                   'Total Seats','Republican Votes','Democratic Votes',\n",
    "                                                   'Libertarian Party Votes','Independent Party Votes','Green Party Votes','Other Party Votes','Rep won seats %'],\n",
    "                    color_continuous_scale='RdBu_r', range_color=[0,100],scope='usa',projection = 'albers usa')\n",
    "fig.update_layout(height=600,width=800)"
   ]
  },
  {
   "cell_type": "code",
   "execution_count": 25,
   "metadata": {},
   "outputs": [
    {
     "data": {
      "application/vnd.plotly.v1+json": {
       "config": {
        "plotlyServerURL": "https://plot.ly"
       },
       "data": [
        {
         "alignmentgroup": "True",
         "customdata": [
          [
           "Alabama"
          ],
          [
           "Arizona"
          ],
          [
           "Arkansas"
          ],
          [
           "Florida"
          ],
          [
           "Idaho"
          ],
          [
           "Illinois"
          ],
          [
           "Indiana"
          ],
          [
           "Iowa"
          ],
          [
           "Kentucky"
          ],
          [
           "Louisiana"
          ],
          [
           "Mississippi"
          ],
          [
           "Missouri"
          ],
          [
           "Montana"
          ],
          [
           "Nebraska"
          ],
          [
           "Nevada"
          ],
          [
           "New Jersey"
          ],
          [
           "New York"
          ],
          [
           "North Dakota"
          ],
          [
           "Ohio"
          ],
          [
           "Oklahoma"
          ],
          [
           "South Carolina"
          ],
          [
           "South Dakota"
          ],
          [
           "Tennessee"
          ],
          [
           "Utah"
          ],
          [
           "Virginia"
          ],
          [
           "West Virginia"
          ],
          [
           "Wyoming"
          ]
         ],
         "hovertemplate": "<b>%{hovertext}</b><br><br>Party=Republician<br>Candidate=%{x}<br>Votes=%{y}<br>State=%{customdata[0]}<extra></extra>",
         "hovertext": [
          "Aderholt",
          "Biggs",
          "Westerman",
          "Bilirakis",
          "Fulcher",
          "Bost",
          "Spartz",
          "Feenstra",
          "Comer",
          "Graves",
          "Guest",
          "Missouri Smith",
          "Zinke",
          "Nebraska Smith",
          "Amodei",
          "New Jersey Smith",
          "Langworthy",
          "Kelly Armstrong",
          "Jordan",
          "Brecheen",
          "Fry",
          "Dusty Johnson",
          "Kustoff",
          "Curtis",
          "Wittman",
          "Mooney",
          "Harriet Hageman"
         ],
         "legendgroup": "Republician",
         "marker": {
          "color": "rgb(178,24,43)",
          "pattern": {
           "shape": ""
          }
         },
         "name": "Republician",
         "offsetgroup": "Republician",
         "orientation": "v",
         "showlegend": true,
         "textposition": "auto",
         "type": "bar",
         "x": [
          "Aderholt",
          "Biggs",
          "Westerman",
          "Bilirakis",
          "Fulcher",
          "Bost",
          "Spartz",
          "Feenstra",
          "Comer",
          "Graves",
          "Guest",
          "Missouri Smith",
          "Zinke",
          "Nebraska Smith",
          "Amodei",
          "New Jersey Smith",
          "Langworthy",
          "Kelly Armstrong",
          "Jordan",
          "Brecheen",
          "Fry",
          "Dusty Johnson",
          "Kustoff",
          "Curtis",
          "Wittman",
          "Mooney",
          "Harriet Hageman"
         ],
         "xaxis": "x",
         "y": [
          164371,
          182464,
          153694,
          226579,
          222891,
          213438,
          146496,
          186467,
          184103,
          189684,
          132481,
          186259,
          123102,
          171967,
          181689,
          173288,
          189790,
          147980,
          196655,
          167687,
          164440,
          253786,
          156628,
          182497,
          197789,
          160493,
          132215
         ],
         "yaxis": "y"
        },
        {
         "alignmentgroup": "True",
         "customdata": [
          [
           "Alaska"
          ],
          [
           "California"
          ],
          [
           "Colorado"
          ],
          [
           "Connecticut"
          ],
          [
           "Delaware"
          ],
          [
           "Georgia"
          ],
          [
           "Hawaii"
          ],
          [
           "Kansas"
          ],
          [
           "Maine"
          ],
          [
           "Maryland"
          ],
          [
           "Massachusetts"
          ],
          [
           "Michigan"
          ],
          [
           "Minnesota"
          ],
          [
           "New Hampshire"
          ],
          [
           "New Mexico"
          ],
          [
           "North Carolina"
          ],
          [
           "Oregon"
          ],
          [
           "Pennsylvania"
          ],
          [
           "Rhode Island"
          ],
          [
           "Texas"
          ],
          [
           "Vermont"
          ],
          [
           "Washington"
          ],
          [
           "Wisconsin"
          ]
         ],
         "hovertemplate": "<b>%{hovertext}</b><br><br>Party=Democratic<br>Candidate=%{x}<br>Votes=%{y}<br>State=%{customdata[0]}<extra></extra>",
         "hovertext": [
          "Mary Peltola",
          "Huffman",
          "Neguse",
          "Courtney",
          "Lisa Rochester",
          "Williams",
          "Case",
          "Davids",
          "Pingree",
          "Raskin",
          "Clark",
          "Dingell",
          "Omar",
          "McLane Kuster",
          "Stansbury",
          "Foushee",
          "Blumenauer",
          "Evans",
          "Magaziner",
          "Doggett",
          "Becca Balint",
          "Jayapal",
          "Pocan"
         ],
         "legendgroup": "Democratic",
         "marker": {
          "color": "rgb(33,102,172)",
          "pattern": {
           "shape": ""
          }
         },
         "name": "Democratic",
         "offsetgroup": "Democratic",
         "orientation": "v",
         "showlegend": true,
         "textposition": "auto",
         "type": "bar",
         "x": [
          "Mary Peltola",
          "Huffman",
          "Neguse",
          "Courtney",
          "Lisa Rochester",
          "Williams",
          "Case",
          "Davids",
          "Pingree",
          "Raskin",
          "Clark",
          "Dingell",
          "Omar",
          "McLane Kuster",
          "Stansbury",
          "Foushee",
          "Blumenauer",
          "Evans",
          "Magaziner",
          "Doggett",
          "Becca Balint",
          "Jayapal",
          "Pocan"
         ],
         "xaxis": "x",
         "y": [
          136893,
          229720,
          244107,
          165947,
          178416,
          243471,
          142742,
          163138,
          218630,
          211842,
          198617,
          241763,
          214224,
          171733,
          156386,
          194983,
          212119,
          251116,
          100919,
          219149,
          175484,
          295998,
          268740
         ],
         "yaxis": "y"
        }
       ],
       "layout": {
        "barmode": "relative",
        "legend": {
         "title": {
          "text": "Party"
         },
         "tracegroupgap": 0
        },
        "template": {
         "data": {
          "bar": [
           {
            "error_x": {
             "color": "#2a3f5f"
            },
            "error_y": {
             "color": "#2a3f5f"
            },
            "marker": {
             "line": {
              "color": "#E5ECF6",
              "width": 0.5
             },
             "pattern": {
              "fillmode": "overlay",
              "size": 10,
              "solidity": 0.2
             }
            },
            "type": "bar"
           }
          ],
          "barpolar": [
           {
            "marker": {
             "line": {
              "color": "#E5ECF6",
              "width": 0.5
             },
             "pattern": {
              "fillmode": "overlay",
              "size": 10,
              "solidity": 0.2
             }
            },
            "type": "barpolar"
           }
          ],
          "carpet": [
           {
            "aaxis": {
             "endlinecolor": "#2a3f5f",
             "gridcolor": "white",
             "linecolor": "white",
             "minorgridcolor": "white",
             "startlinecolor": "#2a3f5f"
            },
            "baxis": {
             "endlinecolor": "#2a3f5f",
             "gridcolor": "white",
             "linecolor": "white",
             "minorgridcolor": "white",
             "startlinecolor": "#2a3f5f"
            },
            "type": "carpet"
           }
          ],
          "choropleth": [
           {
            "colorbar": {
             "outlinewidth": 0,
             "ticks": ""
            },
            "type": "choropleth"
           }
          ],
          "contour": [
           {
            "colorbar": {
             "outlinewidth": 0,
             "ticks": ""
            },
            "colorscale": [
             [
              0,
              "#0d0887"
             ],
             [
              0.1111111111111111,
              "#46039f"
             ],
             [
              0.2222222222222222,
              "#7201a8"
             ],
             [
              0.3333333333333333,
              "#9c179e"
             ],
             [
              0.4444444444444444,
              "#bd3786"
             ],
             [
              0.5555555555555556,
              "#d8576b"
             ],
             [
              0.6666666666666666,
              "#ed7953"
             ],
             [
              0.7777777777777778,
              "#fb9f3a"
             ],
             [
              0.8888888888888888,
              "#fdca26"
             ],
             [
              1,
              "#f0f921"
             ]
            ],
            "type": "contour"
           }
          ],
          "contourcarpet": [
           {
            "colorbar": {
             "outlinewidth": 0,
             "ticks": ""
            },
            "type": "contourcarpet"
           }
          ],
          "heatmap": [
           {
            "colorbar": {
             "outlinewidth": 0,
             "ticks": ""
            },
            "colorscale": [
             [
              0,
              "#0d0887"
             ],
             [
              0.1111111111111111,
              "#46039f"
             ],
             [
              0.2222222222222222,
              "#7201a8"
             ],
             [
              0.3333333333333333,
              "#9c179e"
             ],
             [
              0.4444444444444444,
              "#bd3786"
             ],
             [
              0.5555555555555556,
              "#d8576b"
             ],
             [
              0.6666666666666666,
              "#ed7953"
             ],
             [
              0.7777777777777778,
              "#fb9f3a"
             ],
             [
              0.8888888888888888,
              "#fdca26"
             ],
             [
              1,
              "#f0f921"
             ]
            ],
            "type": "heatmap"
           }
          ],
          "heatmapgl": [
           {
            "colorbar": {
             "outlinewidth": 0,
             "ticks": ""
            },
            "colorscale": [
             [
              0,
              "#0d0887"
             ],
             [
              0.1111111111111111,
              "#46039f"
             ],
             [
              0.2222222222222222,
              "#7201a8"
             ],
             [
              0.3333333333333333,
              "#9c179e"
             ],
             [
              0.4444444444444444,
              "#bd3786"
             ],
             [
              0.5555555555555556,
              "#d8576b"
             ],
             [
              0.6666666666666666,
              "#ed7953"
             ],
             [
              0.7777777777777778,
              "#fb9f3a"
             ],
             [
              0.8888888888888888,
              "#fdca26"
             ],
             [
              1,
              "#f0f921"
             ]
            ],
            "type": "heatmapgl"
           }
          ],
          "histogram": [
           {
            "marker": {
             "pattern": {
              "fillmode": "overlay",
              "size": 10,
              "solidity": 0.2
             }
            },
            "type": "histogram"
           }
          ],
          "histogram2d": [
           {
            "colorbar": {
             "outlinewidth": 0,
             "ticks": ""
            },
            "colorscale": [
             [
              0,
              "#0d0887"
             ],
             [
              0.1111111111111111,
              "#46039f"
             ],
             [
              0.2222222222222222,
              "#7201a8"
             ],
             [
              0.3333333333333333,
              "#9c179e"
             ],
             [
              0.4444444444444444,
              "#bd3786"
             ],
             [
              0.5555555555555556,
              "#d8576b"
             ],
             [
              0.6666666666666666,
              "#ed7953"
             ],
             [
              0.7777777777777778,
              "#fb9f3a"
             ],
             [
              0.8888888888888888,
              "#fdca26"
             ],
             [
              1,
              "#f0f921"
             ]
            ],
            "type": "histogram2d"
           }
          ],
          "histogram2dcontour": [
           {
            "colorbar": {
             "outlinewidth": 0,
             "ticks": ""
            },
            "colorscale": [
             [
              0,
              "#0d0887"
             ],
             [
              0.1111111111111111,
              "#46039f"
             ],
             [
              0.2222222222222222,
              "#7201a8"
             ],
             [
              0.3333333333333333,
              "#9c179e"
             ],
             [
              0.4444444444444444,
              "#bd3786"
             ],
             [
              0.5555555555555556,
              "#d8576b"
             ],
             [
              0.6666666666666666,
              "#ed7953"
             ],
             [
              0.7777777777777778,
              "#fb9f3a"
             ],
             [
              0.8888888888888888,
              "#fdca26"
             ],
             [
              1,
              "#f0f921"
             ]
            ],
            "type": "histogram2dcontour"
           }
          ],
          "mesh3d": [
           {
            "colorbar": {
             "outlinewidth": 0,
             "ticks": ""
            },
            "type": "mesh3d"
           }
          ],
          "parcoords": [
           {
            "line": {
             "colorbar": {
              "outlinewidth": 0,
              "ticks": ""
             }
            },
            "type": "parcoords"
           }
          ],
          "pie": [
           {
            "automargin": true,
            "type": "pie"
           }
          ],
          "scatter": [
           {
            "fillpattern": {
             "fillmode": "overlay",
             "size": 10,
             "solidity": 0.2
            },
            "type": "scatter"
           }
          ],
          "scatter3d": [
           {
            "line": {
             "colorbar": {
              "outlinewidth": 0,
              "ticks": ""
             }
            },
            "marker": {
             "colorbar": {
              "outlinewidth": 0,
              "ticks": ""
             }
            },
            "type": "scatter3d"
           }
          ],
          "scattercarpet": [
           {
            "marker": {
             "colorbar": {
              "outlinewidth": 0,
              "ticks": ""
             }
            },
            "type": "scattercarpet"
           }
          ],
          "scattergeo": [
           {
            "marker": {
             "colorbar": {
              "outlinewidth": 0,
              "ticks": ""
             }
            },
            "type": "scattergeo"
           }
          ],
          "scattergl": [
           {
            "marker": {
             "colorbar": {
              "outlinewidth": 0,
              "ticks": ""
             }
            },
            "type": "scattergl"
           }
          ],
          "scattermapbox": [
           {
            "marker": {
             "colorbar": {
              "outlinewidth": 0,
              "ticks": ""
             }
            },
            "type": "scattermapbox"
           }
          ],
          "scatterpolar": [
           {
            "marker": {
             "colorbar": {
              "outlinewidth": 0,
              "ticks": ""
             }
            },
            "type": "scatterpolar"
           }
          ],
          "scatterpolargl": [
           {
            "marker": {
             "colorbar": {
              "outlinewidth": 0,
              "ticks": ""
             }
            },
            "type": "scatterpolargl"
           }
          ],
          "scatterternary": [
           {
            "marker": {
             "colorbar": {
              "outlinewidth": 0,
              "ticks": ""
             }
            },
            "type": "scatterternary"
           }
          ],
          "surface": [
           {
            "colorbar": {
             "outlinewidth": 0,
             "ticks": ""
            },
            "colorscale": [
             [
              0,
              "#0d0887"
             ],
             [
              0.1111111111111111,
              "#46039f"
             ],
             [
              0.2222222222222222,
              "#7201a8"
             ],
             [
              0.3333333333333333,
              "#9c179e"
             ],
             [
              0.4444444444444444,
              "#bd3786"
             ],
             [
              0.5555555555555556,
              "#d8576b"
             ],
             [
              0.6666666666666666,
              "#ed7953"
             ],
             [
              0.7777777777777778,
              "#fb9f3a"
             ],
             [
              0.8888888888888888,
              "#fdca26"
             ],
             [
              1,
              "#f0f921"
             ]
            ],
            "type": "surface"
           }
          ],
          "table": [
           {
            "cells": {
             "fill": {
              "color": "#EBF0F8"
             },
             "line": {
              "color": "white"
             }
            },
            "header": {
             "fill": {
              "color": "#C8D4E3"
             },
             "line": {
              "color": "white"
             }
            },
            "type": "table"
           }
          ]
         },
         "layout": {
          "annotationdefaults": {
           "arrowcolor": "#2a3f5f",
           "arrowhead": 0,
           "arrowwidth": 1
          },
          "autotypenumbers": "strict",
          "coloraxis": {
           "colorbar": {
            "outlinewidth": 0,
            "ticks": ""
           }
          },
          "colorscale": {
           "diverging": [
            [
             0,
             "#8e0152"
            ],
            [
             0.1,
             "#c51b7d"
            ],
            [
             0.2,
             "#de77ae"
            ],
            [
             0.3,
             "#f1b6da"
            ],
            [
             0.4,
             "#fde0ef"
            ],
            [
             0.5,
             "#f7f7f7"
            ],
            [
             0.6,
             "#e6f5d0"
            ],
            [
             0.7,
             "#b8e186"
            ],
            [
             0.8,
             "#7fbc41"
            ],
            [
             0.9,
             "#4d9221"
            ],
            [
             1,
             "#276419"
            ]
           ],
           "sequential": [
            [
             0,
             "#0d0887"
            ],
            [
             0.1111111111111111,
             "#46039f"
            ],
            [
             0.2222222222222222,
             "#7201a8"
            ],
            [
             0.3333333333333333,
             "#9c179e"
            ],
            [
             0.4444444444444444,
             "#bd3786"
            ],
            [
             0.5555555555555556,
             "#d8576b"
            ],
            [
             0.6666666666666666,
             "#ed7953"
            ],
            [
             0.7777777777777778,
             "#fb9f3a"
            ],
            [
             0.8888888888888888,
             "#fdca26"
            ],
            [
             1,
             "#f0f921"
            ]
           ],
           "sequentialminus": [
            [
             0,
             "#0d0887"
            ],
            [
             0.1111111111111111,
             "#46039f"
            ],
            [
             0.2222222222222222,
             "#7201a8"
            ],
            [
             0.3333333333333333,
             "#9c179e"
            ],
            [
             0.4444444444444444,
             "#bd3786"
            ],
            [
             0.5555555555555556,
             "#d8576b"
            ],
            [
             0.6666666666666666,
             "#ed7953"
            ],
            [
             0.7777777777777778,
             "#fb9f3a"
            ],
            [
             0.8888888888888888,
             "#fdca26"
            ],
            [
             1,
             "#f0f921"
            ]
           ]
          },
          "colorway": [
           "#636efa",
           "#EF553B",
           "#00cc96",
           "#ab63fa",
           "#FFA15A",
           "#19d3f3",
           "#FF6692",
           "#B6E880",
           "#FF97FF",
           "#FECB52"
          ],
          "font": {
           "color": "#2a3f5f"
          },
          "geo": {
           "bgcolor": "white",
           "lakecolor": "white",
           "landcolor": "#E5ECF6",
           "showlakes": true,
           "showland": true,
           "subunitcolor": "white"
          },
          "hoverlabel": {
           "align": "left"
          },
          "hovermode": "closest",
          "mapbox": {
           "style": "light"
          },
          "paper_bgcolor": "white",
          "plot_bgcolor": "#E5ECF6",
          "polar": {
           "angularaxis": {
            "gridcolor": "white",
            "linecolor": "white",
            "ticks": ""
           },
           "bgcolor": "#E5ECF6",
           "radialaxis": {
            "gridcolor": "white",
            "linecolor": "white",
            "ticks": ""
           }
          },
          "scene": {
           "xaxis": {
            "backgroundcolor": "#E5ECF6",
            "gridcolor": "white",
            "gridwidth": 2,
            "linecolor": "white",
            "showbackground": true,
            "ticks": "",
            "zerolinecolor": "white"
           },
           "yaxis": {
            "backgroundcolor": "#E5ECF6",
            "gridcolor": "white",
            "gridwidth": 2,
            "linecolor": "white",
            "showbackground": true,
            "ticks": "",
            "zerolinecolor": "white"
           },
           "zaxis": {
            "backgroundcolor": "#E5ECF6",
            "gridcolor": "white",
            "gridwidth": 2,
            "linecolor": "white",
            "showbackground": true,
            "ticks": "",
            "zerolinecolor": "white"
           }
          },
          "shapedefaults": {
           "line": {
            "color": "#2a3f5f"
           }
          },
          "ternary": {
           "aaxis": {
            "gridcolor": "white",
            "linecolor": "white",
            "ticks": ""
           },
           "baxis": {
            "gridcolor": "white",
            "linecolor": "white",
            "ticks": ""
           },
           "bgcolor": "#E5ECF6",
           "caxis": {
            "gridcolor": "white",
            "linecolor": "white",
            "ticks": ""
           }
          },
          "title": {
           "x": 0.05
          },
          "xaxis": {
           "automargin": true,
           "gridcolor": "white",
           "linecolor": "white",
           "ticks": "",
           "title": {
            "standoff": 15
           },
           "zerolinecolor": "white",
           "zerolinewidth": 2
          },
          "yaxis": {
           "automargin": true,
           "gridcolor": "white",
           "linecolor": "white",
           "ticks": "",
           "title": {
            "standoff": 15
           },
           "zerolinecolor": "white",
           "zerolinewidth": 2
          }
         }
        },
        "title": {
         "text": "The Candidate With Highest Votes In Each State"
        },
        "xaxis": {
         "anchor": "y",
         "domain": [
          0,
          1
         ],
         "title": {
          "text": "Candidate"
         }
        },
        "yaxis": {
         "anchor": "x",
         "domain": [
          0,
          1
         ],
         "title": {
          "text": "Votes"
         }
        }
       }
      },
      "text/html": [
       "<div>                            <div id=\"4523e82a-8290-468f-960c-a6b49e85a955\" class=\"plotly-graph-div\" style=\"height:525px; width:100%;\"></div>            <script type=\"text/javascript\">                require([\"plotly\"], function(Plotly) {                    window.PLOTLYENV=window.PLOTLYENV || {};                                    if (document.getElementById(\"4523e82a-8290-468f-960c-a6b49e85a955\")) {                    Plotly.newPlot(                        \"4523e82a-8290-468f-960c-a6b49e85a955\",                        [{\"alignmentgroup\":\"True\",\"customdata\":[[\"Alabama\"],[\"Arizona\"],[\"Arkansas\"],[\"Florida\"],[\"Idaho\"],[\"Illinois\"],[\"Indiana\"],[\"Iowa\"],[\"Kentucky\"],[\"Louisiana\"],[\"Mississippi\"],[\"Missouri\"],[\"Montana\"],[\"Nebraska\"],[\"Nevada\"],[\"New Jersey\"],[\"New York\"],[\"North Dakota\"],[\"Ohio\"],[\"Oklahoma\"],[\"South Carolina\"],[\"South Dakota\"],[\"Tennessee\"],[\"Utah\"],[\"Virginia\"],[\"West Virginia\"],[\"Wyoming\"]],\"hovertemplate\":\"<b>%{hovertext}</b><br><br>Party=Republician<br>Candidate=%{x}<br>Votes=%{y}<br>State=%{customdata[0]}<extra></extra>\",\"hovertext\":[\"Aderholt\",\"Biggs\",\"Westerman\",\"Bilirakis\",\"Fulcher\",\"Bost\",\"Spartz\",\"Feenstra\",\"Comer\",\"Graves\",\"Guest\",\"Missouri Smith\",\"Zinke\",\"Nebraska Smith\",\"Amodei\",\"New Jersey Smith\",\"Langworthy\",\"Kelly Armstrong\",\"Jordan\",\"Brecheen\",\"Fry\",\"Dusty Johnson\",\"Kustoff\",\"Curtis\",\"Wittman\",\"Mooney\",\"Harriet Hageman\"],\"legendgroup\":\"Republician\",\"marker\":{\"color\":\"rgb(178,24,43)\",\"pattern\":{\"shape\":\"\"}},\"name\":\"Republician\",\"offsetgroup\":\"Republician\",\"orientation\":\"v\",\"showlegend\":true,\"textposition\":\"auto\",\"x\":[\"Aderholt\",\"Biggs\",\"Westerman\",\"Bilirakis\",\"Fulcher\",\"Bost\",\"Spartz\",\"Feenstra\",\"Comer\",\"Graves\",\"Guest\",\"Missouri Smith\",\"Zinke\",\"Nebraska Smith\",\"Amodei\",\"New Jersey Smith\",\"Langworthy\",\"Kelly Armstrong\",\"Jordan\",\"Brecheen\",\"Fry\",\"Dusty Johnson\",\"Kustoff\",\"Curtis\",\"Wittman\",\"Mooney\",\"Harriet Hageman\"],\"xaxis\":\"x\",\"y\":[164371,182464,153694,226579,222891,213438,146496,186467,184103,189684,132481,186259,123102,171967,181689,173288,189790,147980,196655,167687,164440,253786,156628,182497,197789,160493,132215],\"yaxis\":\"y\",\"type\":\"bar\"},{\"alignmentgroup\":\"True\",\"customdata\":[[\"Alaska\"],[\"California\"],[\"Colorado\"],[\"Connecticut\"],[\"Delaware\"],[\"Georgia\"],[\"Hawaii\"],[\"Kansas\"],[\"Maine\"],[\"Maryland\"],[\"Massachusetts\"],[\"Michigan\"],[\"Minnesota\"],[\"New Hampshire\"],[\"New Mexico\"],[\"North Carolina\"],[\"Oregon\"],[\"Pennsylvania\"],[\"Rhode Island\"],[\"Texas\"],[\"Vermont\"],[\"Washington\"],[\"Wisconsin\"]],\"hovertemplate\":\"<b>%{hovertext}</b><br><br>Party=Democratic<br>Candidate=%{x}<br>Votes=%{y}<br>State=%{customdata[0]}<extra></extra>\",\"hovertext\":[\"Mary Peltola\",\"Huffman\",\"Neguse\",\"Courtney\",\"Lisa Rochester\",\"Williams\",\"Case\",\"Davids\",\"Pingree\",\"Raskin\",\"Clark\",\"Dingell\",\"Omar\",\"McLane Kuster\",\"Stansbury\",\"Foushee\",\"Blumenauer\",\"Evans\",\"Magaziner\",\"Doggett\",\"Becca Balint\",\"Jayapal\",\"Pocan\"],\"legendgroup\":\"Democratic\",\"marker\":{\"color\":\"rgb(33,102,172)\",\"pattern\":{\"shape\":\"\"}},\"name\":\"Democratic\",\"offsetgroup\":\"Democratic\",\"orientation\":\"v\",\"showlegend\":true,\"textposition\":\"auto\",\"x\":[\"Mary Peltola\",\"Huffman\",\"Neguse\",\"Courtney\",\"Lisa Rochester\",\"Williams\",\"Case\",\"Davids\",\"Pingree\",\"Raskin\",\"Clark\",\"Dingell\",\"Omar\",\"McLane Kuster\",\"Stansbury\",\"Foushee\",\"Blumenauer\",\"Evans\",\"Magaziner\",\"Doggett\",\"Becca Balint\",\"Jayapal\",\"Pocan\"],\"xaxis\":\"x\",\"y\":[136893,229720,244107,165947,178416,243471,142742,163138,218630,211842,198617,241763,214224,171733,156386,194983,212119,251116,100919,219149,175484,295998,268740],\"yaxis\":\"y\",\"type\":\"bar\"}],                        {\"template\":{\"data\":{\"histogram2dcontour\":[{\"type\":\"histogram2dcontour\",\"colorbar\":{\"outlinewidth\":0,\"ticks\":\"\"},\"colorscale\":[[0.0,\"#0d0887\"],[0.1111111111111111,\"#46039f\"],[0.2222222222222222,\"#7201a8\"],[0.3333333333333333,\"#9c179e\"],[0.4444444444444444,\"#bd3786\"],[0.5555555555555556,\"#d8576b\"],[0.6666666666666666,\"#ed7953\"],[0.7777777777777778,\"#fb9f3a\"],[0.8888888888888888,\"#fdca26\"],[1.0,\"#f0f921\"]]}],\"choropleth\":[{\"type\":\"choropleth\",\"colorbar\":{\"outlinewidth\":0,\"ticks\":\"\"}}],\"histogram2d\":[{\"type\":\"histogram2d\",\"colorbar\":{\"outlinewidth\":0,\"ticks\":\"\"},\"colorscale\":[[0.0,\"#0d0887\"],[0.1111111111111111,\"#46039f\"],[0.2222222222222222,\"#7201a8\"],[0.3333333333333333,\"#9c179e\"],[0.4444444444444444,\"#bd3786\"],[0.5555555555555556,\"#d8576b\"],[0.6666666666666666,\"#ed7953\"],[0.7777777777777778,\"#fb9f3a\"],[0.8888888888888888,\"#fdca26\"],[1.0,\"#f0f921\"]]}],\"heatmap\":[{\"type\":\"heatmap\",\"colorbar\":{\"outlinewidth\":0,\"ticks\":\"\"},\"colorscale\":[[0.0,\"#0d0887\"],[0.1111111111111111,\"#46039f\"],[0.2222222222222222,\"#7201a8\"],[0.3333333333333333,\"#9c179e\"],[0.4444444444444444,\"#bd3786\"],[0.5555555555555556,\"#d8576b\"],[0.6666666666666666,\"#ed7953\"],[0.7777777777777778,\"#fb9f3a\"],[0.8888888888888888,\"#fdca26\"],[1.0,\"#f0f921\"]]}],\"heatmapgl\":[{\"type\":\"heatmapgl\",\"colorbar\":{\"outlinewidth\":0,\"ticks\":\"\"},\"colorscale\":[[0.0,\"#0d0887\"],[0.1111111111111111,\"#46039f\"],[0.2222222222222222,\"#7201a8\"],[0.3333333333333333,\"#9c179e\"],[0.4444444444444444,\"#bd3786\"],[0.5555555555555556,\"#d8576b\"],[0.6666666666666666,\"#ed7953\"],[0.7777777777777778,\"#fb9f3a\"],[0.8888888888888888,\"#fdca26\"],[1.0,\"#f0f921\"]]}],\"contourcarpet\":[{\"type\":\"contourcarpet\",\"colorbar\":{\"outlinewidth\":0,\"ticks\":\"\"}}],\"contour\":[{\"type\":\"contour\",\"colorbar\":{\"outlinewidth\":0,\"ticks\":\"\"},\"colorscale\":[[0.0,\"#0d0887\"],[0.1111111111111111,\"#46039f\"],[0.2222222222222222,\"#7201a8\"],[0.3333333333333333,\"#9c179e\"],[0.4444444444444444,\"#bd3786\"],[0.5555555555555556,\"#d8576b\"],[0.6666666666666666,\"#ed7953\"],[0.7777777777777778,\"#fb9f3a\"],[0.8888888888888888,\"#fdca26\"],[1.0,\"#f0f921\"]]}],\"surface\":[{\"type\":\"surface\",\"colorbar\":{\"outlinewidth\":0,\"ticks\":\"\"},\"colorscale\":[[0.0,\"#0d0887\"],[0.1111111111111111,\"#46039f\"],[0.2222222222222222,\"#7201a8\"],[0.3333333333333333,\"#9c179e\"],[0.4444444444444444,\"#bd3786\"],[0.5555555555555556,\"#d8576b\"],[0.6666666666666666,\"#ed7953\"],[0.7777777777777778,\"#fb9f3a\"],[0.8888888888888888,\"#fdca26\"],[1.0,\"#f0f921\"]]}],\"mesh3d\":[{\"type\":\"mesh3d\",\"colorbar\":{\"outlinewidth\":0,\"ticks\":\"\"}}],\"scatter\":[{\"fillpattern\":{\"fillmode\":\"overlay\",\"size\":10,\"solidity\":0.2},\"type\":\"scatter\"}],\"parcoords\":[{\"type\":\"parcoords\",\"line\":{\"colorbar\":{\"outlinewidth\":0,\"ticks\":\"\"}}}],\"scatterpolargl\":[{\"type\":\"scatterpolargl\",\"marker\":{\"colorbar\":{\"outlinewidth\":0,\"ticks\":\"\"}}}],\"bar\":[{\"error_x\":{\"color\":\"#2a3f5f\"},\"error_y\":{\"color\":\"#2a3f5f\"},\"marker\":{\"line\":{\"color\":\"#E5ECF6\",\"width\":0.5},\"pattern\":{\"fillmode\":\"overlay\",\"size\":10,\"solidity\":0.2}},\"type\":\"bar\"}],\"scattergeo\":[{\"type\":\"scattergeo\",\"marker\":{\"colorbar\":{\"outlinewidth\":0,\"ticks\":\"\"}}}],\"scatterpolar\":[{\"type\":\"scatterpolar\",\"marker\":{\"colorbar\":{\"outlinewidth\":0,\"ticks\":\"\"}}}],\"histogram\":[{\"marker\":{\"pattern\":{\"fillmode\":\"overlay\",\"size\":10,\"solidity\":0.2}},\"type\":\"histogram\"}],\"scattergl\":[{\"type\":\"scattergl\",\"marker\":{\"colorbar\":{\"outlinewidth\":0,\"ticks\":\"\"}}}],\"scatter3d\":[{\"type\":\"scatter3d\",\"line\":{\"colorbar\":{\"outlinewidth\":0,\"ticks\":\"\"}},\"marker\":{\"colorbar\":{\"outlinewidth\":0,\"ticks\":\"\"}}}],\"scattermapbox\":[{\"type\":\"scattermapbox\",\"marker\":{\"colorbar\":{\"outlinewidth\":0,\"ticks\":\"\"}}}],\"scatterternary\":[{\"type\":\"scatterternary\",\"marker\":{\"colorbar\":{\"outlinewidth\":0,\"ticks\":\"\"}}}],\"scattercarpet\":[{\"type\":\"scattercarpet\",\"marker\":{\"colorbar\":{\"outlinewidth\":0,\"ticks\":\"\"}}}],\"carpet\":[{\"aaxis\":{\"endlinecolor\":\"#2a3f5f\",\"gridcolor\":\"white\",\"linecolor\":\"white\",\"minorgridcolor\":\"white\",\"startlinecolor\":\"#2a3f5f\"},\"baxis\":{\"endlinecolor\":\"#2a3f5f\",\"gridcolor\":\"white\",\"linecolor\":\"white\",\"minorgridcolor\":\"white\",\"startlinecolor\":\"#2a3f5f\"},\"type\":\"carpet\"}],\"table\":[{\"cells\":{\"fill\":{\"color\":\"#EBF0F8\"},\"line\":{\"color\":\"white\"}},\"header\":{\"fill\":{\"color\":\"#C8D4E3\"},\"line\":{\"color\":\"white\"}},\"type\":\"table\"}],\"barpolar\":[{\"marker\":{\"line\":{\"color\":\"#E5ECF6\",\"width\":0.5},\"pattern\":{\"fillmode\":\"overlay\",\"size\":10,\"solidity\":0.2}},\"type\":\"barpolar\"}],\"pie\":[{\"automargin\":true,\"type\":\"pie\"}]},\"layout\":{\"autotypenumbers\":\"strict\",\"colorway\":[\"#636efa\",\"#EF553B\",\"#00cc96\",\"#ab63fa\",\"#FFA15A\",\"#19d3f3\",\"#FF6692\",\"#B6E880\",\"#FF97FF\",\"#FECB52\"],\"font\":{\"color\":\"#2a3f5f\"},\"hovermode\":\"closest\",\"hoverlabel\":{\"align\":\"left\"},\"paper_bgcolor\":\"white\",\"plot_bgcolor\":\"#E5ECF6\",\"polar\":{\"bgcolor\":\"#E5ECF6\",\"angularaxis\":{\"gridcolor\":\"white\",\"linecolor\":\"white\",\"ticks\":\"\"},\"radialaxis\":{\"gridcolor\":\"white\",\"linecolor\":\"white\",\"ticks\":\"\"}},\"ternary\":{\"bgcolor\":\"#E5ECF6\",\"aaxis\":{\"gridcolor\":\"white\",\"linecolor\":\"white\",\"ticks\":\"\"},\"baxis\":{\"gridcolor\":\"white\",\"linecolor\":\"white\",\"ticks\":\"\"},\"caxis\":{\"gridcolor\":\"white\",\"linecolor\":\"white\",\"ticks\":\"\"}},\"coloraxis\":{\"colorbar\":{\"outlinewidth\":0,\"ticks\":\"\"}},\"colorscale\":{\"sequential\":[[0.0,\"#0d0887\"],[0.1111111111111111,\"#46039f\"],[0.2222222222222222,\"#7201a8\"],[0.3333333333333333,\"#9c179e\"],[0.4444444444444444,\"#bd3786\"],[0.5555555555555556,\"#d8576b\"],[0.6666666666666666,\"#ed7953\"],[0.7777777777777778,\"#fb9f3a\"],[0.8888888888888888,\"#fdca26\"],[1.0,\"#f0f921\"]],\"sequentialminus\":[[0.0,\"#0d0887\"],[0.1111111111111111,\"#46039f\"],[0.2222222222222222,\"#7201a8\"],[0.3333333333333333,\"#9c179e\"],[0.4444444444444444,\"#bd3786\"],[0.5555555555555556,\"#d8576b\"],[0.6666666666666666,\"#ed7953\"],[0.7777777777777778,\"#fb9f3a\"],[0.8888888888888888,\"#fdca26\"],[1.0,\"#f0f921\"]],\"diverging\":[[0,\"#8e0152\"],[0.1,\"#c51b7d\"],[0.2,\"#de77ae\"],[0.3,\"#f1b6da\"],[0.4,\"#fde0ef\"],[0.5,\"#f7f7f7\"],[0.6,\"#e6f5d0\"],[0.7,\"#b8e186\"],[0.8,\"#7fbc41\"],[0.9,\"#4d9221\"],[1,\"#276419\"]]},\"xaxis\":{\"gridcolor\":\"white\",\"linecolor\":\"white\",\"ticks\":\"\",\"title\":{\"standoff\":15},\"zerolinecolor\":\"white\",\"automargin\":true,\"zerolinewidth\":2},\"yaxis\":{\"gridcolor\":\"white\",\"linecolor\":\"white\",\"ticks\":\"\",\"title\":{\"standoff\":15},\"zerolinecolor\":\"white\",\"automargin\":true,\"zerolinewidth\":2},\"scene\":{\"xaxis\":{\"backgroundcolor\":\"#E5ECF6\",\"gridcolor\":\"white\",\"linecolor\":\"white\",\"showbackground\":true,\"ticks\":\"\",\"zerolinecolor\":\"white\",\"gridwidth\":2},\"yaxis\":{\"backgroundcolor\":\"#E5ECF6\",\"gridcolor\":\"white\",\"linecolor\":\"white\",\"showbackground\":true,\"ticks\":\"\",\"zerolinecolor\":\"white\",\"gridwidth\":2},\"zaxis\":{\"backgroundcolor\":\"#E5ECF6\",\"gridcolor\":\"white\",\"linecolor\":\"white\",\"showbackground\":true,\"ticks\":\"\",\"zerolinecolor\":\"white\",\"gridwidth\":2}},\"shapedefaults\":{\"line\":{\"color\":\"#2a3f5f\"}},\"annotationdefaults\":{\"arrowcolor\":\"#2a3f5f\",\"arrowhead\":0,\"arrowwidth\":1},\"geo\":{\"bgcolor\":\"white\",\"landcolor\":\"#E5ECF6\",\"subunitcolor\":\"white\",\"showland\":true,\"showlakes\":true,\"lakecolor\":\"white\"},\"title\":{\"x\":0.05},\"mapbox\":{\"style\":\"light\"}}},\"xaxis\":{\"anchor\":\"y\",\"domain\":[0.0,1.0],\"title\":{\"text\":\"Candidate\"}},\"yaxis\":{\"anchor\":\"x\",\"domain\":[0.0,1.0],\"title\":{\"text\":\"Votes\"}},\"legend\":{\"title\":{\"text\":\"Party\"},\"tracegroupgap\":0},\"title\":{\"text\":\"The Candidate With Highest Votes In Each State\"},\"barmode\":\"relative\"},                        {\"responsive\": true}                    ).then(function(){\n",
       "                            \n",
       "var gd = document.getElementById('4523e82a-8290-468f-960c-a6b49e85a955');\n",
       "var x = new MutationObserver(function (mutations, observer) {{\n",
       "        var display = window.getComputedStyle(gd).display;\n",
       "        if (!display || display === 'none') {{\n",
       "            console.log([gd, 'removed!']);\n",
       "            Plotly.purge(gd);\n",
       "            observer.disconnect();\n",
       "        }}\n",
       "}});\n",
       "\n",
       "// Listen for the removal of the full notebook cells\n",
       "var notebookContainer = gd.closest('#notebook-container');\n",
       "if (notebookContainer) {{\n",
       "    x.observe(notebookContainer, {childList: true});\n",
       "}}\n",
       "\n",
       "// Listen for the clearing of the current output cell\n",
       "var outputEl = gd.closest('.output');\n",
       "if (outputEl) {{\n",
       "    x.observe(outputEl, {childList: true});\n",
       "}}\n",
       "\n",
       "                        })                };                });            </script>        </div>"
      ]
     },
     "metadata": {},
     "output_type": "display_data"
    }
   ],
   "source": [
    "#extra features:\n",
    "win_dff = df[df['Elected'] == True]\n",
    "win_dff.loc[win_dff['State'] == 'Missouri', 'Candidate'] = 'Missouri Smith'\n",
    "win_dff.loc[win_dff['State'] == 'Nebraska', 'Candidate'] = 'Nebraska Smith'\n",
    "win_dff.loc[win_dff['State'] == 'New Jersey', 'Candidate'] = 'New Jersey Smith'\n",
    "win_dff_grouped = win_dff.groupby('State').apply(lambda x: x.loc[x['Votes'].idxmax()])\n",
    "win_dff_party = win_dff_grouped[['State','Candidate', 'Party', 'Votes']]\n",
    "bar_chart3 = px.bar(win_dff_party, x='Candidate', y='Votes',hover_name='Candidate',hover_data=['State'],color= 'Party',\n",
    "                    color_discrete_map={'Republician': 'rgb(178,24,43)','Democratic': 'rgb(33,102,172)'},title='The Candidate With Highest Votes In Each State')\n",
    "bar_chart3"
   ]
  },
  {
   "cell_type": "code",
   "execution_count": 26,
   "metadata": {},
   "outputs": [
    {
     "data": {
      "text/html": [
       "<div>\n",
       "<style scoped>\n",
       "    .dataframe tbody tr th:only-of-type {\n",
       "        vertical-align: middle;\n",
       "    }\n",
       "\n",
       "    .dataframe tbody tr th {\n",
       "        vertical-align: top;\n",
       "    }\n",
       "\n",
       "    .dataframe thead th {\n",
       "        text-align: right;\n",
       "    }\n",
       "</style>\n",
       "<table border=\"1\" class=\"dataframe\">\n",
       "  <thead>\n",
       "    <tr style=\"text-align: right;\">\n",
       "      <th></th>\n",
       "      <th>State</th>\n",
       "      <th>State Code</th>\n",
       "      <th>District</th>\n",
       "      <th>Party</th>\n",
       "      <th>Candidate</th>\n",
       "      <th>Incumbent</th>\n",
       "      <th>Votes</th>\n",
       "      <th>Pct%</th>\n",
       "      <th>Elected</th>\n",
       "      <th>Won Party</th>\n",
       "    </tr>\n",
       "  </thead>\n",
       "  <tbody>\n",
       "    <tr>\n",
       "      <th>0</th>\n",
       "      <td>Alabama</td>\n",
       "      <td>AL</td>\n",
       "      <td>1st</td>\n",
       "      <td>Republician</td>\n",
       "      <td>Carl</td>\n",
       "      <td>Yes</td>\n",
       "      <td>139854</td>\n",
       "      <td>84.20%</td>\n",
       "      <td>True</td>\n",
       "      <td>Republician</td>\n",
       "    </tr>\n",
       "    <tr>\n",
       "      <th>1</th>\n",
       "      <td>Alabama</td>\n",
       "      <td>AL</td>\n",
       "      <td>1st</td>\n",
       "      <td>Libertarian</td>\n",
       "      <td>Remrey</td>\n",
       "      <td>No</td>\n",
       "      <td>26197</td>\n",
       "      <td>15.80%</td>\n",
       "      <td>False</td>\n",
       "      <td>Republician</td>\n",
       "    </tr>\n",
       "    <tr>\n",
       "      <th>2</th>\n",
       "      <td>Alabama</td>\n",
       "      <td>AL</td>\n",
       "      <td>2nd</td>\n",
       "      <td>Republician</td>\n",
       "      <td>Moore</td>\n",
       "      <td>Yes</td>\n",
       "      <td>137193</td>\n",
       "      <td>69.20%</td>\n",
       "      <td>True</td>\n",
       "      <td>Republician</td>\n",
       "    </tr>\n",
       "    <tr>\n",
       "      <th>3</th>\n",
       "      <td>Alabama</td>\n",
       "      <td>AL</td>\n",
       "      <td>2nd</td>\n",
       "      <td>Democratic</td>\n",
       "      <td>Harvey-Hall</td>\n",
       "      <td>No</td>\n",
       "      <td>57800</td>\n",
       "      <td>29.10%</td>\n",
       "      <td>False</td>\n",
       "      <td>Republician</td>\n",
       "    </tr>\n",
       "    <tr>\n",
       "      <th>4</th>\n",
       "      <td>Alabama</td>\n",
       "      <td>AL</td>\n",
       "      <td>2nd</td>\n",
       "      <td>Libertarian</td>\n",
       "      <td>Realz</td>\n",
       "      <td>No</td>\n",
       "      <td>3380</td>\n",
       "      <td>1.70%</td>\n",
       "      <td>False</td>\n",
       "      <td>Republician</td>\n",
       "    </tr>\n",
       "    <tr>\n",
       "      <th>...</th>\n",
       "      <td>...</td>\n",
       "      <td>...</td>\n",
       "      <td>...</td>\n",
       "      <td>...</td>\n",
       "      <td>...</td>\n",
       "      <td>...</td>\n",
       "      <td>...</td>\n",
       "      <td>...</td>\n",
       "      <td>...</td>\n",
       "      <td>...</td>\n",
       "    </tr>\n",
       "    <tr>\n",
       "      <th>1055</th>\n",
       "      <td>Wisconsin</td>\n",
       "      <td>WI</td>\n",
       "      <td>8th</td>\n",
       "      <td>Libertarian</td>\n",
       "      <td>VandenPlas</td>\n",
       "      <td>No</td>\n",
       "      <td>32043</td>\n",
       "      <td>10.50%</td>\n",
       "      <td>False</td>\n",
       "      <td>Republician</td>\n",
       "    </tr>\n",
       "    <tr>\n",
       "      <th>1056</th>\n",
       "      <td>Wyoming</td>\n",
       "      <td>WY</td>\n",
       "      <td>At Large</td>\n",
       "      <td>Republician</td>\n",
       "      <td>Harriet Hageman</td>\n",
       "      <td>No</td>\n",
       "      <td>132215</td>\n",
       "      <td>69.80%</td>\n",
       "      <td>True</td>\n",
       "      <td>Republician</td>\n",
       "    </tr>\n",
       "    <tr>\n",
       "      <th>1057</th>\n",
       "      <td>Wyoming</td>\n",
       "      <td>WY</td>\n",
       "      <td>At Large</td>\n",
       "      <td>Democratic</td>\n",
       "      <td>Lynnette GreyBull</td>\n",
       "      <td>No</td>\n",
       "      <td>47241</td>\n",
       "      <td>24.90%</td>\n",
       "      <td>False</td>\n",
       "      <td>Republician</td>\n",
       "    </tr>\n",
       "    <tr>\n",
       "      <th>1058</th>\n",
       "      <td>Wyoming</td>\n",
       "      <td>WY</td>\n",
       "      <td>At Large</td>\n",
       "      <td>Libertarian</td>\n",
       "      <td>Richard Brubaker</td>\n",
       "      <td>No</td>\n",
       "      <td>5420</td>\n",
       "      <td>2.90%</td>\n",
       "      <td>False</td>\n",
       "      <td>Republician</td>\n",
       "    </tr>\n",
       "    <tr>\n",
       "      <th>1059</th>\n",
       "      <td>Wyoming</td>\n",
       "      <td>WY</td>\n",
       "      <td>At Large</td>\n",
       "      <td>Other</td>\n",
       "      <td>Marissa Selvig</td>\n",
       "      <td>No</td>\n",
       "      <td>4503</td>\n",
       "      <td>2.40%</td>\n",
       "      <td>False</td>\n",
       "      <td>Republician</td>\n",
       "    </tr>\n",
       "  </tbody>\n",
       "</table>\n",
       "<p>1057 rows × 10 columns</p>\n",
       "</div>"
      ],
      "text/plain": [
       "          State State Code  District        Party          Candidate  \\\n",
       "0       Alabama         AL       1st  Republician               Carl   \n",
       "1       Alabama         AL       1st  Libertarian             Remrey   \n",
       "2       Alabama         AL       2nd  Republician              Moore   \n",
       "3       Alabama         AL       2nd   Democratic        Harvey-Hall   \n",
       "4       Alabama         AL       2nd  Libertarian              Realz   \n",
       "...         ...        ...       ...          ...                ...   \n",
       "1055  Wisconsin         WI       8th  Libertarian         VandenPlas   \n",
       "1056    Wyoming         WY  At Large  Republician    Harriet Hageman   \n",
       "1057    Wyoming         WY  At Large   Democratic  Lynnette GreyBull   \n",
       "1058    Wyoming         WY  At Large  Libertarian   Richard Brubaker   \n",
       "1059    Wyoming         WY  At Large        Other     Marissa Selvig   \n",
       "\n",
       "     Incumbent   Votes    Pct%  Elected    Won Party  \n",
       "0          Yes  139854  84.20%     True  Republician  \n",
       "1           No   26197  15.80%    False  Republician  \n",
       "2          Yes  137193  69.20%     True  Republician  \n",
       "3           No   57800  29.10%    False  Republician  \n",
       "4           No    3380   1.70%    False  Republician  \n",
       "...        ...     ...     ...      ...          ...  \n",
       "1055        No   32043  10.50%    False  Republician  \n",
       "1056        No  132215  69.80%     True  Republician  \n",
       "1057        No   47241  24.90%    False  Republician  \n",
       "1058        No    5420   2.90%    False  Republician  \n",
       "1059        No    4503   2.40%    False  Republician  \n",
       "\n",
       "[1057 rows x 10 columns]"
      ]
     },
     "execution_count": 26,
     "metadata": {},
     "output_type": "execute_result"
    }
   ],
   "source": [
    "#Extra feature showing all candidates in the district\n",
    "#datasets for bar chart4\n",
    "dff4 = df\n",
    "dff4 = dff4.replace({'Libertarian Party': 'Libertarian', 'Green Party': 'Green', 'Independent Party': 'Independent', 'Other Party': 'Other'})\n",
    "dff4"
   ]
  },
  {
   "cell_type": "code",
   "execution_count": 27,
   "metadata": {},
   "outputs": [
    {
     "name": "stdout",
     "output_type": "stream",
     "text": [
      "Dash is running on http://127.0.0.1:8639/\n",
      "\n"
     ]
    },
    {
     "data": {
      "text/html": [
       "\n",
       "        <iframe\n",
       "            width=\"100%\"\n",
       "            height=\"650\"\n",
       "            src=\"http://127.0.0.1:8639/\"\n",
       "            frameborder=\"0\"\n",
       "            allowfullscreen\n",
       "        ></iframe>\n",
       "        "
      ],
      "text/plain": [
       "<IPython.lib.display.IFrame at 0x7f9674f628b0>"
      ]
     },
     "metadata": {},
     "output_type": "display_data"
    }
   ],
   "source": [
    "#program without extra features\n",
    "# instantiate a JupyterDash object instead of a Dash object\n",
    "app = JupyterDash(__name__)\n",
    "app.layout = html.Div([html.Div([html.H1(children='US House Election 2022', id=\"heading\"),\n",
    "                       html.Hr()]),\n",
    "                      html.Div([html.P(children=f'Total seats: {len(df_plot)} | Republician won: {len(df_repu)} | Democratic won: {len(df_demo)}',\n",
    "                             style={'font-weight': 'bold'}),\n",
    "                                dcc.Graph(id='us-election-2022-fig', figure=fig,clickData={'points': [{'customdata': ['AL']}]})],\n",
    "                               style={'width': '70%', 'display': 'inline-block', 'padding': '0 20', 'float': 'left'}),\n",
    "                       html.Div([html.P(id ='winning_statement',style={'font-weight': 'bold','font-size': '13px'}),dcc.Graph(id='winning-party-votes',clickData={'points': [{'customdata': ['AL']}]}),dcc.Graph(id='winning-districts-votes')],\n",
    "                               style={'width': '29%', 'display': 'inline-block', 'padding': '0 20', 'float': 'right'})\n",
    "                       \n",
    "                        ])\n",
    "\n",
    "\n",
    "@app.callback(Output('winning_statement','children'),\n",
    "              Output('winning-party-votes','figure'),\n",
    "              Output('winning-districts-votes','figure'),\n",
    "              Input('us-election-2022-fig', 'clickData')) \n",
    "def UsElection(received):\n",
    "    if not received: \n",
    "        raise PreventUpdate\n",
    "    received_data = received['points'][0]['customdata'][0]\n",
    "    won_parties = final_df.loc[final_df['State Code'] == received_data,'Won Party'].values[0]\n",
    "    win_statement = f'Winning Party: {won_parties}'\n",
    "    dff = partyvotes_df[partyvotes_df['State Code'] == received_data]\n",
    "    required_state = df.loc[df['State Code'] == received_data, 'State'].values[0]\n",
    "    bar_chart = px.bar(dff, x='Parties',\n",
    "                         y='Votes',title= f'State: {required_state}',color= 'Parties',hover_data=['color'],\n",
    "                       color_discrete_map={\n",
    "        'Republician': 'rgb(178,24,43)',\n",
    "        'Democratic': 'rgb(33,102,172)',\n",
    "        'Libertarian': 'rgb(253,219,199)',\n",
    "        'Green': 'rgb (0,128,0)',\n",
    "        'Independent': 'rgb(255,255,0)',\n",
    "    },category_orders={'Parties':['Republician','Democratic']})\n",
    "    bar_chart.update_layout(height=300,width=500)\n",
    "    dff2 = districtvotes_df[districtvotes_df['State Code'] == received_data]\n",
    "    bar_chart2 = px.bar(dff2, x='District',\n",
    "                         y='Votes',title=f'Number of district:{len(dff2)}',color= 'Party',color_discrete_map={\n",
    "                             'Republician': 'rgb(178,24,43)',\n",
    "                             'Democratic': 'rgb(33,102,172)'\n",
    "                         },hover_data=['Candidate', 'Incumbent'],category_orders={'Party':['Republician','Democratic']})\n",
    "    bar_chart2.update_layout(height=300,width=500)\n",
    "    return win_statement,bar_chart,bar_chart2\n",
    "    \n",
    "\n",
    "\n",
    "app.run_server(mode='inline', port=8639)"
   ]
  },
  {
   "cell_type": "code",
   "execution_count": 28,
   "metadata": {},
   "outputs": [
    {
     "name": "stdout",
     "output_type": "stream",
     "text": [
      "Dash is running on http://127.0.0.1:8139/\n",
      "\n"
     ]
    },
    {
     "data": {
      "text/html": [
       "\n",
       "        <iframe\n",
       "            width=\"100%\"\n",
       "            height=\"650\"\n",
       "            src=\"http://127.0.0.1:8139/\"\n",
       "            frameborder=\"0\"\n",
       "            allowfullscreen\n",
       "        ></iframe>\n",
       "        "
      ],
      "text/plain": [
       "<IPython.lib.display.IFrame at 0x7f9674ef9b50>"
      ]
     },
     "metadata": {},
     "output_type": "display_data"
    }
   ],
   "source": [
    "#with extra features\n",
    "# instantiate a JupyterDash object instead of a Dash object\n",
    "app = JupyterDash(__name__)\n",
    "app.layout = html.Div([html.Div([html.H1(children='US House Election 2022', id=\"heading\"),\n",
    "                       html.Hr()]),\n",
    "                      html.Div([html.P(children=f'Total seats: {len(df_plot)} | Republician won: {len(df_repu)} | Democratic won: {len(df_demo)}',\n",
    "                             style={'font-weight': 'bold'}),\n",
    "                                dcc.Graph(id='us-election-2022-fig', figure=fig,clickData={'points': [{'customdata': ['AL']}]}),\n",
    "                                dcc.Graph(id='winning_candidates',figure=bar_chart3)],\n",
    "                               style={'width': '70%', 'display': 'inline-block', 'padding': '0 20', 'float': 'left'}),\n",
    "                       html.Div([html.P(id ='winning_statement',style={'font-weight': 'bold','font-size': '13px'}),\n",
    "                                 dcc.Graph(id='winning-party-votes'),\n",
    "                                 dcc.Graph(id='winning-districts-votes',clickData={'points': [{'customdata': ['Carl']}]}),\n",
    "                                 dcc.Graph(id='other-candidates')],\n",
    "                               style={'width': '29%', 'display': 'inline-block', 'padding': '0 20', 'float': 'right'})\n",
    "                       \n",
    "                        ])\n",
    "\n",
    "\n",
    "@app.callback(Output('winning_statement','children'),\n",
    "              Output('winning-party-votes','figure'),\n",
    "              Output('winning-districts-votes','figure'),\n",
    "              Input('us-election-2022-fig', 'clickData'))\n",
    "def UsElection(received):\n",
    "    if not received: \n",
    "        raise PreventUpdate\n",
    "    received_data = received['points'][0]['customdata'][0]\n",
    "    won_parties = final_df.loc[final_df['State Code'] == received_data,'Won Party'].values[0]\n",
    "    win_statement = f'Winning Party: {won_parties}'\n",
    "    dff = partyvotes_df[partyvotes_df['State Code'] == received_data]\n",
    "    required_state = df.loc[df['State Code'] == received_data, 'State'].values[0]\n",
    "    bar_chart = px.bar(dff, x='Parties',\n",
    "                         y='Votes',title= f'State: {required_state}',color= 'Parties',hover_data=['color'],\n",
    "                       color_discrete_map={'Republician': 'rgb(178,24,43)',\n",
    "                                           'Democratic': 'rgb(33,102,172)',\n",
    "                                           'Libertarian': 'rgb(253,219,199)',\n",
    "                                           'Green': 'rgb (0,128,0)',\n",
    "                                           'Independent': 'rgb(255,255,0)',\n",
    "                                           'Other': 'rgb(26,211,243)'},\n",
    "                       category_orders={'Parties':['Republician','Democratic']})\n",
    "    bar_chart.update_layout(height=300,width=500)\n",
    "    dff2 = districtvotes_df[districtvotes_df['State Code'] == received_data]\n",
    "    bar_chart2 = px.bar(dff2, x='District',\n",
    "                         y='Votes',title=f'Number of district:{len(dff2)}',color= 'Party',color_discrete_map={\n",
    "                             'Republician': 'rgb(178,24,43)',\n",
    "                             'Democratic': 'rgb(33,102,172)'\n",
    "                         },hover_data=['Candidate', 'Incumbent'],category_orders={'Party':['Republician','Democratic']})\n",
    "    bar_chart2.update_layout(height=300,width=500)\n",
    "    \n",
    "    \n",
    "    return win_statement,bar_chart,bar_chart2\n",
    "\n",
    "@app.callback(Output('other-candidates','figure'),\n",
    "              Input('winning-districts-votes','clickData'))     \n",
    "\n",
    "def District_Data(clickData):\n",
    "    if not clickData:\n",
    "        raise PreventUpdate\n",
    "    candidate = clickData['points'][0]['customdata'][0]\n",
    "    district = df.loc[df['Candidate'] == candidate,'District'].values[0]\n",
    "    state = df.loc[df['Candidate'] == candidate,'State'].values[0]\n",
    "    dff4 = df[df['State'] == state]\n",
    "    dff4 = dff4[dff4['District'] == district]\n",
    "    dff4 = dff4.replace({'Libertarian Party': 'Libertarian', 'Green Party': 'Green', 'Independent Party': 'Independent', 'Other Party': 'Other'})\n",
    "    bar_chart4 = px.bar(dff4, x='Candidate', y='Votes', title=f'All candidates in {district} district of {state}',\n",
    "                color='Party', color_discrete_map={'Republician': 'rgb(178,24,43)',\n",
    "                                                   'Democratic': 'rgb(33,102,172)',\n",
    "                                                   'Libertarian': 'rgb(253,219,199)',\n",
    "                                                   'Green': 'rgb (0,128,0)',\n",
    "                                                   'Independent': 'rgb(255,255,0)',\n",
    "                                                   'Other': 'rgb(26,211,243)'},\n",
    "                hover_data=['Candidate', 'Incumbent', 'Votes', 'Pct%'], category_orders={'Party': ['Republican', 'Democratic']})\n",
    "    bar_chart4.update_layout(height=300, width=500)\n",
    "    return bar_chart4\n",
    "\n",
    "app.run_server(mode='inline', port=8139)"
   ]
  }
 ],
 "metadata": {
  "kernelspec": {
   "display_name": "Python 3",
   "language": "python",
   "name": "python3"
  },
  "language_info": {
   "codemirror_mode": {
    "name": "ipython",
    "version": 3
   },
   "file_extension": ".py",
   "mimetype": "text/x-python",
   "name": "python",
   "nbconvert_exporter": "python",
   "pygments_lexer": "ipython3",
   "version": "3.8.5"
  }
 },
 "nbformat": 4,
 "nbformat_minor": 4
}
